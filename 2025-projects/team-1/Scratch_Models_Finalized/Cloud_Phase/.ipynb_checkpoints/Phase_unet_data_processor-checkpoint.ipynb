{
 "cells": [
  {
   "cell_type": "code",
   "execution_count": 1,
   "id": "94826588-e9c8-4337-8908-be266ab0f95b",
   "metadata": {},
   "outputs": [],
   "source": [
    "#IMPORTS\n",
    "\n",
    "#File IO\n",
    "import os\n",
    "import glob\n",
    "\n",
    "#Data manipulation\n",
    "import numpy as np\n",
    "\n",
    "#Pytorch\n",
    "import torch\n",
    "from torch.utils.data import TensorDataset, DataLoader, random_split\n",
    "\n",
    "#Misc\n",
    "from tqdm import tqdm\n"
   ]
  },
  {
   "cell_type": "code",
   "execution_count": 3,
   "id": "b303c629-ac61-4b9c-ac05-ebd725c46a56",
   "metadata": {},
   "outputs": [],
   "source": [
    "#GET TARGET DATA\n",
    "\n",
    "def get_phase(file):\n",
    "    data = np.load(file)\n",
    "    bands = data['rad']\n",
    "    cloud_phase = data['l2_cloud_phase']\n",
    "    return bands, cloud_phase"
   ]
  },
  {
   "cell_type": "code",
   "execution_count": null,
   "id": "9db8ab59-a6c0-4542-8b94-89ecba5d324b",
   "metadata": {},
   "outputs": [
    {
     "name": "stderr",
     "output_type": "stream",
     "text": [
      "8965it [06:53, 21.78it/s]"
     ]
    }
   ],
   "source": [
    "#CREATE DATASET\n",
    "\n",
    "max_images = 15000\n",
    "file_list = glob.glob('../ABI_Data/*.npz')\n",
    "\n",
    "X = []\n",
    "y = []\n",
    "\n",
    "for i, file in tqdm(enumerate(file_list)):\n",
    "    features, target = get_phase(file)\n",
    "    X.append(features)\n",
    "    y.append(target)\n",
    "    if i == max_images-1: break\n",
    "\n",
    "X = np.stack(X)  # shape: (Samples, 128, 128, 16)\n",
    "X = torch.from_numpy(X).float()\n",
    "X = X.permute(0, 3, 1, 2)  # shape: (Samples, 16, 128, 128)\n",
    "\n",
    "y = np.stack(y)\n",
    "y = torch.from_numpy(y).long()\n",
    "\n",
    "dataset = TensorDataset(X, y)\n",
    "torch.save(dataset, \"phase_unet_dataset.pt\")"
   ]
  }
 ],
 "metadata": {
  "kernelspec": {
   "display_name": "Python 3 (ipykernel)",
   "language": "python",
   "name": "python3"
  },
  "language_info": {
   "codemirror_mode": {
    "name": "ipython",
    "version": 3
   },
   "file_extension": ".py",
   "mimetype": "text/x-python",
   "name": "python",
   "nbconvert_exporter": "python",
   "pygments_lexer": "ipython3",
   "version": "3.12.11"
  }
 },
 "nbformat": 4,
 "nbformat_minor": 5
}
