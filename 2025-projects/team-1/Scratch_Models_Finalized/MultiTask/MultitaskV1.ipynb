{
 "cells": [
  {
   "cell_type": "code",
   "execution_count": 1,
   "id": "88e4efb0-f18e-46c5-8a19-0ca88b6a43a3",
   "metadata": {},
   "outputs": [],
   "source": [
    "# !pip install"
   ]
  },
  {
   "cell_type": "markdown",
   "id": "d8867195-b847-4db4-8db4-86159cbf0e6a",
   "metadata": {},
   "source": [
    "# Import"
   ]
  },
  {
   "cell_type": "code",
   "execution_count": 1,
   "id": "bab5341d-5342-412a-afdd-8da346aae002",
   "metadata": {},
   "outputs": [],
   "source": [
    "import os\n",
    "import numpy as np\n",
    "import pandas as pd\n",
    "from tqdm import tqdm\n",
    "import torch\n",
    "import torch.nn as nn\n",
    "import torch.nn.functional as F\n",
    "from torch.utils.data import TensorDataset, DataLoader, random_split, Dataset\n",
    "import matplotlib.pyplot as plt\n",
    "from sklearn.model_selection import train_test_split\n",
    "from sklearn.metrics import accuracy_score, mean_absolute_error"
   ]
  },
  {
   "cell_type": "markdown",
   "id": "0bf3c451-25a7-4e3d-a312-a3fe640dbcc0",
   "metadata": {},
   "source": [
    "# CONFIG"
   ]
  },
  {
   "cell_type": "code",
   "execution_count": 2,
   "id": "32caf1b6-ed6b-44cb-81af-d27522f0ed35",
   "metadata": {},
   "outputs": [
    {
     "name": "stdout",
     "output_type": "stream",
     "text": [
      "cuda\n"
     ]
    }
   ],
   "source": [
    "data_dir = '../ABI_Data'\n",
    "data_load_from_file = False\n",
    "pickle_path = './dataframe.pkl'\n",
    "pickle_create = False\n",
    "pickle_load = False\n",
    "\n",
    "num_epochs = 50\n",
    "batch_size = 16\n",
    "train_proportion = .8\n",
    "val_proportion = .1\n",
    "\n",
    "device = torch.device(\"cuda\" if torch.cuda.is_available() else \"cpu\")\n",
    "print(device)"
   ]
  },
  {
   "cell_type": "markdown",
   "id": "037fb76f-cfba-4a4a-b6a2-041423df675c",
   "metadata": {},
   "source": [
    "# Code"
   ]
  },
  {
   "cell_type": "code",
   "execution_count": 4,
   "id": "2fa0e7fa-0e4c-411b-86a4-deab428c6aeb",
   "metadata": {},
   "outputs": [
    {
     "name": "stdout",
     "output_type": "stream",
     "text": [
      "Loading Pickle\n",
      "Pickle Loaded\n"
     ]
    }
   ],
   "source": [
    "if data_load_from_file or pickle_create:\n",
    "    print(\"Files start\")\n",
    "    files = [f for f in os.listdir(data_dir) if f.endswith('.npz')][:100]\n",
    "    print(\"Files done\")\n",
    "    \n",
    "    records = []\n",
    "    print(\"Records start\")\n",
    "    for file in tqdm(files):\n",
    "        path = os.path.join(data_dir, file)\n",
    "        try:\n",
    "            data = np.load(path)\n",
    "            records.extend([{k: arr[i] for k, arr in data.items()} for i in range(len(next(iter(data.values()))))])\n",
    "            # print(f\"Loaded: {file}\")\n",
    "        except Exception as e:\n",
    "            print(f\"Failed to load: {file} : {e}\")\n",
    "            pass\n",
    "    \n",
    "    print(\"DF start\")\n",
    "    df = pd.DataFrame(records)\n",
    "    print(\"DF done\")\n",
    "    if pickle_create:\n",
    "        print(\"Starting pickle\")\n",
    "        df.to_pickle(pickle_path)\n",
    "        print(f\"Pickle saved to: {pickle_path}\")\n",
    "        \n",
    "if pickle_load:\n",
    "    print(\"Loading Pickle\")\n",
    "    df = pd.read_pickle('dataframe.pkl')\n",
    "    print(\"Pickle Loaded\")"
   ]
  },
  {
   "cell_type": "code",
   "execution_count": 5,
   "id": "34ea9ac0-651b-4344-99e0-ce0477a7194a",
   "metadata": {},
   "outputs": [],
   "source": [
    "# def print_column_info(df):\n",
    "#     for col in df.columns:\n",
    "#         dtype = df[col].dtype\n",
    "#         sample = df[col].dropna().iloc[0] if not df[col].dropna().empty else \"NaN\"\n",
    "#         print(f\"{col}: {dtype}, sample: {sample}\")\n",
    "# print_column_info(df)\n"
   ]
  },
  {
   "cell_type": "code",
   "execution_count": 6,
   "id": "1d0644fa-97be-491e-8899-be3bc42e79bf",
   "metadata": {},
   "outputs": [
    {
     "name": "stdout",
     "output_type": "stream",
     "text": [
      "Remaining samples after dropping NaNs: 12800\n"
     ]
    }
   ],
   "source": [
    "df = df.dropna(subset=['l2_cloud_mask', 'l2_cloud_phase', 'l2_cod', 'l2_cps'])\n",
    "print(f\"Remaining samples after dropping NaNs: {len(df)}\")"
   ]
  },
  {
   "cell_type": "code",
   "execution_count": 7,
   "id": "a41ae380-778e-4d37-b33f-d0b5ea76b6a4",
   "metadata": {},
   "outputs": [],
   "source": [
    "def preprocess(df):\n",
    "    # Inputs: stack rad arrays (N samples, 128 rows, 16 channels)\n",
    "    # We want shape (N, channels=16, height=128)\n",
    "    rad_np = np.stack(df['rad'].values)  # shape (N, 128, 16)\n",
    "    X = torch.tensor(rad_np, dtype=torch.float32).permute(0, 2, 1)  # (N, 16, 128)\n",
    "    \n",
    "    # Targets: stack and convert\n",
    "    y_mask = torch.tensor(np.stack(df['l2_cloud_mask'].values), dtype=torch.long)    # (N, 128)\n",
    "    y_phase = torch.tensor(np.stack(df['l2_cloud_phase'].values), dtype=torch.long)  # (N, 128)\n",
    "    y_cod = torch.tensor(np.stack(df['l2_cod'].values), dtype=torch.float32)         # (N, 128)\n",
    "    y_cps = torch.tensor(np.stack(df['l2_cps'].values), dtype=torch.float32)         # (N, 128)\n",
    "    \n",
    "    return X, y_mask, y_phase, y_cod, y_cps\n",
    "\n",
    "X, y_mask, y_phase, y_cod, y_cps = preprocess(df)"
   ]
  },
  {
   "cell_type": "code",
   "execution_count": 8,
   "id": "f3c83796-60a6-43f8-a083-4352f21fcb8a",
   "metadata": {},
   "outputs": [],
   "source": [
    "class MultiTaskModel(nn.Module):\n",
    "    def __init__(self, in_channels=16, seq_length=128):\n",
    "        super().__init__()\n",
    "        \n",
    "        # Shared feature extractor (1D Conv layers)\n",
    "        self.conv1 = nn.Conv1d(in_channels, 64, kernel_size=5, padding=2)\n",
    "        self.bn1 = nn.BatchNorm1d(64)\n",
    "        \n",
    "        self.conv2 = nn.Conv1d(64, 128, kernel_size=5, padding=2)\n",
    "        self.bn2 = nn.BatchNorm1d(128)\n",
    "        \n",
    "        self.conv3 = nn.Conv1d(128, 256, kernel_size=3, padding=1)\n",
    "        self.bn3 = nn.BatchNorm1d(256)\n",
    "        \n",
    "        self.dropout = nn.Dropout(0.3)\n",
    "        \n",
    "        # Heads for each task:\n",
    "        # Classification tasks output logits for each class per position\n",
    "        # Assuming l2_cloud_mask and l2_cloud_phase are classes with known number of classes:\n",
    "        self.mask_head = nn.Conv1d(256, 2, kernel_size=1)  # 2 classes: mask/no-mask\n",
    "        self.phase_head = nn.Conv1d(256, 5, kernel_size=1)\n",
    "        \n",
    "        # Regression tasks output a single float per position\n",
    "        self.cod_head = nn.Conv1d(256, 1, kernel_size=1)\n",
    "        self.cps_head = nn.Conv1d(256, 1, kernel_size=1)\n",
    "        \n",
    "    def forward(self, x):\n",
    "        # x: (batch, channels=16, length=128)\n",
    "        x = F.relu(self.bn1(self.conv1(x)))\n",
    "        x = F.relu(self.bn2(self.conv2(x)))\n",
    "        x = F.relu(self.bn3(self.conv3(x)))\n",
    "        x = self.dropout(x)\n",
    "        \n",
    "        # Heads\n",
    "        mask_logits = self.mask_head(x)\n",
    "        phase_logits = self.phase_head(x)\n",
    "        \n",
    "        cod_pred = self.cod_head(x).squeeze(1)\n",
    "        cps_pred = self.cps_head(x).squeeze(1)\n",
    "        \n",
    "        return mask_logits, phase_logits, cod_pred, cps_pred"
   ]
  },
  {
   "cell_type": "code",
   "execution_count": 9,
   "id": "084fc97d-9724-442a-9674-45efb4a8f715",
   "metadata": {},
   "outputs": [],
   "source": [
    "# model = MultiTaskModel()\n",
    "\n",
    "# # Example input batch\n",
    "# # X shape: (batch_size, 16, 128)\n",
    "# X = torch.randn(4, 16, 128)\n",
    "\n",
    "# mask_logits, phase_logits, cod_pred, cps_pred = model(X)\n",
    "# print(mask_logits.shape)  # (4, 128)\n",
    "# print(phase_logits.shape) # (4, 128)\n",
    "# print(cod_pred.shape)     # (4, 128)\n",
    "# print(cps_pred.shape)     # (4, 128)\n"
   ]
  },
  {
   "cell_type": "code",
   "execution_count": 10,
   "id": "ab5b51bd-619a-48c1-a5f0-193b652f4d99",
   "metadata": {},
   "outputs": [],
   "source": [
    "mask_loss_fn = nn.CrossEntropyLoss()   # expects shape (N, C, L), targets shape (N, L)\n",
    "phase_loss_fn = nn.CrossEntropyLoss()\n",
    "cod_loss_fn = nn.MSELoss()\n",
    "cps_loss_fn = nn.MSELoss()\n",
    "\n",
    "def multitask_loss(outputs, targets, weights=None):\n",
    "    mask_logits, phase_logits, cod_pred, cps_pred = outputs\n",
    "    mask_target, phase_target, cod_target, cps_target = targets\n",
    "        \n",
    "    # CrossEntropyLoss expects target shape (N, L) with class indices (long)\n",
    "    loss_mask = mask_loss_fn(mask_logits, mask_target.long())\n",
    "    loss_phase = phase_loss_fn(phase_logits, phase_target.long())\n",
    "    \n",
    "    # Regression losses: input and target shape (N, L), float\n",
    "    loss_cod = cod_loss_fn(cod_pred, cod_target)\n",
    "    loss_cps = cps_loss_fn(cps_pred, cps_target)\n",
    "    \n",
    "    # Combine losses with optional weighting\n",
    "    if weights is None:\n",
    "        weights = [1.0, 1.0, 1.0, 1.0]\n",
    "    \n",
    "    total_loss = weights[0]*loss_mask + weights[1]*loss_phase + weights[2]*loss_cod + weights[3]*loss_cps\n",
    "    return total_loss, (loss_mask, loss_phase, loss_cod, loss_cps)\n",
    "\n",
    "def compute_accuracy(logits, targets):\n",
    "    preds = torch.argmax(logits, dim=1)  # shape: (batch, seq_len)\n",
    "    correct = (preds == targets).float()\n",
    "    return correct.mean().item()\n",
    "\n",
    "def compute_metrics(outputs, targets):\n",
    "    mask_logits, phase_logits, cod_pred, cps_pred = outputs\n",
    "    y_mask, y_phase, y_cod, y_cps = targets\n",
    "\n",
    "    # Get predicted classes\n",
    "    mask_preds = torch.argmax(mask_logits, dim=1).detach().cpu().numpy()\n",
    "    phase_preds = torch.argmax(phase_logits, dim=1).detach().cpu().numpy()\n",
    "    \n",
    "    # True classes\n",
    "    y_mask_np = y_mask.detach().cpu().numpy()\n",
    "    y_phase_np = y_phase.detach().cpu().numpy()\n",
    "    \n",
    "    # Classification accuracy\n",
    "    mask_acc = accuracy_score(y_mask_np.flatten(), mask_preds.flatten())\n",
    "    phase_acc = accuracy_score(y_phase_np.flatten(), phase_preds.flatten())\n",
    "\n",
    "    # Regression metrics\n",
    "    cod_mae = mean_absolute_error(y_cod.detach().cpu().numpy().flatten(), cod_pred.detach().cpu().numpy().flatten())\n",
    "    cps_mae = mean_absolute_error(y_cps.detach().cpu().numpy().flatten(), cps_pred.detach().cpu().numpy().flatten())\n",
    "\n",
    "    return mask_acc, phase_acc, cod_mae, cps_mae\n"
   ]
  },
  {
   "cell_type": "code",
   "execution_count": 11,
   "id": "931a36fc-e388-4761-96ad-7989b0593796",
   "metadata": {},
   "outputs": [],
   "source": [
    "class MultiTaskDataset(Dataset):\n",
    "    def __init__(self, df):\n",
    "\n",
    "        self.df = df.reset_index(drop=True)\n",
    "        \n",
    "        # # Filter samples where all dqf flags equal 1 inside arrays\n",
    "        # valid_mask = df['l2_dqf_cloud_mask'].apply(lambda arr: (arr == 1).all())\n",
    "        # valid_phase = df['l2_dqf_cloud_phase'].apply(lambda arr: (arr == 1).all())\n",
    "        # valid_cod = df['l2_dqf_cod'].apply(lambda arr: (arr == 1).all())\n",
    "        # valid_cps = df['l2_dqf_cps'].apply(lambda arr: (arr == 1).all())\n",
    "\n",
    "        # valid_idx = valid_mask & valid_phase & valid_cod & valid_cps\n",
    "\n",
    "        # self.df = df[valid_idx].reset_index(drop=True)\n",
    "        \n",
    "    def __len__(self):\n",
    "        return len(self.df)\n",
    "    \n",
    "    def __getitem__(self, idx):\n",
    "        # Get rad input: shape (128, 16) -> transpose to (16, 128)\n",
    "        rad = self.df.loc[idx, 'rad'].astype('float32').T  # final shape: (16, 128)\n",
    "        \n",
    "        # Targets (all shape (128,))\n",
    "        mask = self.df.loc[idx, 'l2_cloud_mask'].astype('int64')\n",
    "        phase = self.df.loc[idx, 'l2_cloud_phase'].astype('int64')\n",
    "        cod = self.df.loc[idx, 'l2_cod'].astype('float32')\n",
    "        cps = self.df.loc[idx, 'l2_cps'].astype('float32')\n",
    "        \n",
    "        # Convert to torch tensors\n",
    "        rad_t = torch.tensor(rad)       # shape: (16, 128)\n",
    "        mask_t = torch.tensor(mask)     # shape: (128,)\n",
    "        phase_t = torch.tensor(phase)   # shape: (128,)\n",
    "        cod_t = torch.tensor(cod)       # shape: (128,)\n",
    "        cps_t = torch.tensor(cps)       # shape: (128,)\n",
    "        \n",
    "        return rad_t, mask_t, phase_t, cod_t, cps_t"
   ]
  },
  {
   "cell_type": "code",
   "execution_count": 12,
   "id": "10ebd3c9-85ad-4783-bec5-7e56df323e52",
   "metadata": {},
   "outputs": [],
   "source": [
    "dataset = MultiTaskDataset(df)\n",
    "model = MultiTaskModel()\n",
    "model.to(device)\n",
    "loader = DataLoader(dataset, batch_size=batch_size, shuffle=True)\n",
    "optimizer = torch.optim.Adam(model.parameters(), lr=1e-3)\n",
    "loss_weights = [1.0,1.0,1.0,1.0]"
   ]
  },
  {
   "cell_type": "code",
   "execution_count": 13,
   "id": "dcce7e9a-9160-47d5-ba61-b0e6e81c2a2e",
   "metadata": {
    "editable": true,
    "slideshow": {
     "slide_type": ""
    },
    "tags": []
   },
   "outputs": [
    {
     "name": "stdout",
     "output_type": "stream",
     "text": [
      "Epoch 1/50, Loss: 245589203864.0000, Mask Acc: 0.7873, Phase Acc: 0.4842, COD MAE: 3257.50, CPS MAE: 11381.35\n",
      "Epoch 2/50, Loss: 219837773288.0000, Mask Acc: 0.8154, Phase Acc: 0.4690, COD MAE: 2953.29, CPS MAE: 10624.25\n",
      "Epoch 3/50, Loss: 183839933320.0000, Mask Acc: 0.8840, Phase Acc: 0.4980, COD MAE: 2935.96, CPS MAE: 9404.77\n",
      "Epoch 4/50, Loss: 149685685412.0000, Mask Acc: 0.9044, Phase Acc: 0.5477, COD MAE: 3133.27, CPS MAE: 8017.79\n",
      "Epoch 5/50, Loss: 121758878554.0000, Mask Acc: 0.9129, Phase Acc: 0.5550, COD MAE: 3281.07, CPS MAE: 6737.27\n",
      "Epoch 6/50, Loss: 101707889564.0000, Mask Acc: 0.9169, Phase Acc: 0.5653, COD MAE: 3318.58, CPS MAE: 5758.44\n",
      "Epoch 7/50, Loss: 90294513796.0000, Mask Acc: 0.9224, Phase Acc: 0.5686, COD MAE: 3274.82, CPS MAE: 5183.36\n",
      "Epoch 8/50, Loss: 84382125688.0000, Mask Acc: 0.9256, Phase Acc: 0.5900, COD MAE: 3214.93, CPS MAE: 5007.17\n",
      "Epoch 9/50, Loss: 80139179784.0000, Mask Acc: 0.9263, Phase Acc: 0.6041, COD MAE: 2979.87, CPS MAE: 4979.89\n",
      "Epoch 10/50, Loss: 76114676616.0000, Mask Acc: 0.9260, Phase Acc: 0.6054, COD MAE: 2668.40, CPS MAE: 4979.09\n",
      "Epoch 11/50, Loss: 72677835250.0000, Mask Acc: 0.9284, Phase Acc: 0.6154, COD MAE: 2431.88, CPS MAE: 4953.80\n",
      "Epoch 12/50, Loss: 69998512620.0000, Mask Acc: 0.9307, Phase Acc: 0.6243, COD MAE: 2287.28, CPS MAE: 4910.35\n",
      "Epoch 13/50, Loss: 67984845342.0000, Mask Acc: 0.9332, Phase Acc: 0.6309, COD MAE: 2235.56, CPS MAE: 4872.66\n",
      "Epoch 14/50, Loss: 66442448842.0000, Mask Acc: 0.9320, Phase Acc: 0.6358, COD MAE: 2198.56, CPS MAE: 4856.01\n",
      "Epoch 15/50, Loss: 64491061150.0000, Mask Acc: 0.9330, Phase Acc: 0.6398, COD MAE: 2193.07, CPS MAE: 4768.32\n",
      "Epoch 16/50, Loss: 64007807872.0000, Mask Acc: 0.9325, Phase Acc: 0.6400, COD MAE: 2178.56, CPS MAE: 4791.76\n",
      "Epoch 17/50, Loss: 62731394348.0000, Mask Acc: 0.9354, Phase Acc: 0.6518, COD MAE: 2177.57, CPS MAE: 4730.56\n",
      "Epoch 18/50, Loss: 61416054094.0000, Mask Acc: 0.9349, Phase Acc: 0.6517, COD MAE: 2141.53, CPS MAE: 4704.84\n",
      "Epoch 19/50, Loss: 60775282072.0000, Mask Acc: 0.9347, Phase Acc: 0.6532, COD MAE: 2155.27, CPS MAE: 4700.12\n",
      "Epoch 20/50, Loss: 59666874736.0000, Mask Acc: 0.9350, Phase Acc: 0.6575, COD MAE: 2120.79, CPS MAE: 4667.79\n",
      "Epoch 21/50, Loss: 59641478466.0000, Mask Acc: 0.9308, Phase Acc: 0.6521, COD MAE: 2122.16, CPS MAE: 4680.92\n",
      "Epoch 22/50, Loss: 58514946270.0000, Mask Acc: 0.9348, Phase Acc: 0.6588, COD MAE: 2124.03, CPS MAE: 4626.22\n",
      "Epoch 23/50, Loss: 57289953552.0000, Mask Acc: 0.9374, Phase Acc: 0.6598, COD MAE: 2080.16, CPS MAE: 4583.21\n",
      "Epoch 24/50, Loss: 56974128820.0000, Mask Acc: 0.9359, Phase Acc: 0.6704, COD MAE: 2097.13, CPS MAE: 4575.65\n",
      "Epoch 25/50, Loss: 56062940834.0000, Mask Acc: 0.9369, Phase Acc: 0.6621, COD MAE: 2070.66, CPS MAE: 4542.35\n",
      "Epoch 26/50, Loss: 55466046586.0000, Mask Acc: 0.9366, Phase Acc: 0.6645, COD MAE: 2060.15, CPS MAE: 4522.16\n",
      "Epoch 27/50, Loss: 54963058826.0000, Mask Acc: 0.9364, Phase Acc: 0.6637, COD MAE: 2044.59, CPS MAE: 4520.84\n",
      "Epoch 28/50, Loss: 54797679252.0000, Mask Acc: 0.9362, Phase Acc: 0.6584, COD MAE: 2051.77, CPS MAE: 4507.09\n",
      "Epoch 29/50, Loss: 54817054318.0000, Mask Acc: 0.9348, Phase Acc: 0.6609, COD MAE: 2049.25, CPS MAE: 4492.06\n",
      "Epoch 30/50, Loss: 53170920894.0000, Mask Acc: 0.9376, Phase Acc: 0.6728, COD MAE: 2017.74, CPS MAE: 4430.70\n",
      "Epoch 31/50, Loss: 53991653024.0000, Mask Acc: 0.9357, Phase Acc: 0.6642, COD MAE: 2052.18, CPS MAE: 4480.90\n",
      "Epoch 32/50, Loss: 53177567102.0000, Mask Acc: 0.9368, Phase Acc: 0.6720, COD MAE: 2025.08, CPS MAE: 4439.70\n",
      "Epoch 33/50, Loss: 53674973300.0000, Mask Acc: 0.9354, Phase Acc: 0.6648, COD MAE: 2037.50, CPS MAE: 4440.55\n",
      "Epoch 34/50, Loss: 52423607136.0000, Mask Acc: 0.9369, Phase Acc: 0.6725, COD MAE: 2016.98, CPS MAE: 4399.99\n",
      "Epoch 35/50, Loss: 52524019260.0000, Mask Acc: 0.9360, Phase Acc: 0.6672, COD MAE: 2024.90, CPS MAE: 4415.27\n",
      "Epoch 36/50, Loss: 51274715810.0000, Mask Acc: 0.9375, Phase Acc: 0.6744, COD MAE: 1998.28, CPS MAE: 4361.77\n",
      "Epoch 37/50, Loss: 52301203802.0000, Mask Acc: 0.9363, Phase Acc: 0.6691, COD MAE: 2022.21, CPS MAE: 4404.19\n",
      "Epoch 38/50, Loss: 51965915800.0000, Mask Acc: 0.9377, Phase Acc: 0.6713, COD MAE: 2025.19, CPS MAE: 4383.15\n",
      "Epoch 39/50, Loss: 51121798354.0000, Mask Acc: 0.9377, Phase Acc: 0.6702, COD MAE: 1995.95, CPS MAE: 4356.38\n",
      "Epoch 40/50, Loss: 50990774602.0000, Mask Acc: 0.9378, Phase Acc: 0.6750, COD MAE: 1990.88, CPS MAE: 4359.92\n",
      "Epoch 41/50, Loss: 51267818260.0000, Mask Acc: 0.9365, Phase Acc: 0.6668, COD MAE: 2012.24, CPS MAE: 4365.12\n",
      "Epoch 42/50, Loss: 50446039256.0000, Mask Acc: 0.9380, Phase Acc: 0.6771, COD MAE: 1981.72, CPS MAE: 4320.77\n",
      "Epoch 43/50, Loss: 50497423872.0000, Mask Acc: 0.9389, Phase Acc: 0.6732, COD MAE: 1984.79, CPS MAE: 4332.83\n",
      "Epoch 44/50, Loss: 50266439070.0000, Mask Acc: 0.9369, Phase Acc: 0.6759, COD MAE: 1999.95, CPS MAE: 4315.34\n",
      "Epoch 45/50, Loss: 50290851628.0000, Mask Acc: 0.9360, Phase Acc: 0.6773, COD MAE: 1988.87, CPS MAE: 4331.81\n",
      "Epoch 46/50, Loss: 50217991206.0000, Mask Acc: 0.9395, Phase Acc: 0.6754, COD MAE: 1979.06, CPS MAE: 4315.63\n",
      "Epoch 47/50, Loss: 49607352972.0000, Mask Acc: 0.9397, Phase Acc: 0.6753, COD MAE: 1965.24, CPS MAE: 4302.36\n",
      "Epoch 48/50, Loss: 49727846732.0000, Mask Acc: 0.9401, Phase Acc: 0.6798, COD MAE: 1969.01, CPS MAE: 4290.75\n",
      "Epoch 49/50, Loss: 50096952508.0000, Mask Acc: 0.9372, Phase Acc: 0.6811, COD MAE: 1985.20, CPS MAE: 4315.57\n",
      "Epoch 50/50, Loss: 49332249044.0000, Mask Acc: 0.9399, Phase Acc: 0.6791, COD MAE: 1966.98, CPS MAE: 4287.55\n"
     ]
    }
   ],
   "source": [
    "epoch_losses = []\n",
    "epoch_mask_acc = []\n",
    "epoch_phase_acc = []\n",
    "epoch_cod_mae = []\n",
    "epoch_cps_mae = []\n",
    "\n",
    "for epoch in range(num_epochs):\n",
    "    model.train()\n",
    "    total_loss = 0.0\n",
    "\n",
    "    all_mask_acc = []\n",
    "    all_phase_acc = []\n",
    "    all_cod_mae = []\n",
    "    all_cps_mae = []\n",
    "\n",
    "    for X, y_mask, y_phase, y_cod, y_cps in loader:\n",
    "        X, y_mask, y_phase, y_cod, y_cps = X.to(device), y_mask.to(device), y_phase.to(device), y_cod.to(device), y_cps.to(device)\n",
    "\n",
    "        optimizer.zero_grad()\n",
    "        outputs = model(X)\n",
    "        targets = (y_mask, y_phase, y_cod, y_cps)\n",
    "\n",
    "        loss, _ = multitask_loss(outputs, targets, weights=loss_weights)\n",
    "        loss.backward()\n",
    "        optimizer.step()\n",
    "\n",
    "        total_loss += loss.item()\n",
    "\n",
    "        # Metrics\n",
    "        mask_acc, phase_acc, cod_mae, cps_mae = compute_metrics(outputs, targets)\n",
    "        all_mask_acc.append(mask_acc)\n",
    "        all_phase_acc.append(phase_acc)\n",
    "        all_cod_mae.append(cod_mae)\n",
    "        all_cps_mae.append(cps_mae)\n",
    "\n",
    "\n",
    "\n",
    "    # Epoch summary\n",
    "    print(f\"Epoch {epoch+1}/{num_epochs}, \"\n",
    "          f\"Loss: {total_loss:.4f}, \"\n",
    "          f\"Mask Acc: {np.mean(all_mask_acc):.4f}, \"\n",
    "          f\"Phase Acc: {np.mean(all_phase_acc):.4f}, \"\n",
    "          f\"COD MAE: {np.mean(all_cod_mae):.2f}, \"\n",
    "          f\"CPS MAE: {np.mean(all_cps_mae):.2f}\")\n",
    "    epoch_losses.append(total_loss)\n",
    "    epoch_mask_acc.append(np.mean(all_mask_acc))\n",
    "    epoch_phase_acc.append(np.mean(all_phase_acc))\n",
    "    epoch_cod_mae.append(np.mean(all_cod_mae))\n",
    "    epoch_cps_mae.append(np.mean(all_cps_mae))\n"
   ]
  },
  {
   "cell_type": "code",
   "execution_count": 14,
   "id": "c085b52e-f59a-4f44-9cba-e38ccaed8f29",
   "metadata": {},
   "outputs": [
    {
     "data": {
      "image/png": "[encoded data removed]",
      "text/plain": [
       "<Figure size 800x800 with 2 Axes>"
      ]
     },
     "metadata": {},
     "output_type": "display_data"
    }
   ],
   "source": [
    "epochs = list(range(1, num_epochs + 1))\n",
    "\n",
    "plt.figure(figsize=(8, 8))\n",
    "\n",
    "# Accuracy subplot\n",
    "plt.subplot(2, 1, 1)\n",
    "plt.plot(epochs, epoch_mask_acc, label='Mask Accuracy')\n",
    "plt.plot(epochs, epoch_phase_acc, label='Phase Accuracy')\n",
    "plt.ylim(0, 1)\n",
    "plt.xlim(1, num_epochs)\n",
    "plt.xlabel(\"Epoch\")\n",
    "plt.ylabel(\"Accuracy\")\n",
    "plt.title(\"Classification Accuracy\")\n",
    "plt.legend()\n",
    "\n",
    "# MAE subplot\n",
    "plt.subplot(2, 1, 2)\n",
    "plt.plot(epochs, epoch_cod_mae, label='COD MAE')\n",
    "plt.plot(epochs, epoch_cps_mae, label='CPS MAE')\n",
    "plt.xlim(1, num_epochs)\n",
    "plt.xlabel(\"Epoch\")\n",
    "plt.ylabel(\"MAE\")\n",
    "plt.title(\"Regression MAE\")\n",
    "plt.legend()\n",
    "\n",
    "plt.tight_layout()\n",
    "plt.savefig(\"graphs/Caleb/multi-task-v1.png\", dpi=300)\n",
    "plt.show()\n",
    "plt.close()\n"
   ]
  },
  {
   "cell_type": "code",
   "execution_count": 15,
   "id": "193bff39-ce03-40ad-8741-5e452554b4ee",
   "metadata": {
    "jupyter": {
     "source_hidden": true
    }
   },
   "outputs": [],
   "source": [
    "# valid_mask = df['l2_dqf_cloud_mask'].apply(lambda arr: (arr == 1).all())\n",
    "# valid_phase = df['l2_dqf_cloud_phase'].apply(lambda arr: (arr == 1).all())\n",
    "# valid_cod = df['l2_dqf_cod'].apply(lambda arr: (arr == 1).all())\n",
    "# valid_cps = df['l2_dqf_cps'].apply(lambda arr: (arr == 1).all())\n",
    "\n",
    "# valid_idx = valid_mask & valid_phase & valid_cod & valid_cps\n",
    "# print(\"Valid samples:\", valid_idx.sum(), \"/\", len(df))\n"
   ]
  },
  {
   "cell_type": "code",
   "execution_count": 16,
   "id": "be39f640-7ace-4c04-991f-7cb502f21f1c",
   "metadata": {
    "jupyter": {
     "source_hidden": true
    }
   },
   "outputs": [],
   "source": [
    "# # for col in ['l2_dqf_cloud_mask', 'l2_dqf_cloud_phase', 'l2_dqf_cod', 'l2_dqf_cps']:\n",
    "# for col in ['l2_cloud_mask', 'l2_cloud_phase', 'l2_cod', 'l2_cps']:\n",
    "#     print(f\"\\n{col}:\")\n",
    "#     vals = df[col].apply(lambda x: np.unique(x, return_counts=True))\n",
    "#     flat_vals = np.concatenate([v[0] for v in vals])\n",
    "#     print(\"Unique values (merged):\", np.unique(flat_vals))\n"
   ]
  },
  {
   "cell_type": "code",
   "execution_count": null,
   "id": "aceb34a9-4542-4931-b3a9-8dfa403cfb33",
   "metadata": {},
   "outputs": [],
   "source": []
  }
 ],
 "metadata": {
  "kernelspec": {
   "display_name": "Python 3 (ipykernel)",
   "language": "python",
   "name": "python3"
  },
  "language_info": {
   "codemirror_mode": {
    "name": "ipython",
    "version": 3
   },
   "file_extension": ".py",
   "mimetype": "text/x-python",
   "name": "python",
   "nbconvert_exporter": "python",
   "pygments_lexer": "ipython3",
   "version": "3.12.11"
  }
 },
 "nbformat": 4,
 "nbformat_minor": 5
}
