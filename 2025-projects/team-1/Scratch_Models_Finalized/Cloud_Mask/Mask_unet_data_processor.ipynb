{
 "cells": [
  {
   "cell_type": "code",
   "execution_count": 1,
   "id": "6ba12d3f-c57d-448e-8e59-a554915eb477",
   "metadata": {},
   "outputs": [],
   "source": [
    "#IMPORTS\n",
    "\n",
    "#File IO\n",
    "import os\n",
    "import glob\n",
    "\n",
    "#Data manipulation\n",
    "import numpy as np\n",
    "\n",
    "#Pytorch\n",
    "import torch\n",
    "from torch.utils.data import TensorDataset, DataLoader, random_split\n",
    "\n",
    "#Misc\n",
    "from tqdm import tqdm\n"
   ]
  },
  {
   "cell_type": "code",
   "execution_count": 2,
   "id": "6d35842e-4bed-4eec-b377-c6f167313c5c",
   "metadata": {},
   "outputs": [],
   "source": [
    "#GET TARGET DATA\n",
    "\n",
    "def get_mask(file):\n",
    "    data = np.load(file)\n",
    "    bands = data['rad']\n",
    "    cloud_mask = data['l2_cloud_mask']\n",
    "    return bands, cloud_mask"
   ]
  },
  {
   "cell_type": "code",
   "execution_count": 3,
   "id": "9806abbc-ec32-4f47-8128-fe4b4e195758",
   "metadata": {},
   "outputs": [
    {
     "name": "stderr",
     "output_type": "stream",
     "text": [
      "14973it [09:22, 26.62it/s]\n"
     ]
    }
   ],
   "source": [
    "#CREATE DATASET\n",
    "\n",
    "max_images = 15000\n",
    "file_list = glob.glob('../ABI_Data_Scaled/*.npz')\n",
    "\n",
    "X = []\n",
    "y = []\n",
    "\n",
    "for i, file in tqdm(enumerate(file_list)):\n",
    "    features, target = get_mask(file)\n",
    "    X.append(features)\n",
    "    y.append(target)\n",
    "    if i == max_images-1: break\n",
    "\n",
    "X = np.stack(X)  # shape: (Samples, 128, 128, 16)\n",
    "X = torch.from_numpy(X).float()\n",
    "X = X.permute(0, 3, 1, 2)  # shape: (Samples, 16, 128, 128)\n",
    "\n",
    "y = np.stack(y)\n",
    "y = torch.from_numpy(y).long()\n",
    "\n",
    "dataset = TensorDataset(X, y)\n",
    "torch.save(dataset, \"mask_unet_dataset.pt\")"
   ]
  },
  {
   "cell_type": "code",
   "execution_count": null,
   "id": "759632b3-b6de-4bd6-b065-d57693e17ac6",
   "metadata": {},
   "outputs": [],
   "source": []
  }
 ],
 "metadata": {
  "kernelspec": {
   "display_name": "Python 3 (ipykernel)",
   "language": "python",
   "name": "python3"
  },
  "language_info": {
   "codemirror_mode": {
    "name": "ipython",
    "version": 3
   },
   "file_extension": ".py",
   "mimetype": "text/x-python",
   "name": "python",
   "nbconvert_exporter": "python",
   "pygments_lexer": "ipython3",
   "version": "3.12.11"
  }
 },
 "nbformat": 4,
 "nbformat_minor": 5
}
