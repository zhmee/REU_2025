{
 "cells": [
  {
   "cell_type": "code",
   "execution_count": 4,
   "id": "ba195c9c-d272-44e9-acaf-3b8d195c973a",
   "metadata": {},
   "outputs": [],
   "source": [
    "#IMPORTS\n",
    "\n",
    "#File IO\n",
    "import os\n",
    "import glob\n",
    "\n",
    "#Data manipulation\n",
    "import numpy as np\n",
    "\n",
    "#Pytorch\n",
    "import torch\n",
    "from torch.utils.data import TensorDataset, DataLoader, random_split\n",
    "\n",
    "#Misc\n",
    "from tqdm import tqdm\n"
   ]
  },
  {
   "cell_type": "code",
   "execution_count": 5,
   "id": "456dc42c-318d-4d57-9fa0-f8f16167d5d2",
   "metadata": {},
   "outputs": [],
   "source": [
    "#GET TARGET DATA\n",
    "\n",
    "def get_cod(file):\n",
    "    data = np.load(file)\n",
    "    bands = data['rad']\n",
    "    cod = np.log1p(data['l2_cod'])\n",
    "    return bands, cod"
   ]
  },
  {
   "cell_type": "code",
   "execution_count": 6,
   "id": "775c92b3-99a5-4ec0-ab61-42bbdc9ac4fa",
   "metadata": {},
   "outputs": [
    {
     "name": "stderr",
     "output_type": "stream",
     "text": [
      "14999it [09:03, 27.62it/s]\n"
     ]
    }
   ],
   "source": [
    "#CREATE DATASET\n",
    "\n",
    "max_images = 15000\n",
    "file_list = glob.glob('../ABI_Data/*.npz')\n",
    "\n",
    "X = []\n",
    "y = []\n",
    "\n",
    "for i, file in tqdm(enumerate(file_list)):\n",
    "    features, target = get_cod(file)\n",
    "    X.append(features)\n",
    "    y.append(target)\n",
    "    if i == max_images-1: break\n",
    "\n",
    "X = np.stack(X)  # shape: (Samples, 128, 128, 16)\n",
    "X = torch.from_numpy(X).float()\n",
    "X = X.permute(0, 3, 1, 2)  # shape: (Samples, 16, 128, 128)\n",
    "\n",
    "y = np.stack(y)\n",
    "y = torch.from_numpy(y).unsqueeze(1).float()\n",
    "\n",
    "\n",
    "dataset = TensorDataset(X, y)\n",
    "torch.save(dataset, \"cod_unet_dataset.pt\")"
   ]
  },
  {
   "cell_type": "code",
   "execution_count": null,
   "id": "ab00c545-cccf-49f5-bce3-b9ae03f88d75",
   "metadata": {},
   "outputs": [],
   "source": []
  }
 ],
 "metadata": {
  "kernelspec": {
   "display_name": "Python 3 (ipykernel)",
   "language": "python",
   "name": "python3"
  },
  "language_info": {
   "codemirror_mode": {
    "name": "ipython",
    "version": 3
   },
   "file_extension": ".py",
   "mimetype": "text/x-python",
   "name": "python",
   "nbconvert_exporter": "python",
   "pygments_lexer": "ipython3",
   "version": "3.12.11"
  }
 },
 "nbformat": 4,
 "nbformat_minor": 5
}
