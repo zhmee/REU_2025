{
 "cells": [
  {
   "cell_type": "code",
   "execution_count": 1,
   "id": "c8faf57b-9c43-4055-a05a-ef1a5656c4d5",
   "metadata": {},
   "outputs": [],
   "source": [
    "#IMPORTS\n",
    "\n",
    "#File IO\n",
    "import os\n",
    "import glob\n",
    "\n",
    "#Data manipulation\n",
    "import numpy as np\n",
    "import pandas as pd\n",
    "import matplotlib.pyplot as plt\n",
    "\n",
    "#Scikit learn\n",
    "from sklearn.preprocessing import StandardScaler\n",
    "from sklearn.metrics import confusion_matrix, classification_report\n",
    "from sklearn.tree import DecisionTreeClassifier\n",
    "from sklearn.metrics import accuracy_score\n",
    "from sklearn.model_selection import train_test_split\n",
    "\n",
    "#Misc\n",
    "from tqdm import tqdm\n"
   ]
  },
  {
   "cell_type": "code",
   "execution_count": 2,
   "id": "ad484d1f-fb92-4d20-9405-9e32bcfcbf23",
   "metadata": {},
   "outputs": [],
   "source": [
    "#HYPERPARMETERS\n",
    "\n",
    "test_proportion = .2\n",
    "max_images = 200"
   ]
  },
  {
   "cell_type": "code",
   "execution_count": 3,
   "id": "fd212074-3642-4c9c-8693-e0d2cff5122b",
   "metadata": {},
   "outputs": [],
   "source": [
    "#GET TARGET DATA\n",
    "\n",
    "def get_phase(file):\n",
    "    data = np.load(file)\n",
    "    bands = data['rad'].reshape(128 * 128, 16)\n",
    "    cloud_phase = data['l2_cloud_phase'].flatten().reshape(-1, 1)\n",
    "    return bands, cloud_phase"
   ]
  },
  {
   "cell_type": "code",
   "execution_count": 4,
   "id": "d691cbe3-cc3d-4f98-9a6c-7b31de7fe1d7",
   "metadata": {},
   "outputs": [],
   "source": [
    "#CREATE DATASET\n",
    "\n",
    "scaler = StandardScaler()\n",
    "file_list = glob.glob('../ABI_Data_Scaled/*.npz')\n",
    "\n",
    "X = []\n",
    "y = []\n",
    "\n",
    "for i, file in enumerate(file_list):\n",
    "    features, target = get_phase(file)\n",
    "    X.append(features)\n",
    "    y.append(target)\n",
    "    if i == max_images: break\n",
    "\n",
    "X = scaler.fit_transform(np.concatenate(X, axis=0))\n",
    "y = np.concatenate(y, axis=0).flatten()\n",
    "\n",
    "X_train, X_val, y_train, y_val = train_test_split(X, y, test_size=test_proportion, random_state=1)"
   ]
  },
  {
   "cell_type": "code",
   "execution_count": 5,
   "id": "6ac3889b-b233-4063-85b9-e0e8b2cddace",
   "metadata": {},
   "outputs": [
    {
     "name": "stdout",
     "output_type": "stream",
     "text": [
      "Validation Accuracy: 0.8902\n"
     ]
    }
   ],
   "source": [
    "# Train decision tree\n",
    "clf = DecisionTreeClassifier(random_state=0)\n",
    "clf.fit(X_train, y_train)\n",
    "\n",
    "# Predict and evaluate\n",
    "y_pred = clf.predict(X_val)\n",
    "acc = accuracy_score(y_val, y_pred)\n",
    "\n",
    "print(f\"Validation Accuracy: {acc:.4f}\")"
   ]
  },
  {
   "cell_type": "code",
   "execution_count": 6,
   "id": "a31868b4-4eab-4a3f-b805-81bb366f1b3f",
   "metadata": {},
   "outputs": [
    {
     "name": "stdout",
     "output_type": "stream",
     "text": [
      "Class 0: IoU = 0.7420\n",
      "Class 1: IoU = 0.8335\n",
      "Class 2: IoU = 0.7839\n",
      "Class 3: IoU = 0.4357\n",
      "Class 4: IoU = 0.8507\n"
     ]
    }
   ],
   "source": [
    "\n",
    "def iou_per_class(y_true, y_pred, num_classes=None):\n",
    "    if num_classes is None:\n",
    "        num_classes = max(np.max(y_true), np.max(y_pred)) + 1\n",
    "\n",
    "    cm = confusion_matrix(y_true, y_pred, labels=np.arange(num_classes))\n",
    "    intersection = np.diag(cm)\n",
    "    ground_truth_set = cm.sum(axis=1)\n",
    "    predicted_set = cm.sum(axis=0)\n",
    "    union = ground_truth_set + predicted_set - intersection\n",
    "\n",
    "    iou = intersection / np.maximum(union, 1e-6)\n",
    "    return iou\n",
    "\n",
    "# Usage\n",
    "ious = iou_per_class(y_val, y_pred)\n",
    "for i, iou in enumerate(ious):\n",
    "    print(f\"Class {i}: IoU = {iou:.4f}\")"
   ]
  },
  {
   "cell_type": "code",
   "execution_count": 7,
   "id": "c00163ec-31b9-45aa-b13b-6bbdd58e4890",
   "metadata": {},
   "outputs": [
    {
     "name": "stdout",
     "output_type": "stream",
     "text": [
      "Mean IoU: 0.7292\n"
     ]
    }
   ],
   "source": [
    "mean_iou = np.mean(ious)\n",
    "print(f\"Mean IoU: {mean_iou:.4f}\")"
   ]
  },
  {
   "cell_type": "code",
   "execution_count": null,
   "id": "f157b6cb-70bf-4a82-afbe-1b07371ceef1",
   "metadata": {},
   "outputs": [],
   "source": []
  }
 ],
 "metadata": {
  "kernelspec": {
   "display_name": "Python 3 (ipykernel)",
   "language": "python",
   "name": "python3"
  },
  "language_info": {
   "codemirror_mode": {
    "name": "ipython",
    "version": 3
   },
   "file_extension": ".py",
   "mimetype": "text/x-python",
   "name": "python",
   "nbconvert_exporter": "python",
   "pygments_lexer": "ipython3",
   "version": "3.12.11"
  }
 },
 "nbformat": 4,
 "nbformat_minor": 5
}
