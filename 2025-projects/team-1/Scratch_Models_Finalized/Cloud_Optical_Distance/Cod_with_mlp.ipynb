{
 "cells": [
  {
   "cell_type": "code",
   "execution_count": 11,
   "id": "9d04eabb-9294-4ce8-a4d6-bc57e424f600",
   "metadata": {},
   "outputs": [],
   "source": [
    "#IMPORTS\n",
    "\n",
    "#File IO\n",
    "import os\n",
    "import glob\n",
    "\n",
    "#Data manipulation\n",
    "import numpy as np\n",
    "import pandas as pd\n",
    "import matplotlib.pyplot as plt\n",
    "\n",
    "#Pytorch\n",
    "import torch\n",
    "import torch.nn as nn\n",
    "import torch.optim as optim\n",
    "from torch.utils.data import TensorDataset, DataLoader, random_split\n",
    "import torch.nn.functional as F\n",
    "\n",
    "#Scikit learn\n",
    "from sklearn.metrics import confusion_matrix, classification_report\n",
    "from sklearn.metrics import mean_squared_error, r2_score\n",
    "\n",
    "#Misc\n",
    "from tqdm import tqdm\n"
   ]
  },
  {
   "cell_type": "code",
   "execution_count": 2,
   "id": "5715f2eb-9276-4e99-87c3-4028ca086f50",
   "metadata": {},
   "outputs": [],
   "source": [
    "#HYPERPARMETERS\n",
    "\n",
    "train_proportion = .8\n",
    "val_proportion = .1\n",
    "\n",
    "max_images = 200\n",
    "batch_size = 2048\n",
    "learning_rate = .001\n",
    "num_epochs = 25"
   ]
  },
  {
   "cell_type": "code",
   "execution_count": 3,
   "id": "3528cad2-4bbf-4ec1-8da1-efba71488fbf",
   "metadata": {},
   "outputs": [],
   "source": [
    "#GET TARGET DATA\n",
    "\n",
    "def get_cod(file):\n",
    "    data = np.load(file)\n",
    "    bands = data['rad'].reshape(128 * 128, 16)\n",
    "    cod = np.log1p(data['l2_cod']).flatten().reshape(-1, 1)\n",
    "    return bands, cod"
   ]
  },
  {
   "cell_type": "code",
   "execution_count": 4,
   "id": "0dd05711-1669-4674-95a4-950f449e37c0",
   "metadata": {},
   "outputs": [],
   "source": [
    "#CREATE DATASET\n",
    "\n",
    "file_list = glob.glob('../ABI_Data_Scaled/*.npz')\n",
    "\n",
    "X = []\n",
    "y = []\n",
    "\n",
    "for i, file in enumerate(file_list):\n",
    "    features, target = get_cod(file)\n",
    "    X.append(features)\n",
    "    y.append(target)\n",
    "    if i == max_images: break\n",
    "\n",
    "X = torch.from_numpy(np.concatenate(X, axis=0))\n",
    "y = torch.from_numpy(np.concatenate(y, axis=0))\n",
    "\n",
    "dataset = TensorDataset(X, y)"
   ]
  },
  {
   "cell_type": "code",
   "execution_count": 5,
   "id": "600d18a2-ad10-4805-9a79-076d3b699cba",
   "metadata": {},
   "outputs": [],
   "source": [
    "#CREATE DATALOADERS\n",
    "\n",
    "train_size = int(train_proportion * len(dataset))\n",
    "val_size = int(val_proportion * len(dataset))\n",
    "test_size = len(dataset) - train_size - val_size\n",
    "\n",
    "generator = torch.Generator().manual_seed(1)\n",
    "train_dataset, val_dataset, test_dataset = random_split(dataset, [train_size, val_size, test_size], generator=generator)\n",
    "\n",
    "train_loader = DataLoader(train_dataset, batch_size=batch_size, shuffle=True, generator=generator)\n",
    "val_loader = DataLoader(val_dataset, batch_size=batch_size, shuffle=False)\n",
    "test_loader = DataLoader(test_dataset, batch_size=batch_size, shuffle=False)"
   ]
  },
  {
   "cell_type": "code",
   "execution_count": 6,
   "id": "3541567f-cf8a-41cf-bba3-a4aae8ac874d",
   "metadata": {},
   "outputs": [],
   "source": [
    "#CREATE MODEL\n",
    "\n",
    "class FeedForwardRegressor(nn.Module):\n",
    "    def __init__(self, input_dim=16, output_dim=1):\n",
    "        super(FeedForwardRegressor, self).__init__()\n",
    "        self.fc1 = nn.Linear(input_dim, 32)\n",
    "        self.fc2 = nn.Linear(32, 64)\n",
    "        self.fc3 = nn.Linear(64, output_dim)\n",
    "        \n",
    "    def forward(self, x):\n",
    "        x = F.relu(self.fc1(x))\n",
    "        x = F.relu(self.fc2(x))\n",
    "        x = self.fc3(x) \n",
    "        return x\n",
    "\n",
    "model = FeedForwardRegressor()\n",
    "criterion = nn.MSELoss()\n",
    "optimizer = optim.Adam(model.parameters(), lr=learning_rate)\n",
    "device = torch.device('cuda' if torch.cuda.is_available() else 'cpu')\n",
    "model.to(device)\n",
    "\n",
    "train_losses, val_losses = [], []\n",
    "train_accuracies, val_accuracies = [], []"
   ]
  },
  {
   "cell_type": "code",
   "execution_count": 7,
   "id": "33e700fe-2fc2-442b-b1bf-87914a1262e6",
   "metadata": {},
   "outputs": [],
   "source": [
    "#TRAIN and EVALUATE FUNCTIONS\n",
    "\n",
    "def train(model, train_loader):\n",
    "    model.train()\n",
    "    train_loss = 0\n",
    "    total = 0\n",
    "    all_preds, all_labels = [], []\n",
    "\n",
    "    for inputs, labels in tqdm(train_loader):\n",
    "        inputs, labels = inputs.float().to(device), labels.float().to(device)\n",
    "        optimizer.zero_grad()\n",
    "        outputs = model(inputs)\n",
    "        loss = criterion(outputs, labels)\n",
    "        loss.backward()\n",
    "        optimizer.step()\n",
    "\n",
    "        train_loss += loss.item() * inputs.size(0)\n",
    "        total += labels.size(0)\n",
    "\n",
    "        all_preds.append(outputs.detach().cpu())\n",
    "        all_labels.append(labels.detach().cpu())\n",
    "\n",
    "    train_loss /= total\n",
    "    r2 = r2_score(torch.cat(all_labels).numpy(), torch.cat(all_preds).numpy())\n",
    "    return train_loss, r2\n",
    "\n",
    "\n",
    "def eval(model, val_loader):\n",
    "    model.eval()\n",
    "    val_loss = 0\n",
    "    total = 0\n",
    "    all_preds, all_labels = [], []\n",
    "\n",
    "    with torch.no_grad():\n",
    "        for inputs, labels in val_loader:\n",
    "            inputs, labels = inputs.float().to(device), labels.float().to(device)\n",
    "            outputs = model(inputs)\n",
    "            loss = criterion(outputs, labels)\n",
    "\n",
    "            val_loss += loss.item() * inputs.size(0)\n",
    "            total += labels.size(0)\n",
    "\n",
    "            all_preds.append(outputs.cpu())\n",
    "            all_labels.append(labels.cpu())\n",
    "\n",
    "    val_loss /= total\n",
    "    r2 = r2_score(torch.cat(all_labels).numpy(), torch.cat(all_preds).numpy())\n",
    "    return val_loss, r2"
   ]
  },
  {
   "cell_type": "code",
   "execution_count": 8,
   "id": "4686ea33-3c95-4ff5-a10e-bb012f881619",
   "metadata": {},
   "outputs": [
    {
     "name": "stderr",
     "output_type": "stream",
     "text": [
      "100%|██████████| 1287/1287 [00:16<00:00, 75.96it/s]\n"
     ]
    },
    {
     "name": "stdout",
     "output_type": "stream",
     "text": [
      "Epoch: 1 | Train Loss: 0.7116 | Train Acc: 0.3737 | Val Loss: 0.5221 | Val Acc: 0.5417\n"
     ]
    },
    {
     "name": "stderr",
     "output_type": "stream",
     "text": [
      "100%|██████████| 1287/1287 [00:15<00:00, 83.48it/s]\n"
     ]
    },
    {
     "name": "stdout",
     "output_type": "stream",
     "text": [
      "Epoch: 2 | Train Loss: 0.5020 | Train Acc: 0.5581 | Val Loss: 0.4823 | Val Acc: 0.5766\n"
     ]
    },
    {
     "name": "stderr",
     "output_type": "stream",
     "text": [
      "100%|██████████| 1287/1287 [00:15<00:00, 84.32it/s] \n"
     ]
    },
    {
     "name": "stdout",
     "output_type": "stream",
     "text": [
      "Epoch: 3 | Train Loss: 0.4721 | Train Acc: 0.5845 | Val Loss: 0.4618 | Val Acc: 0.5946\n"
     ]
    },
    {
     "name": "stderr",
     "output_type": "stream",
     "text": [
      "100%|██████████| 1287/1287 [00:15<00:00, 83.66it/s] \n"
     ]
    },
    {
     "name": "stdout",
     "output_type": "stream",
     "text": [
      "Epoch: 4 | Train Loss: 0.4474 | Train Acc: 0.6062 | Val Loss: 0.4350 | Val Acc: 0.6182\n"
     ]
    },
    {
     "name": "stderr",
     "output_type": "stream",
     "text": [
      "100%|██████████| 1287/1287 [00:15<00:00, 83.37it/s] \n"
     ]
    },
    {
     "name": "stdout",
     "output_type": "stream",
     "text": [
      "Epoch: 5 | Train Loss: 0.4262 | Train Acc: 0.6248 | Val Loss: 0.4147 | Val Acc: 0.6360\n"
     ]
    },
    {
     "name": "stderr",
     "output_type": "stream",
     "text": [
      "100%|██████████| 1287/1287 [00:15<00:00, 82.17it/s] \n"
     ]
    },
    {
     "name": "stdout",
     "output_type": "stream",
     "text": [
      "Epoch: 6 | Train Loss: 0.4087 | Train Acc: 0.6402 | Val Loss: 0.3989 | Val Acc: 0.6499\n"
     ]
    },
    {
     "name": "stderr",
     "output_type": "stream",
     "text": [
      "100%|██████████| 1287/1287 [00:15<00:00, 82.96it/s] \n"
     ]
    },
    {
     "name": "stdout",
     "output_type": "stream",
     "text": [
      "Epoch: 7 | Train Loss: 0.3866 | Train Acc: 0.6597 | Val Loss: 0.3749 | Val Acc: 0.6709\n"
     ]
    },
    {
     "name": "stderr",
     "output_type": "stream",
     "text": [
      "100%|██████████| 1287/1287 [00:15<00:00, 82.41it/s] \n"
     ]
    },
    {
     "name": "stdout",
     "output_type": "stream",
     "text": [
      "Epoch: 8 | Train Loss: 0.3698 | Train Acc: 0.6745 | Val Loss: 0.3615 | Val Acc: 0.6827\n"
     ]
    },
    {
     "name": "stderr",
     "output_type": "stream",
     "text": [
      "100%|██████████| 1287/1287 [00:15<00:00, 81.76it/s]\n"
     ]
    },
    {
     "name": "stdout",
     "output_type": "stream",
     "text": [
      "Epoch: 9 | Train Loss: 0.3587 | Train Acc: 0.6842 | Val Loss: 0.3536 | Val Acc: 0.6896\n"
     ]
    },
    {
     "name": "stderr",
     "output_type": "stream",
     "text": [
      "100%|██████████| 1287/1287 [00:15<00:00, 81.60it/s] \n"
     ]
    },
    {
     "name": "stdout",
     "output_type": "stream",
     "text": [
      "Epoch: 10 | Train Loss: 0.3507 | Train Acc: 0.6913 | Val Loss: 0.3452 | Val Acc: 0.6970\n"
     ]
    },
    {
     "name": "stderr",
     "output_type": "stream",
     "text": [
      "100%|██████████| 1287/1287 [00:15<00:00, 81.48it/s]\n"
     ]
    },
    {
     "name": "stdout",
     "output_type": "stream",
     "text": [
      "Epoch: 11 | Train Loss: 0.3444 | Train Acc: 0.6968 | Val Loss: 0.3385 | Val Acc: 0.7029\n"
     ]
    },
    {
     "name": "stderr",
     "output_type": "stream",
     "text": [
      "100%|██████████| 1287/1287 [00:15<00:00, 81.35it/s]\n"
     ]
    },
    {
     "name": "stdout",
     "output_type": "stream",
     "text": [
      "Epoch: 12 | Train Loss: 0.3410 | Train Acc: 0.6999 | Val Loss: 0.3402 | Val Acc: 0.7014\n"
     ]
    },
    {
     "name": "stderr",
     "output_type": "stream",
     "text": [
      "100%|██████████| 1287/1287 [00:15<00:00, 80.60it/s]\n"
     ]
    },
    {
     "name": "stdout",
     "output_type": "stream",
     "text": [
      "Epoch: 13 | Train Loss: 0.3375 | Train Acc: 0.7029 | Val Loss: 0.3351 | Val Acc: 0.7058\n"
     ]
    },
    {
     "name": "stderr",
     "output_type": "stream",
     "text": [
      "100%|██████████| 1287/1287 [00:15<00:00, 84.49it/s] \n"
     ]
    },
    {
     "name": "stdout",
     "output_type": "stream",
     "text": [
      "Epoch: 14 | Train Loss: 0.3347 | Train Acc: 0.7054 | Val Loss: 0.3325 | Val Acc: 0.7081\n"
     ]
    },
    {
     "name": "stderr",
     "output_type": "stream",
     "text": [
      "100%|██████████| 1287/1287 [00:15<00:00, 85.72it/s] \n"
     ]
    },
    {
     "name": "stdout",
     "output_type": "stream",
     "text": [
      "Epoch: 15 | Train Loss: 0.3324 | Train Acc: 0.7074 | Val Loss: 0.3282 | Val Acc: 0.7119\n"
     ]
    },
    {
     "name": "stderr",
     "output_type": "stream",
     "text": [
      "100%|██████████| 1287/1287 [00:15<00:00, 85.14it/s] \n"
     ]
    },
    {
     "name": "stdout",
     "output_type": "stream",
     "text": [
      "Epoch: 16 | Train Loss: 0.3311 | Train Acc: 0.7086 | Val Loss: 0.3303 | Val Acc: 0.7101\n"
     ]
    },
    {
     "name": "stderr",
     "output_type": "stream",
     "text": [
      "100%|██████████| 1287/1287 [00:15<00:00, 83.74it/s] \n"
     ]
    },
    {
     "name": "stdout",
     "output_type": "stream",
     "text": [
      "Epoch: 17 | Train Loss: 0.3289 | Train Acc: 0.7105 | Val Loss: 0.3243 | Val Acc: 0.7153\n"
     ]
    },
    {
     "name": "stderr",
     "output_type": "stream",
     "text": [
      "100%|██████████| 1287/1287 [00:15<00:00, 84.07it/s] \n"
     ]
    },
    {
     "name": "stdout",
     "output_type": "stream",
     "text": [
      "Epoch: 18 | Train Loss: 0.3276 | Train Acc: 0.7117 | Val Loss: 0.3244 | Val Acc: 0.7153\n"
     ]
    },
    {
     "name": "stderr",
     "output_type": "stream",
     "text": [
      "100%|██████████| 1287/1287 [00:15<00:00, 83.48it/s] \n"
     ]
    },
    {
     "name": "stdout",
     "output_type": "stream",
     "text": [
      "Epoch: 19 | Train Loss: 0.3262 | Train Acc: 0.7129 | Val Loss: 0.3222 | Val Acc: 0.7172\n"
     ]
    },
    {
     "name": "stderr",
     "output_type": "stream",
     "text": [
      "100%|██████████| 1287/1287 [00:15<00:00, 82.40it/s] \n"
     ]
    },
    {
     "name": "stdout",
     "output_type": "stream",
     "text": [
      "Epoch: 20 | Train Loss: 0.3249 | Train Acc: 0.7140 | Val Loss: 0.3219 | Val Acc: 0.7175\n"
     ]
    },
    {
     "name": "stderr",
     "output_type": "stream",
     "text": [
      "100%|██████████| 1287/1287 [00:15<00:00, 82.28it/s] \n"
     ]
    },
    {
     "name": "stdout",
     "output_type": "stream",
     "text": [
      "Epoch: 21 | Train Loss: 0.3237 | Train Acc: 0.7151 | Val Loss: 0.3211 | Val Acc: 0.7182\n"
     ]
    },
    {
     "name": "stderr",
     "output_type": "stream",
     "text": [
      "100%|██████████| 1287/1287 [00:15<00:00, 81.94it/s] \n"
     ]
    },
    {
     "name": "stdout",
     "output_type": "stream",
     "text": [
      "Epoch: 22 | Train Loss: 0.3223 | Train Acc: 0.7163 | Val Loss: 0.3284 | Val Acc: 0.7117\n"
     ]
    },
    {
     "name": "stderr",
     "output_type": "stream",
     "text": [
      "100%|██████████| 1287/1287 [00:15<00:00, 82.08it/s] \n"
     ]
    },
    {
     "name": "stdout",
     "output_type": "stream",
     "text": [
      "Epoch: 23 | Train Loss: 0.3215 | Train Acc: 0.7170 | Val Loss: 0.3163 | Val Acc: 0.7224\n"
     ]
    },
    {
     "name": "stderr",
     "output_type": "stream",
     "text": [
      "100%|██████████| 1287/1287 [00:15<00:00, 82.61it/s] \n"
     ]
    },
    {
     "name": "stdout",
     "output_type": "stream",
     "text": [
      "Epoch: 24 | Train Loss: 0.3202 | Train Acc: 0.7181 | Val Loss: 0.3159 | Val Acc: 0.7227\n"
     ]
    },
    {
     "name": "stderr",
     "output_type": "stream",
     "text": [
      "100%|██████████| 1287/1287 [00:15<00:00, 81.75it/s]\n"
     ]
    },
    {
     "name": "stdout",
     "output_type": "stream",
     "text": [
      "Epoch: 25 | Train Loss: 0.3188 | Train Acc: 0.7193 | Val Loss: 0.3133 | Val Acc: 0.7250\n"
     ]
    }
   ],
   "source": [
    "#TRAIN MODEL\n",
    "\n",
    "for e in range(1, num_epochs+1):\n",
    "    train_loss, train_acc = train(model, train_loader)\n",
    "    val_loss, val_acc = eval(model, val_loader)\n",
    "    \n",
    "    train_losses.append(train_loss)\n",
    "    val_losses.append(val_loss)\n",
    "    train_accuracies.append(train_acc)\n",
    "    val_accuracies.append(val_acc)\n",
    "\n",
    "    print(f\"Epoch: {e} | Train Loss: {train_loss:.4f} | Train Acc: {train_acc:.4f} | Val Loss: {val_loss:.4f} | Val Acc: {val_acc:.4f}\")"
   ]
  },
  {
   "cell_type": "code",
   "execution_count": 9,
   "id": "68b514d1-3823-428e-b8de-996e25aca331",
   "metadata": {},
   "outputs": [
    {
     "data": {
      "image/png": "[encoded data removed]",
      "text/plain": [
       "<Figure size 1200x500 with 2 Axes>"
      ]
     },
     "metadata": {},
     "output_type": "display_data"
    }
   ],
   "source": [
    "#PLOT LOSS and ACCURACY\n",
    "\n",
    "plt.figure(figsize=(12,5))\n",
    "\n",
    "plt.subplot(1, 2, 1)\n",
    "plt.plot(train_losses, label='Train Loss')\n",
    "plt.plot(val_losses, label='Val Loss')\n",
    "plt.title('Cloud Optical Distance Loss')\n",
    "plt.legend()\n",
    "\n",
    "plt.subplot(1, 2, 2)\n",
    "plt.plot(train_accuracies, label='Train R2')\n",
    "plt.plot(val_accuracies, label='Val R2')\n",
    "plt.title('Cloud Optical Distance R2 Score')\n",
    "plt.legend()\n",
    "\n",
    "plt.savefig(\"./graphs/mlp_cod.png\")  \n",
    "\n",
    "plt.show()"
   ]
  },
  {
   "cell_type": "code",
   "execution_count": 10,
   "id": "ff749ff7-2264-44d8-8270-45873434b436",
   "metadata": {},
   "outputs": [
    {
     "name": "stderr",
     "output_type": "stream",
     "text": [
      "100%|██████████| 161/161 [00:01<00:00, 94.46it/s] \n"
     ]
    },
    {
     "name": "stdout",
     "output_type": "stream",
     "text": [
      "r2: 0.7242170219565975\n",
      "MSE: 0.31418091549531446\n"
     ]
    }
   ],
   "source": [
    "#MODEL EVALUATION\n",
    "\n",
    "all_preds = []\n",
    "all_labels = []\n",
    "\n",
    "model.eval()\n",
    "with torch.no_grad():\n",
    "    for inputs, labels in tqdm(test_loader):\n",
    "        inputs = inputs.to(device).float()\n",
    "        labels = labels.to(device)\n",
    "        outputs = model(inputs)\n",
    "        all_preds.extend(outputs.cpu().numpy())\n",
    "        all_labels.extend(labels.cpu().numpy())\n",
    "\n",
    "\n",
    "print(\"r2:\", r2_score(all_labels, all_preds))\n",
    "print(\"MSE:\", mean_squared_error(all_labels, all_preds))\n"
   ]
  },
  {
   "cell_type": "code",
   "execution_count": null,
   "id": "7e70c960-c439-4ae1-9399-e28f1538ba12",
   "metadata": {},
   "outputs": [],
   "source": []
  }
 ],
 "metadata": {
  "kernelspec": {
   "display_name": "Python 3 (ipykernel)",
   "language": "python",
   "name": "python3"
  },
  "language_info": {
   "codemirror_mode": {
    "name": "ipython",
    "version": 3
   },
   "file_extension": ".py",
   "mimetype": "text/x-python",
   "name": "python",
   "nbconvert_exporter": "python",
   "pygments_lexer": "ipython3",
   "version": "3.12.11"
  }
 },
 "nbformat": 4,
 "nbformat_minor": 5
}
