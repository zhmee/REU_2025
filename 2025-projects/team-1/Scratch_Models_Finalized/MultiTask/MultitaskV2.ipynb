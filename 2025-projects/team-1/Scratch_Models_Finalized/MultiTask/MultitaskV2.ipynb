{
 "cells": [
  {
   "cell_type": "code",
   "execution_count": 1,
   "id": "88e4efb0-f18e-46c5-8a19-0ca88b6a43a3",
   "metadata": {},
   "outputs": [],
   "source": [
    "# !pip install"
   ]
  },
  {
   "cell_type": "markdown",
   "id": "d8867195-b847-4db4-8db4-86159cbf0e6a",
   "metadata": {},
   "source": [
    "# Import"
   ]
  },
  {
   "cell_type": "code",
   "execution_count": 2,
   "id": "bab5341d-5342-412a-afdd-8da346aae002",
   "metadata": {},
   "outputs": [],
   "source": [
    "import os\n",
    "import numpy as np\n",
    "import pandas as pd\n",
    "from tqdm import tqdm\n",
    "import torch\n",
    "import torch.nn as nn\n",
    "import torch.nn.functional as F\n",
    "from torch.utils.data import TensorDataset, DataLoader, random_split, Dataset\n",
    "import matplotlib.pyplot as plt\n",
    "from sklearn.model_selection import train_test_split\n",
    "from sklearn.metrics import accuracy_score, mean_absolute_error"
   ]
  },
  {
   "cell_type": "markdown",
   "id": "0bf3c451-25a7-4e3d-a312-a3fe640dbcc0",
   "metadata": {},
   "source": [
    "# CONFIG"
   ]
  },
  {
   "cell_type": "code",
   "execution_count": 3,
   "id": "32caf1b6-ed6b-44cb-81af-d27522f0ed35",
   "metadata": {},
   "outputs": [
    {
     "name": "stdout",
     "output_type": "stream",
     "text": [
      "cuda\n"
     ]
    }
   ],
   "source": [
    "data_dir = '../ABI_Data'\n",
    "data_load_from_file = False\n",
    "pickle_path = './dataframe.pkl'\n",
    "pickle_create = False\n",
    "pickle_load = False\n",
    "\n",
    "num_epochs = 50\n",
    "batch_size = 16\n",
    "train_proportion = .8\n",
    "val_proportion = .1\n",
    "\n",
    "device = torch.device(\"cuda\" if torch.cuda.is_available() else \"cpu\")\n",
    "print(device)"
   ]
  },
  {
   "cell_type": "markdown",
   "id": "037fb76f-cfba-4a4a-b6a2-041423df675c",
   "metadata": {},
   "source": [
    "# Code"
   ]
  },
  {
   "cell_type": "code",
   "execution_count": 4,
   "id": "2fa0e7fa-0e4c-411b-86a4-deab428c6aeb",
   "metadata": {},
   "outputs": [
    {
     "name": "stdout",
     "output_type": "stream",
     "text": [
      "Loading Pickle\n",
      "Pickle Loaded\n"
     ]
    }
   ],
   "source": [
    "if data_load_from_file or pickle_create:\n",
    "    print(\"Files start\")\n",
    "    files = [f for f in os.listdir(data_dir) if f.endswith('.npz')][:100]\n",
    "    print(\"Files done\")\n",
    "    \n",
    "    records = []\n",
    "    print(\"Records start\")\n",
    "    for file in tqdm(files):\n",
    "        path = os.path.join(data_dir, file)\n",
    "        try:\n",
    "            data = np.load(path)\n",
    "            records.extend([{k: arr[i] for k, arr in data.items()} for i in range(len(next(iter(data.values()))))])\n",
    "            # print(f\"Loaded: {file}\")\n",
    "        except Exception as e:\n",
    "            print(f\"Failed to load: {file} : {e}\")\n",
    "            pass\n",
    "    \n",
    "    print(\"DF start\")\n",
    "    df = pd.DataFrame(records)\n",
    "    print(\"DF done\")\n",
    "    if pickle_create:\n",
    "        print(\"Starting pickle\")\n",
    "        df.to_pickle(pickle_path)\n",
    "        print(f\"Pickle saved to: {pickle_path}\")\n",
    "        \n",
    "if pickle_load:\n",
    "    print(\"Loading Pickle\")\n",
    "    df = pd.read_pickle('dataframe.pkl')\n",
    "    print(\"Pickle Loaded\")"
   ]
  },
  {
   "cell_type": "code",
   "execution_count": 5,
   "id": "34ea9ac0-651b-4344-99e0-ce0477a7194a",
   "metadata": {},
   "outputs": [],
   "source": [
    "# def print_column_info(df):\n",
    "#     for col in df.columns:\n",
    "#         dtype = df[col].dtype\n",
    "#         sample = df[col].dropna().iloc[0] if not df[col].dropna().empty else \"NaN\"\n",
    "#         print(f\"{col}: {dtype}, sample: {sample}\")\n",
    "# print_column_info(df)\n"
   ]
  },
  {
   "cell_type": "code",
   "execution_count": 6,
   "id": "1d0644fa-97be-491e-8899-be3bc42e79bf",
   "metadata": {},
   "outputs": [
    {
     "name": "stdout",
     "output_type": "stream",
     "text": [
      "Remaining samples after dropping NaNs: 12800\n"
     ]
    }
   ],
   "source": [
    "df = df.dropna(subset=['l2_cloud_mask', 'l2_cloud_phase', 'l2_cod', 'l2_cps'])\n",
    "print(f\"Remaining samples after dropping NaNs: {len(df)}\")"
   ]
  },
  {
   "cell_type": "code",
   "execution_count": 7,
   "id": "a41ae380-778e-4d37-b33f-d0b5ea76b6a4",
   "metadata": {},
   "outputs": [],
   "source": [
    "def preprocess(df):\n",
    "    # Inputs: stack rad arrays (N samples, 128 rows, 16 channels)\n",
    "    # We want shape (N, channels=16, height=128)\n",
    "    rad_np = np.stack(df['rad'].values)  # shape (N, 128, 16)\n",
    "    X = torch.tensor(rad_np, dtype=torch.float32).permute(0, 2, 1)  # (N, 16, 128)\n",
    "    \n",
    "    # Targets: stack and convert\n",
    "    y_mask = torch.tensor(np.stack(df['l2_cloud_mask'].values), dtype=torch.long)    # (N, 128)\n",
    "    y_phase = torch.tensor(np.stack(df['l2_cloud_phase'].values), dtype=torch.long)  # (N, 128)\n",
    "    y_cod = torch.tensor(np.stack(df['l2_cod'].values), dtype=torch.float32)         # (N, 128)\n",
    "    y_cps = torch.tensor(np.stack(df['l2_cps'].values), dtype=torch.float32)         # (N, 128)\n",
    "    \n",
    "    return X, y_mask, y_phase, y_cod, y_cps\n",
    "\n",
    "X, y_mask, y_phase, y_cod, y_cps = preprocess(df)"
   ]
  },
  {
   "cell_type": "code",
   "execution_count": 8,
   "id": "f3c83796-60a6-43f8-a083-4352f21fcb8a",
   "metadata": {},
   "outputs": [],
   "source": [
    "class MultiTaskModel(nn.Module):\n",
    "    def __init__(self, in_channels=16, seq_length=128):\n",
    "        super().__init__()\n",
    "        \n",
    "        # Shared feature extractor\n",
    "        self.conv1 = nn.Conv1d(in_channels, 64, kernel_size=5, padding=2)\n",
    "        self.bn1 = nn.BatchNorm1d(64)\n",
    "        \n",
    "        self.conv2 = nn.Conv1d(64, 128, kernel_size=5, padding=2)\n",
    "        self.bn2 = nn.BatchNorm1d(128)\n",
    "        \n",
    "        self.conv3 = nn.Conv1d(128, 256, kernel_size=3, padding=1)\n",
    "        self.bn3 = nn.BatchNorm1d(256)\n",
    "        \n",
    "        self.dropout = nn.Dropout(0.3)\n",
    "        \n",
    "        # Individual heads with extra layers\n",
    "        self.mask_head = nn.Sequential(\n",
    "            nn.Conv1d(256, 128, kernel_size=3, padding=1),\n",
    "            nn.ReLU(),\n",
    "            nn.Dropout(0.2),\n",
    "            nn.Conv1d(128, 2, kernel_size=1)  # 2 classes: mask / no-mask\n",
    "        )\n",
    "        \n",
    "        self.phase_head = nn.Sequential(\n",
    "            nn.Conv1d(256, 128, kernel_size=3, padding=1),\n",
    "            nn.ReLU(),\n",
    "            nn.Dropout(0.2),\n",
    "            nn.Conv1d(128, 5, kernel_size=1)  # 5 classes\n",
    "        )\n",
    "        \n",
    "        self.cod_head = nn.Sequential(\n",
    "            nn.Conv1d(256, 128, kernel_size=3, padding=1),\n",
    "            nn.ReLU(),\n",
    "            nn.Dropout(0.2),\n",
    "            nn.Conv1d(128, 1, kernel_size=1)  # Regression\n",
    "        )\n",
    "        \n",
    "        self.cps_head = nn.Sequential(\n",
    "            nn.Conv1d(256, 128, kernel_size=3, padding=1),\n",
    "            nn.ReLU(),\n",
    "            nn.Dropout(0.2),\n",
    "            nn.Conv1d(128, 1, kernel_size=1)  # Regression\n",
    "        )\n",
    "        \n",
    "    def forward(self, x):\n",
    "        # Shared backbone\n",
    "        x = F.relu(self.bn1(self.conv1(x)))\n",
    "        x = F.relu(self.bn2(self.conv2(x)))\n",
    "        x = F.relu(self.bn3(self.conv3(x)))\n",
    "        x = self.dropout(x)\n",
    "\n",
    "        # Individual heads\n",
    "        mask_logits = self.mask_head(x)\n",
    "        phase_logits = self.phase_head(x)\n",
    "        cod_pred = self.cod_head(x).squeeze(1)\n",
    "        cps_pred = self.cps_head(x).squeeze(1)\n",
    "\n",
    "        return mask_logits, phase_logits, cod_pred, cps_pred        "
   ]
  },
  {
   "cell_type": "code",
   "execution_count": 19,
   "id": "084fc97d-9724-442a-9674-45efb4a8f715",
   "metadata": {},
   "outputs": [
    {
     "name": "stdout",
     "output_type": "stream",
     "text": [
      "                                       l2_cloud_mask  \\\n",
      "1  [1.0, 1.0, 1.0, 1.0, 1.0, 1.0, 1.0, 1.0, 1.0, ...   \n",
      "2  [1.0, 1.0, 1.0, 1.0, 1.0, 1.0, 1.0, 1.0, 1.0, ...   \n",
      "3  [1.0, 1.0, 1.0, 1.0, 1.0, 1.0, 1.0, 1.0, 1.0, ...   \n",
      "4  [1.0, 1.0, 1.0, 1.0, 1.0, 1.0, 1.0, 1.0, 1.0, ...   \n",
      "5  [1.0, 1.0, 1.0, 1.0, 1.0, 1.0, 1.0, 1.0, 1.0, ...   \n",
      "\n",
      "                                      l2_cloud_phase  \\\n",
      "1  [1.0, 1.0, 1.0, 1.0, 1.0, 1.0, 1.0, 1.0, 1.0, ...   \n",
      "2  [1.0, 1.0, 1.0, 1.0, 1.0, 1.0, 1.0, 1.0, 1.0, ...   \n",
      "3  [1.0, 3.0, 3.0, 3.0, 1.0, 1.0, 1.0, 1.0, 1.0, ...   \n",
      "4  [1.0, 3.0, 3.0, 3.0, 3.0, 3.0, 1.0, 1.0, 1.0, ...   \n",
      "5  [2.0, 3.0, 3.0, 3.0, 3.0, 3.0, 1.0, 1.0, 1.0, ...   \n",
      "\n",
      "                                              l2_cod  \\\n",
      "1  [6.55e+03, 1.395e+03, 2.464e+03, 6.55e+03, 6.5...   \n",
      "2  [6.55e+03, 6.55e+03, 6.55e+03, 1.334e+03, 1.44...   \n",
      "3  [6.55e+03, 6.55e+03, 2.268e+03, 6.55e+03, 1.86...   \n",
      "4  [6.55e+03, 6.55e+03, 6.55e+03, 2.992e+03, 1.64...   \n",
      "5  [6.55e+03, 1.777e+03, 1.78e+03, 6.55e+03, 1.97...   \n",
      "\n",
      "                                              l2_cps  \n",
      "1  [1.31e+04, 1.31e+04, 1.31e+04, 1.31e+04, 1.31e...  \n",
      "2  [1.31e+04, 1.31e+04, 1.31e+04, 6.144e+03, 6.55...  \n",
      "3  [1.31e+04, 1.31e+04, 4.3e+03, 1.31e+04, 4.544e...  \n",
      "4  [1.31e+04, 1.31e+04, 1.31e+04, 6.55e+03, 4.87e...  \n",
      "5  [1.31e+04, 4.136e+03, 4.87e+03, 1.31e+04, 6.55...  \n",
      "~~~~~~~~~~~~~~~~~~~~~~~~~~~~~~~~~~~~~~~~~~~~~~~~~~~~~~~~~~~~~~~~~~~~~~~~~~~~~~~~\n",
      "                                       l2_cloud_mask  \\\n",
      "0  [1.0, 1.0, 1.0, 1.0, 1.0, 1.0, 1.0, 1.0, 1.0, ...   \n",
      "1  [1.0, 1.0, 1.0, 1.0, 1.0, 1.0, 1.0, 1.0, 1.0, ...   \n",
      "2  [1.0, 1.0, 1.0, 1.0, 1.0, 1.0, 1.0, 1.0, 1.0, ...   \n",
      "3  [1.0, 1.0, 1.0, 1.0, 1.0, 1.0, 1.0, 1.0, 1.0, ...   \n",
      "4  [1.0, 1.0, 1.0, 1.0, 1.0, 1.0, 1.0, 1.0, 1.0, ...   \n",
      "\n",
      "                                      l2_cloud_phase  \\\n",
      "0  [1.0, 1.0, 1.0, 1.0, 1.0, 1.0, 1.0, 1.0, 1.0, ...   \n",
      "1  [1.0, 1.0, 1.0, 1.0, 1.0, 1.0, 1.0, 1.0, 1.0, ...   \n",
      "2  [1.0, 1.0, 1.0, 1.0, 1.0, 1.0, 1.0, 1.0, 1.0, ...   \n",
      "3  [1.0, 3.0, 3.0, 3.0, 1.0, 1.0, 1.0, 1.0, 1.0, ...   \n",
      "4  [1.0, 3.0, 3.0, 3.0, 3.0, 3.0, 1.0, 1.0, 1.0, ...   \n",
      "\n",
      "                                              l2_cod  \\\n",
      "0  [6.55e+03, 359.0, 407.0, 532.0, 6.55e+03, 6.55...   \n",
      "1  [6.55e+03, 1.395e+03, 2.464e+03, 6.55e+03, 6.5...   \n",
      "2  [6.55e+03, 6.55e+03, 6.55e+03, 1.334e+03, 1.44...   \n",
      "3  [6.55e+03, 6.55e+03, 2.268e+03, 6.55e+03, 1.86...   \n",
      "4  [6.55e+03, 6.55e+03, 6.55e+03, 2.992e+03, 1.64...   \n",
      "\n",
      "                                              l2_cps  \n",
      "0  [1.31e+04, 7.456e+03, 1.31e+04, 7.784e+03, 1.3...  \n",
      "1  [1.31e+04, 1.31e+04, 1.31e+04, 1.31e+04, 1.31e...  \n",
      "2  [1.31e+04, 1.31e+04, 1.31e+04, 6.144e+03, 6.55...  \n",
      "3  [1.31e+04, 1.31e+04, 4.3e+03, 1.31e+04, 4.544e...  \n",
      "4  [1.31e+04, 1.31e+04, 1.31e+04, 6.55e+03, 4.87e...  \n"
     ]
    }
   ],
   "source": [
    "# mask_zero_examples = df[df['l2_cloud_mask'].apply(lambda x: (x == 0).any())].head(5)[[\"l2_cloud_mask\", \"l2_cloud_phase\", \"l2_cod\", \"l2_cps\"]]\n",
    "# print(mask_zero_examples)\n",
    "# print(\"~\"*80)\n",
    "# mask_one_examples = df[df['l2_cloud_mask'].apply(lambda x: (x == 1).any())].head(5)[[\"l2_cloud_mask\", \"l2_cloud_phase\", \"l2_cod\", \"l2_cps\"]]\n",
    "# print(mask_one_examples)\n"
   ]
  },
  {
   "cell_type": "code",
   "execution_count": 10,
   "id": "ab5b51bd-619a-48c1-a5f0-193b652f4d99",
   "metadata": {},
   "outputs": [],
   "source": [
    "mask_loss_fn = nn.CrossEntropyLoss()   # expects shape (N, C, L), targets shape (N, L)\n",
    "phase_loss_fn = nn.CrossEntropyLoss()\n",
    "cod_loss_fn = nn.MSELoss()\n",
    "cps_loss_fn = nn.MSELoss()\n",
    "\n",
    "def multitask_loss(outputs, targets, weights=None):\n",
    "    mask_logits, phase_logits, cod_pred, cps_pred = outputs\n",
    "    mask_target, phase_target, cod_target, cps_target = targets\n",
    "        \n",
    "    # CrossEntropyLoss expects target shape (N, L) with class indices (long)\n",
    "    loss_mask = mask_loss_fn(mask_logits, mask_target.long())\n",
    "    loss_phase = phase_loss_fn(phase_logits, phase_target.long())\n",
    "    \n",
    "    # Regression losses: input and target shape (N, L), float\n",
    "    loss_cod = cod_loss_fn(cod_pred, cod_target)\n",
    "    loss_cps = cps_loss_fn(cps_pred, cps_target)\n",
    "    \n",
    "    # Combine losses with optional weighting\n",
    "    if weights is None:\n",
    "        weights = [1.0, 1.0, 1.0, 1.0]\n",
    "    \n",
    "    total_loss = weights[0]*loss_mask + weights[1]*loss_phase + weights[2]*loss_cod + weights[3]*loss_cps\n",
    "    return total_loss, (loss_mask, loss_phase, loss_cod, loss_cps)\n",
    "\n",
    "def compute_accuracy(logits, targets):\n",
    "    preds = torch.argmax(logits, dim=1)  # shape: (batch, seq_len)\n",
    "    correct = (preds == targets).float()\n",
    "    return correct.mean().item()\n",
    "\n",
    "def compute_metrics(outputs, targets):\n",
    "    mask_logits, phase_logits, cod_pred, cps_pred = outputs\n",
    "    y_mask, y_phase, y_cod, y_cps = targets\n",
    "\n",
    "    # Get predicted classes\n",
    "    mask_preds = torch.argmax(mask_logits, dim=1).detach().cpu().numpy()\n",
    "    phase_preds = torch.argmax(phase_logits, dim=1).detach().cpu().numpy()\n",
    "    \n",
    "    # True classes\n",
    "    y_mask_np = y_mask.detach().cpu().numpy()\n",
    "    y_phase_np = y_phase.detach().cpu().numpy()\n",
    "    \n",
    "    # Classification accuracy\n",
    "    mask_acc = accuracy_score(y_mask_np.flatten(), mask_preds.flatten())\n",
    "    phase_acc = accuracy_score(y_phase_np.flatten(), phase_preds.flatten())\n",
    "\n",
    "    # Regression metrics\n",
    "    cod_mae = mean_absolute_error(y_cod.detach().cpu().numpy().flatten(), cod_pred.detach().cpu().numpy().flatten())\n",
    "    cps_mae = mean_absolute_error(y_cps.detach().cpu().numpy().flatten(), cps_pred.detach().cpu().numpy().flatten())\n",
    "\n",
    "    return mask_acc, phase_acc, cod_mae, cps_mae\n"
   ]
  },
  {
   "cell_type": "code",
   "execution_count": 11,
   "id": "931a36fc-e388-4761-96ad-7989b0593796",
   "metadata": {},
   "outputs": [],
   "source": [
    "class MultiTaskDataset(Dataset):\n",
    "    def __init__(self, df):\n",
    "\n",
    "        self.df = df.reset_index(drop=True)\n",
    "        \n",
    "        # # Filter samples where all dqf flags equal 1 inside arrays\n",
    "        # valid_mask = df['l2_dqf_cloud_mask'].apply(lambda arr: (arr == 1).all())\n",
    "        # valid_phase = df['l2_dqf_cloud_phase'].apply(lambda arr: (arr == 1).all())\n",
    "        # valid_cod = df['l2_dqf_cod'].apply(lambda arr: (arr == 1).all())\n",
    "        # valid_cps = df['l2_dqf_cps'].apply(lambda arr: (arr == 1).all())\n",
    "\n",
    "        # valid_idx = valid_mask & valid_phase & valid_cod & valid_cps\n",
    "\n",
    "        # self.df = df[valid_idx].reset_index(drop=True)\n",
    "        \n",
    "    def __len__(self):\n",
    "        return len(self.df)\n",
    "    \n",
    "    def __getitem__(self, idx):\n",
    "        # Get rad input: shape (128, 16) -> transpose to (16, 128)\n",
    "        rad = self.df.loc[idx, 'rad'].astype('float32').T  # final shape: (16, 128)\n",
    "        \n",
    "        # Targets (all shape (128,))\n",
    "        mask = self.df.loc[idx, 'l2_cloud_mask'].astype('int64')\n",
    "        phase = self.df.loc[idx, 'l2_cloud_phase'].astype('int64')\n",
    "        cod = self.df.loc[idx, 'l2_cod'].astype('float32')\n",
    "        cps = self.df.loc[idx, 'l2_cps'].astype('float32')\n",
    "        \n",
    "        # Convert to torch tensors\n",
    "        rad_t = torch.tensor(rad)       # shape: (16, 128)\n",
    "        mask_t = torch.tensor(mask)     # shape: (128,)\n",
    "        phase_t = torch.tensor(phase)   # shape: (128,)\n",
    "        cod_t = torch.tensor(cod)       # shape: (128,)\n",
    "        cps_t = torch.tensor(cps)       # shape: (128,)\n",
    "        \n",
    "        return rad_t, mask_t, phase_t, cod_t, cps_t"
   ]
  },
  {
   "cell_type": "code",
   "execution_count": 12,
   "id": "10ebd3c9-85ad-4783-bec5-7e56df323e52",
   "metadata": {},
   "outputs": [],
   "source": [
    "dataset = MultiTaskDataset(df)\n",
    "model = MultiTaskModel()\n",
    "model.to(device)\n",
    "loader = DataLoader(dataset, batch_size=batch_size, shuffle=True)\n",
    "optimizer = torch.optim.Adam(model.parameters(), lr=1e-3)\n",
    "loss_weights = [1.0,1.0,1.0,1.0]"
   ]
  },
  {
   "cell_type": "code",
   "execution_count": 13,
   "id": "dcce7e9a-9160-47d5-ba61-b0e6e81c2a2e",
   "metadata": {
    "editable": true,
    "slideshow": {
     "slide_type": ""
    },
    "tags": []
   },
   "outputs": [
    {
     "name": "stdout",
     "output_type": "stream",
     "text": [
      "Epoch 1/50, Loss: 133081374058.0000, Mask Acc: 0.8500, Phase Acc: 0.5473, COD MAE: 3155.07, CPS MAE: 7257.09\n",
      "Epoch 2/50, Loss: 83692552560.0000, Mask Acc: 0.9025, Phase Acc: 0.6282, COD MAE: 2576.67, CPS MAE: 5655.60\n",
      "Epoch 3/50, Loss: 77294184424.0000, Mask Acc: 0.9077, Phase Acc: 0.6820, COD MAE: 2391.20, CPS MAE: 5450.15\n",
      "Epoch 4/50, Loss: 73400268156.0000, Mask Acc: 0.9164, Phase Acc: 0.7078, COD MAE: 2291.17, CPS MAE: 5297.75\n",
      "Epoch 5/50, Loss: 70421481848.0000, Mask Acc: 0.9202, Phase Acc: 0.7161, COD MAE: 2228.18, CPS MAE: 5193.93\n",
      "Epoch 6/50, Loss: 68209820944.0000, Mask Acc: 0.9210, Phase Acc: 0.7215, COD MAE: 2183.75, CPS MAE: 5111.33\n",
      "Epoch 7/50, Loss: 65935894048.0000, Mask Acc: 0.9262, Phase Acc: 0.7331, COD MAE: 2110.48, CPS MAE: 5056.98\n",
      "Epoch 8/50, Loss: 63969904388.0000, Mask Acc: 0.9305, Phase Acc: 0.7448, COD MAE: 2070.93, CPS MAE: 4971.58\n",
      "Epoch 9/50, Loss: 62231828326.0000, Mask Acc: 0.9337, Phase Acc: 0.7504, COD MAE: 2010.38, CPS MAE: 4931.54\n",
      "Epoch 10/50, Loss: 60665237826.0000, Mask Acc: 0.9367, Phase Acc: 0.7566, COD MAE: 1976.55, CPS MAE: 4861.82\n",
      "Epoch 11/50, Loss: 60106136578.0000, Mask Acc: 0.9357, Phase Acc: 0.7546, COD MAE: 1946.16, CPS MAE: 4836.28\n",
      "Epoch 12/50, Loss: 59320037444.0000, Mask Acc: 0.9371, Phase Acc: 0.7610, COD MAE: 1945.89, CPS MAE: 4791.24\n",
      "Epoch 13/50, Loss: 57985487014.0000, Mask Acc: 0.9387, Phase Acc: 0.7641, COD MAE: 1905.41, CPS MAE: 4745.60\n",
      "Epoch 14/50, Loss: 57018276094.0000, Mask Acc: 0.9401, Phase Acc: 0.7672, COD MAE: 1892.00, CPS MAE: 4692.27\n",
      "Epoch 15/50, Loss: 56047722720.0000, Mask Acc: 0.9423, Phase Acc: 0.7727, COD MAE: 1862.97, CPS MAE: 4656.23\n",
      "Epoch 16/50, Loss: 55184423066.0000, Mask Acc: 0.9427, Phase Acc: 0.7749, COD MAE: 1837.98, CPS MAE: 4608.16\n",
      "Epoch 17/50, Loss: 54789055188.0000, Mask Acc: 0.9440, Phase Acc: 0.7759, COD MAE: 1838.86, CPS MAE: 4588.73\n",
      "Epoch 18/50, Loss: 54860493686.0000, Mask Acc: 0.9438, Phase Acc: 0.7757, COD MAE: 1834.03, CPS MAE: 4592.18\n",
      "Epoch 19/50, Loss: 54186782424.0000, Mask Acc: 0.9443, Phase Acc: 0.7779, COD MAE: 1818.24, CPS MAE: 4564.12\n",
      "Epoch 20/50, Loss: 53851808140.0000, Mask Acc: 0.9458, Phase Acc: 0.7795, COD MAE: 1808.29, CPS MAE: 4548.65\n",
      "Epoch 21/50, Loss: 53216522768.0000, Mask Acc: 0.9462, Phase Acc: 0.7829, COD MAE: 1786.63, CPS MAE: 4515.98\n",
      "Epoch 22/50, Loss: 52098899646.0000, Mask Acc: 0.9469, Phase Acc: 0.7858, COD MAE: 1759.30, CPS MAE: 4482.31\n",
      "Epoch 23/50, Loss: 51993520596.0000, Mask Acc: 0.9480, Phase Acc: 0.7887, COD MAE: 1774.60, CPS MAE: 4450.23\n",
      "Epoch 24/50, Loss: 51783950724.0000, Mask Acc: 0.9484, Phase Acc: 0.7895, COD MAE: 1754.26, CPS MAE: 4456.28\n",
      "Epoch 25/50, Loss: 51047785224.0000, Mask Acc: 0.9497, Phase Acc: 0.7932, COD MAE: 1746.47, CPS MAE: 4423.91\n",
      "Epoch 26/50, Loss: 50580942398.0000, Mask Acc: 0.9491, Phase Acc: 0.7921, COD MAE: 1730.89, CPS MAE: 4392.15\n",
      "Epoch 27/50, Loss: 50584907366.0000, Mask Acc: 0.9497, Phase Acc: 0.7945, COD MAE: 1741.26, CPS MAE: 4386.77\n",
      "Epoch 28/50, Loss: 49886811764.0000, Mask Acc: 0.9508, Phase Acc: 0.7968, COD MAE: 1708.71, CPS MAE: 4371.14\n",
      "Epoch 29/50, Loss: 49294232806.0000, Mask Acc: 0.9513, Phase Acc: 0.7995, COD MAE: 1702.31, CPS MAE: 4329.22\n",
      "Epoch 30/50, Loss: 49248258036.0000, Mask Acc: 0.9517, Phase Acc: 0.8007, COD MAE: 1702.71, CPS MAE: 4335.76\n",
      "Epoch 31/50, Loss: 48778268074.0000, Mask Acc: 0.9530, Phase Acc: 0.8017, COD MAE: 1691.75, CPS MAE: 4324.97\n",
      "Epoch 32/50, Loss: 48120517682.0000, Mask Acc: 0.9524, Phase Acc: 0.8033, COD MAE: 1670.12, CPS MAE: 4294.53\n",
      "Epoch 33/50, Loss: 48274016006.0000, Mask Acc: 0.9533, Phase Acc: 0.8031, COD MAE: 1669.96, CPS MAE: 4303.35\n",
      "Epoch 34/50, Loss: 47722674884.0000, Mask Acc: 0.9533, Phase Acc: 0.8038, COD MAE: 1654.98, CPS MAE: 4291.10\n",
      "Epoch 35/50, Loss: 47589256168.0000, Mask Acc: 0.9539, Phase Acc: 0.8060, COD MAE: 1656.31, CPS MAE: 4265.26\n",
      "Epoch 36/50, Loss: 47389357170.0000, Mask Acc: 0.9536, Phase Acc: 0.8062, COD MAE: 1651.55, CPS MAE: 4261.28\n",
      "Epoch 37/50, Loss: 46948987894.0000, Mask Acc: 0.9545, Phase Acc: 0.8091, COD MAE: 1638.55, CPS MAE: 4235.36\n",
      "Epoch 38/50, Loss: 46947357296.0000, Mask Acc: 0.9548, Phase Acc: 0.8084, COD MAE: 1648.48, CPS MAE: 4239.43\n",
      "Epoch 39/50, Loss: 46515407498.0000, Mask Acc: 0.9548, Phase Acc: 0.8094, COD MAE: 1637.52, CPS MAE: 4213.69\n",
      "Epoch 40/50, Loss: 45915727486.0000, Mask Acc: 0.9555, Phase Acc: 0.8117, COD MAE: 1620.39, CPS MAE: 4188.39\n",
      "Epoch 41/50, Loss: 45971837770.0000, Mask Acc: 0.9555, Phase Acc: 0.8111, COD MAE: 1620.71, CPS MAE: 4184.40\n",
      "Epoch 42/50, Loss: 46052939496.0000, Mask Acc: 0.9551, Phase Acc: 0.8106, COD MAE: 1615.01, CPS MAE: 4201.11\n",
      "Epoch 43/50, Loss: 45572043774.0000, Mask Acc: 0.9560, Phase Acc: 0.8133, COD MAE: 1600.43, CPS MAE: 4172.37\n",
      "Epoch 44/50, Loss: 45006867022.0000, Mask Acc: 0.9567, Phase Acc: 0.8130, COD MAE: 1598.82, CPS MAE: 4149.86\n",
      "Epoch 45/50, Loss: 44886951424.0000, Mask Acc: 0.9561, Phase Acc: 0.8135, COD MAE: 1592.43, CPS MAE: 4156.33\n",
      "Epoch 46/50, Loss: 45018488518.0000, Mask Acc: 0.9569, Phase Acc: 0.8157, COD MAE: 1591.96, CPS MAE: 4144.02\n",
      "Epoch 47/50, Loss: 44958321764.0000, Mask Acc: 0.9569, Phase Acc: 0.8131, COD MAE: 1595.98, CPS MAE: 4145.61\n",
      "Epoch 48/50, Loss: 44782596934.0000, Mask Acc: 0.9563, Phase Acc: 0.8154, COD MAE: 1585.71, CPS MAE: 4142.52\n",
      "Epoch 49/50, Loss: 44121372604.0000, Mask Acc: 0.9569, Phase Acc: 0.8174, COD MAE: 1571.01, CPS MAE: 4112.21\n",
      "Epoch 50/50, Loss: 44069372224.0000, Mask Acc: 0.9579, Phase Acc: 0.8176, COD MAE: 1569.39, CPS MAE: 4107.95\n"
     ]
    }
   ],
   "source": [
    "epoch_losses = []\n",
    "epoch_mask_acc = []\n",
    "epoch_phase_acc = []\n",
    "epoch_cod_mae = []\n",
    "epoch_cps_mae = []\n",
    "\n",
    "for epoch in range(num_epochs):\n",
    "    model.train()\n",
    "    total_loss = 0.0\n",
    "\n",
    "    all_mask_acc = []\n",
    "    all_phase_acc = []\n",
    "    all_cod_mae = []\n",
    "    all_cps_mae = []\n",
    "\n",
    "    for X, y_mask, y_phase, y_cod, y_cps in loader:\n",
    "        X, y_mask, y_phase, y_cod, y_cps = X.to(device), y_mask.to(device), y_phase.to(device), y_cod.to(device), y_cps.to(device)\n",
    "\n",
    "        optimizer.zero_grad()\n",
    "        outputs = model(X)\n",
    "        targets = (y_mask, y_phase, y_cod, y_cps)\n",
    "\n",
    "        loss, _ = multitask_loss(outputs, targets, weights=loss_weights)\n",
    "        loss.backward()\n",
    "        optimizer.step()\n",
    "\n",
    "        total_loss += loss.item()\n",
    "\n",
    "        # Metrics\n",
    "        mask_acc, phase_acc, cod_mae, cps_mae = compute_metrics(outputs, targets)\n",
    "        all_mask_acc.append(mask_acc)\n",
    "        all_phase_acc.append(phase_acc)\n",
    "        all_cod_mae.append(cod_mae)\n",
    "        all_cps_mae.append(cps_mae)\n",
    "\n",
    "\n",
    "\n",
    "    # Epoch summary\n",
    "    print(f\"Epoch {epoch+1}/{num_epochs}, \"\n",
    "          f\"Loss: {total_loss:.4f}, \"\n",
    "          f\"Mask Acc: {np.mean(all_mask_acc):.4f}, \"\n",
    "          f\"Phase Acc: {np.mean(all_phase_acc):.4f}, \"\n",
    "          f\"COD MAE: {np.mean(all_cod_mae):.2f}, \"\n",
    "          f\"CPS MAE: {np.mean(all_cps_mae):.2f}\")\n",
    "    epoch_losses.append(total_loss)\n",
    "    epoch_mask_acc.append(np.mean(all_mask_acc))\n",
    "    epoch_phase_acc.append(np.mean(all_phase_acc))\n",
    "    epoch_cod_mae.append(np.mean(all_cod_mae))\n",
    "    epoch_cps_mae.append(np.mean(all_cps_mae))\n"
   ]
  },
  {
   "cell_type": "code",
   "execution_count": 14,
   "id": "c085b52e-f59a-4f44-9cba-e38ccaed8f29",
   "metadata": {},
   "outputs": [
    {
     "data": {
      "image/png": "[encoded data removed]",
      "text/plain": [
       "<Figure size 800x800 with 2 Axes>"
      ]
     },
     "metadata": {},
     "output_type": "display_data"
    }
   ],
   "source": [
    "epochs = list(range(1, num_epochs + 1))\n",
    "\n",
    "plt.figure(figsize=(8, 8))\n",
    "\n",
    "# Accuracy subplot\n",
    "plt.subplot(2, 1, 1)\n",
    "plt.plot(epochs, epoch_mask_acc, label='Mask Accuracy')\n",
    "plt.plot(epochs, epoch_phase_acc, label='Phase Accuracy')\n",
    "plt.ylim(0, 1)\n",
    "plt.xlim(1, num_epochs)\n",
    "plt.xlabel(\"Epoch\")\n",
    "plt.ylabel(\"Accuracy\")\n",
    "plt.title(\"Classification Accuracy\")\n",
    "plt.legend()\n",
    "\n",
    "# MAE subplot\n",
    "plt.subplot(2, 1, 2)\n",
    "plt.plot(epochs, epoch_cod_mae, label='COD MAE')\n",
    "plt.plot(epochs, epoch_cps_mae, label='CPS MAE')\n",
    "plt.xlim(1, num_epochs)\n",
    "plt.xlabel(\"Epoch\")\n",
    "plt.ylabel(\"MAE\")\n",
    "plt.title(\"Regression MAE\")\n",
    "plt.legend()\n",
    "\n",
    "plt.tight_layout()\n",
    "plt.savefig(\"graphs/Caleb/multi-task-v2.png\", dpi=300)\n",
    "plt.show()\n",
    "plt.close()\n"
   ]
  },
  {
   "cell_type": "code",
   "execution_count": 15,
   "id": "193bff39-ce03-40ad-8741-5e452554b4ee",
   "metadata": {
    "jupyter": {
     "source_hidden": true
    }
   },
   "outputs": [],
   "source": [
    "# valid_mask = df['l2_dqf_cloud_mask'].apply(lambda arr: (arr == 1).all())\n",
    "# valid_phase = df['l2_dqf_cloud_phase'].apply(lambda arr: (arr == 1).all())\n",
    "# valid_cod = df['l2_dqf_cod'].apply(lambda arr: (arr == 1).all())\n",
    "# valid_cps = df['l2_dqf_cps'].apply(lambda arr: (arr == 1).all())\n",
    "\n",
    "# valid_idx = valid_mask & valid_phase & valid_cod & valid_cps\n",
    "# print(\"Valid samples:\", valid_idx.sum(), \"/\", len(df))\n"
   ]
  },
  {
   "cell_type": "code",
   "execution_count": 16,
   "id": "be39f640-7ace-4c04-991f-7cb502f21f1c",
   "metadata": {
    "jupyter": {
     "source_hidden": true
    }
   },
   "outputs": [],
   "source": [
    "# # for col in ['l2_dqf_cloud_mask', 'l2_dqf_cloud_phase', 'l2_dqf_cod', 'l2_dqf_cps']:\n",
    "# for col in ['l2_cloud_mask', 'l2_cloud_phase', 'l2_cod', 'l2_cps']:\n",
    "#     print(f\"\\n{col}:\")\n",
    "#     vals = df[col].apply(lambda x: np.unique(x, return_counts=True))\n",
    "#     flat_vals = np.concatenate([v[0] for v in vals])\n",
    "#     print(\"Unique values (merged):\", np.unique(flat_vals))\n"
   ]
  },
  {
   "cell_type": "code",
   "execution_count": null,
   "id": "aceb34a9-4542-4931-b3a9-8dfa403cfb33",
   "metadata": {},
   "outputs": [],
   "source": []
  }
 ],
 "metadata": {
  "kernelspec": {
   "display_name": "Python 3 (ipykernel)",
   "language": "python",
   "name": "python3"
  },
  "language_info": {
   "codemirror_mode": {
    "name": "ipython",
    "version": 3
   },
   "file_extension": ".py",
   "mimetype": "text/x-python",
   "name": "python",
   "nbconvert_exporter": "python",
   "pygments_lexer": "ipython3",
   "version": "3.12.11"
  }
 },
 "nbformat": 4,
 "nbformat_minor": 5
}
