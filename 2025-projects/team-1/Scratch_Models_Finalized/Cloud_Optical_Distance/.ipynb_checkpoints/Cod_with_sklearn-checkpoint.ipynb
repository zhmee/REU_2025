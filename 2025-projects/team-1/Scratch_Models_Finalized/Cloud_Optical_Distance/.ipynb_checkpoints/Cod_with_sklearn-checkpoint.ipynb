{
 "cells": [
  {
   "cell_type": "code",
   "execution_count": 1,
   "id": "af54798d-5b48-4786-bc4e-e9f7e27e7ea5",
   "metadata": {},
   "outputs": [],
   "source": [
    "#IMPORTS\n",
    "\n",
    "#File IO\n",
    "import os\n",
    "import glob\n",
    "\n",
    "#Data manipulation\n",
    "import numpy as np\n",
    "import pandas as pd\n",
    "import matplotlib.pyplot as plt\n",
    "\n",
    "#Scikit learn\n",
    "from sklearn.preprocessing import StandardScaler\n",
    "from sklearn.model_selection import train_test_split\n",
    "from sklearn.linear_model import LinearRegression, SGDRegressor, BayesianRidge\n",
    "from sklearn.ensemble import RandomForestRegressor, HistGradientBoostingRegressor\n",
    "\n",
    "from sklearn.metrics import mean_squared_error, r2_score\n",
    "\n",
    "#Misc\n",
    "from tqdm import tqdm\n"
   ]
  },
  {
   "cell_type": "code",
   "execution_count": 2,
   "id": "d762719f-8267-4d9a-b54f-b5c9be7fed22",
   "metadata": {},
   "outputs": [],
   "source": [
    "#HYPERPARMETERS\n",
    "\n",
    "test_proportion = .2\n",
    "max_images = 200"
   ]
  },
  {
   "cell_type": "code",
   "execution_count": 3,
   "id": "d0c707ce-9715-47f9-a90a-03eb477ee9f8",
   "metadata": {},
   "outputs": [],
   "source": [
    "#GET TARGET DATA\n",
    "\n",
    "def get_cod(file):\n",
    "    data = np.load(file)\n",
    "    bands = data['rad'].reshape(128 * 128, 16)\n",
    "    cod = data['l2_cod'].flatten().reshape(-1, 1)/1000\n",
    "    return bands, cod"
   ]
  },
  {
   "cell_type": "code",
   "execution_count": 5,
   "id": "9808bffb-2ea5-4972-949e-ffeadf424962",
   "metadata": {},
   "outputs": [],
   "source": [
    "#CREATE DATASET\n",
    "\n",
    "scaler = StandardScaler()\n",
    "file_list = glob.glob('../ABI_Data/*.npz')\n",
    "\n",
    "X = []\n",
    "y = []\n",
    "\n",
    "for i, file in enumerate(file_list):\n",
    "    features, target = get_cod(file)\n",
    "    X.append(features)\n",
    "    y.append(target)\n",
    "    if i == max_images: break\n",
    "\n",
    "X = scaler.fit_transform(np.concatenate(X, axis=0))\n",
    "y = np.concatenate(y, axis=0).flatten()\n",
    "\n",
    "X_train, X_val, y_train, y_val = train_test_split(X, y, test_size=test_proportion, random_state=1)"
   ]
  },
  {
   "cell_type": "code",
   "execution_count": 6,
   "id": "963a8dae-db89-4f79-bf55-7db13705b2a6",
   "metadata": {},
   "outputs": [],
   "source": [
    "#DIFFERENT MODELS\n",
    "\n",
    "lin_model = LinearRegression()\n",
    "forest_model = RandomForestRegressor(n_estimators=20, max_depth=7)\n",
    "sgd_model = SGDRegressor(max_iter=1000, tol=1e-3, random_state=42)\n",
    "ridge_model = BayesianRidge()\n",
    "grad_boost_model = HistGradientBoostingRegressor()\n"
   ]
  },
  {
   "cell_type": "code",
   "execution_count": 7,
   "id": "e60e3cb4-a7c1-4e19-9ac7-89130d0852d0",
   "metadata": {},
   "outputs": [
    {
     "name": "stdout",
     "output_type": "stream",
     "text": [
      "R²: 0.1362\n",
      "MSE: 39.9581\n"
     ]
    }
   ],
   "source": [
    "#LINEAR REGRESSION\n",
    "lin_model.fit(X_train, y_train);\n",
    "\n",
    "y_pred = lin_model.predict(X_val)\n",
    "r2 = r2_score(y_val, y_pred)\n",
    "mse = mean_squared_error(y_val, y_pred)\n",
    "\n",
    "print(f\"R²: {r2:.4f}\")\n",
    "print(f\"MSE: {mse:.4f}\")"
   ]
  },
  {
   "cell_type": "code",
   "execution_count": 8,
   "id": "b6efc9d4-54cf-4de2-88ec-2848792ee411",
   "metadata": {},
   "outputs": [
    {
     "name": "stdout",
     "output_type": "stream",
     "text": [
      "R²: 0.2672\n",
      "MSE: 33.8982\n"
     ]
    }
   ],
   "source": [
    "#SGD\n",
    "sgd_model.fit(X_train, y_train);\n",
    "\n",
    "y_pred = sgd_model.predict(X_val)\n",
    "r2 = r2_score(y_val, y_pred)\n",
    "mse = mean_squared_error(y_val, y_pred)\n",
    "\n",
    "print(f\"R²: {r2:.4f}\")\n",
    "print(f\"MSE: {mse:.4f}\")"
   ]
  },
  {
   "cell_type": "code",
   "execution_count": 9,
   "id": "7df8db9d-4ba7-46a6-8885-ce096960ce11",
   "metadata": {},
   "outputs": [
    {
     "name": "stderr",
     "output_type": "stream",
     "text": [
      "/umbc/rs/cybertrn/reu2025/team1/research/Model1/envs/jupyter_env/lib/python3.12/site-packages/numpy/_core/_methods.py:170: RuntimeWarning: overflow encountered in reduce\n",
      "  arrmean = umr_sum(arr, axis, dtype, keepdims=True, where=where)\n"
     ]
    },
    {
     "name": "stdout",
     "output_type": "stream",
     "text": [
      "R²: 0.2682\n",
      "MSE: 33.8496\n"
     ]
    },
    {
     "name": "stderr",
     "output_type": "stream",
     "text": [
      "/umbc/rs/cybertrn/reu2025/team1/research/Model1/envs/jupyter_env/lib/python3.12/site-packages/sklearn/linear_model/_bayes.py:418: RuntimeWarning: divide by zero encountered in divide\n",
      "  [Vh.T, Vh / (eigen_vals_ + lambda_ / alpha_)[:, np.newaxis], XT_y]\n"
     ]
    }
   ],
   "source": [
    "#RIDGE\n",
    "ridge_model.fit(X_train, y_train);\n",
    "\n",
    "y_pred = ridge_model.predict(X_val)\n",
    "r2 = r2_score(y_val, y_pred)\n",
    "mse = mean_squared_error(y_val, y_pred)\n",
    "\n",
    "print(f\"R²: {r2:.4f}\")\n",
    "print(f\"MSE: {mse:.4f}\")"
   ]
  },
  {
   "cell_type": "code",
   "execution_count": 10,
   "id": "a30875a7-7b6a-4e89-9a37-d686b46345a9",
   "metadata": {},
   "outputs": [
    {
     "name": "stdout",
     "output_type": "stream",
     "text": [
      "R²: 0.4757\n",
      "MSE: 24.2537\n"
     ]
    }
   ],
   "source": [
    "#RANDOM FOREST\n",
    "forest_model.fit(X_train, y_train);\n",
    "\n",
    "y_pred = forest_model.predict(X_val)\n",
    "r2 = r2_score(y_val, y_pred)\n",
    "mse = mean_squared_error(y_val, y_pred)\n",
    "\n",
    "print(f\"R²: {r2:.4f}\")\n",
    "print(f\"MSE: {mse:.4f}\")"
   ]
  },
  {
   "cell_type": "code",
   "execution_count": 11,
   "id": "431da40c-cd2d-4113-bcd1-bc232c727102",
   "metadata": {},
   "outputs": [
    {
     "name": "stdout",
     "output_type": "stream",
     "text": [
      "R²: 0.7405\n",
      "MSE: 12.0052\n"
     ]
    }
   ],
   "source": [
    "#HIST GRAD BOOST\n",
    "grad_boost_model.fit(X_train, y_train);\n",
    "\n",
    "y_pred = grad_boost_model.predict(X_val)\n",
    "r2 = r2_score(y_val, y_pred)\n",
    "mse = mean_squared_error(y_val, y_pred)\n",
    "\n",
    "print(f\"R²: {r2:.4f}\")\n",
    "print(f\"MSE: {mse:.4f}\")"
   ]
  },
  {
   "cell_type": "code",
   "execution_count": null,
   "id": "bb7dfe96-ca66-43aa-8a95-aad9fff8e5a0",
   "metadata": {},
   "outputs": [],
   "source": []
  }
 ],
 "metadata": {
  "kernelspec": {
   "display_name": "Python 3 (ipykernel)",
   "language": "python",
   "name": "python3"
  },
  "language_info": {
   "codemirror_mode": {
    "name": "ipython",
    "version": 3
   },
   "file_extension": ".py",
   "mimetype": "text/x-python",
   "name": "python",
   "nbconvert_exporter": "python",
   "pygments_lexer": "ipython3",
   "version": "3.12.11"
  }
 },
 "nbformat": 4,
 "nbformat_minor": 5
}
