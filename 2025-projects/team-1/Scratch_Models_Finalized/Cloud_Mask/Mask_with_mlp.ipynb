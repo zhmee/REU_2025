{
 "cells": [
  {
   "cell_type": "code",
   "execution_count": 1,
   "id": "c8faf57b-9c43-4055-a05a-ef1a5656c4d5",
   "metadata": {},
   "outputs": [],
   "source": [
    "#IMPORTS\n",
    "\n",
    "#File IO\n",
    "import os\n",
    "import glob\n",
    "\n",
    "#Data manipulation\n",
    "import numpy as np\n",
    "import pandas as pd\n",
    "import matplotlib.pyplot as plt\n",
    "\n",
    "#Pytorch\n",
    "import torch\n",
    "import torch.nn as nn\n",
    "import torch.optim as optim\n",
    "from torch.utils.data import TensorDataset, DataLoader, random_split\n",
    "import torch.nn.functional as F\n",
    "\n",
    "#Scikit learn\n",
    "from sklearn.metrics import confusion_matrix, classification_report\n",
    "from sklearn.metrics import mean_squared_error, r2_score\n",
    "\n",
    "#Misc\n",
    "from tqdm import tqdm\n"
   ]
  },
  {
   "cell_type": "code",
   "execution_count": 2,
   "id": "ad484d1f-fb92-4d20-9405-9e32bcfcbf23",
   "metadata": {},
   "outputs": [],
   "source": [
    "#HYPERPARMETERS\n",
    "\n",
    "train_proportion = .8\n",
    "val_proportion = .1\n",
    "\n",
    "max_images = 200\n",
    "batch_size = 2048\n",
    "learning_rate = .001\n",
    "num_epochs = 25"
   ]
  },
  {
   "cell_type": "code",
   "execution_count": 3,
   "id": "fd212074-3642-4c9c-8693-e0d2cff5122b",
   "metadata": {},
   "outputs": [],
   "source": [
    "#GET TARGET DATA\n",
    "\n",
    "def get_mask(file):\n",
    "    data = np.load(file)\n",
    "    bands = data['rad'].reshape(128 * 128, 16)\n",
    "    cloud_mask = data['l2_cloud_mask'].flatten().reshape(-1, 1)\n",
    "    return bands, cloud_mask"
   ]
  },
  {
   "cell_type": "code",
   "execution_count": 4,
   "id": "d691cbe3-cc3d-4f98-9a6c-7b31de7fe1d7",
   "metadata": {},
   "outputs": [],
   "source": [
    "#CREATE DATASET\n",
    "\n",
    "file_list = glob.glob('../ABI_Data_Scaled/*.npz')\n",
    "\n",
    "X = []\n",
    "y = []\n",
    "\n",
    "for i, file in enumerate(file_list):\n",
    "    features, target = get_mask(file)\n",
    "    X.append(features)\n",
    "    y.append(target)\n",
    "    if i == max_images: break\n",
    "\n",
    "X = torch.from_numpy(np.concatenate(X, axis=0))\n",
    "y = torch.from_numpy(np.concatenate(y, axis=0)).long().squeeze() #Long for CrossEntropy\n",
    "\n",
    "dataset = TensorDataset(X, y)"
   ]
  },
  {
   "cell_type": "code",
   "execution_count": 5,
   "id": "9fa4cd92-f2d6-4289-aeec-87de24e824d6",
   "metadata": {},
   "outputs": [],
   "source": [
    "#CREATE DATALOADERS\n",
    "\n",
    "train_size = int(train_proportion * len(dataset))\n",
    "val_size = int(val_proportion * len(dataset))\n",
    "test_size = len(dataset) - train_size - val_size\n",
    "\n",
    "generator = torch.Generator().manual_seed(1)\n",
    "train_dataset, val_dataset, test_dataset = random_split(dataset, [train_size, val_size, test_size], generator=generator)\n",
    "\n",
    "train_loader = DataLoader(train_dataset, batch_size=batch_size, shuffle=True, generator=generator)\n",
    "val_loader = DataLoader(val_dataset, batch_size=batch_size, shuffle=False)\n",
    "test_loader = DataLoader(test_dataset, batch_size=batch_size, shuffle=False)"
   ]
  },
  {
   "cell_type": "code",
   "execution_count": 6,
   "id": "50dbd345-3457-4f3a-9be6-4aedd6321fe5",
   "metadata": {},
   "outputs": [],
   "source": [
    "#CREATE MODEL\n",
    "\n",
    "class FeedForwardClassifier(nn.Module):\n",
    "    def __init__(self, input_dim=16, output_dim=2):\n",
    "        super(FeedForwardClassifier, self).__init__()\n",
    "        self.fc1 = nn.Linear(input_dim, 32)\n",
    "        self.fc2 = nn.Linear(32, 64)\n",
    "        self.fc3 = nn.Linear(64, output_dim)\n",
    "        \n",
    "    def forward(self, x):\n",
    "        x = F.relu(self.fc1(x))\n",
    "        x = F.relu(self.fc2(x))\n",
    "        x = self.fc3(x) \n",
    "        return x\n",
    "\n",
    "num_classes = 2\n",
    "model = FeedForwardClassifier(output_dim = num_classes)\n",
    "criterion = nn.CrossEntropyLoss()\n",
    "optimizer = optim.Adam(model.parameters(), lr=learning_rate)\n",
    "device = torch.device('cuda' if torch.cuda.is_available() else 'cpu')\n",
    "model.to(device)\n",
    "\n",
    "train_losses, val_losses = [], []\n",
    "train_accuracies, val_accuracies = [], []"
   ]
  },
  {
   "cell_type": "code",
   "execution_count": 7,
   "id": "122080e7-7691-4d4c-bc65-ecaa479bfca7",
   "metadata": {},
   "outputs": [],
   "source": [
    "#TRAIN and EVALUATE FUNCTIONS\n",
    "\n",
    "def train(model, train_loader):\n",
    "    model.train()\n",
    "    train_loss = correct = total = 0\n",
    "    \n",
    "    for inputs, labels in tqdm(train_loader):\n",
    "        inputs, labels = inputs.to(device).float(), labels.to(device)\n",
    "        optimizer.zero_grad()\n",
    "        outputs = model(inputs)\n",
    "        loss = criterion(outputs, labels)\n",
    "        loss.backward()\n",
    "        optimizer.step()\n",
    "        \n",
    "        train_loss += loss.item() * inputs.size(0)\n",
    "        preds = outputs.argmax(dim=1)\n",
    "        correct += (preds == labels).sum().item()\n",
    "        total += labels.size(0)\n",
    "        \n",
    "    train_loss /= total\n",
    "    final_acc = correct / total\n",
    "    return train_loss, final_acc\n",
    "\n",
    "\n",
    "def eval(model, val_loader):\n",
    "    model.eval()\n",
    "    val_loss = 0\n",
    "    correct = 0\n",
    "    total = 0\n",
    "    with torch.no_grad():\n",
    "        for inputs, labels in val_loader:\n",
    "            inputs, labels = inputs.to(device).float(), labels.to(device)\n",
    "            outputs = model(inputs)\n",
    "            loss = criterion(outputs, labels)\n",
    "            val_loss += loss.item() * inputs.size(0)\n",
    "            preds = outputs.argmax(dim=1)\n",
    "            correct += (preds == labels).sum().item()\n",
    "            total += labels.size(0)\n",
    "    \n",
    "    val_loss /= total\n",
    "    final_acc = correct / total\n",
    "\n",
    "    return val_loss, final_acc"
   ]
  },
  {
   "cell_type": "code",
   "execution_count": 8,
   "id": "4ccdbd20-a62d-4091-8968-85f5a6f48dec",
   "metadata": {},
   "outputs": [
    {
     "name": "stderr",
     "output_type": "stream",
     "text": [
      "100%|██████████| 1287/1287 [00:24<00:00, 51.78it/s]\n"
     ]
    },
    {
     "name": "stdout",
     "output_type": "stream",
     "text": [
      "Epoch: 1 | Train Loss: 0.4820 | Train Acc: 0.8431 | Val Loss: 0.2779 | Val Acc: 0.8816\n"
     ]
    },
    {
     "name": "stderr",
     "output_type": "stream",
     "text": [
      "100%|██████████| 1287/1287 [00:24<00:00, 52.10it/s]\n"
     ]
    },
    {
     "name": "stdout",
     "output_type": "stream",
     "text": [
      "Epoch: 2 | Train Loss: 0.2806 | Train Acc: 0.8800 | Val Loss: 0.2831 | Val Acc: 0.8733\n"
     ]
    },
    {
     "name": "stderr",
     "output_type": "stream",
     "text": [
      "100%|██████████| 1287/1287 [00:24<00:00, 51.96it/s]\n"
     ]
    },
    {
     "name": "stdout",
     "output_type": "stream",
     "text": [
      "Epoch: 3 | Train Loss: 0.2737 | Train Acc: 0.8861 | Val Loss: 0.2664 | Val Acc: 0.8957\n"
     ]
    },
    {
     "name": "stderr",
     "output_type": "stream",
     "text": [
      "100%|██████████| 1287/1287 [00:24<00:00, 51.94it/s]\n"
     ]
    },
    {
     "name": "stdout",
     "output_type": "stream",
     "text": [
      "Epoch: 4 | Train Loss: 0.2669 | Train Acc: 0.8906 | Val Loss: 0.3038 | Val Acc: 0.8550\n"
     ]
    },
    {
     "name": "stderr",
     "output_type": "stream",
     "text": [
      "100%|██████████| 1287/1287 [00:24<00:00, 52.34it/s]\n"
     ]
    },
    {
     "name": "stdout",
     "output_type": "stream",
     "text": [
      "Epoch: 5 | Train Loss: 0.2618 | Train Acc: 0.8940 | Val Loss: 0.2518 | Val Acc: 0.9071\n"
     ]
    },
    {
     "name": "stderr",
     "output_type": "stream",
     "text": [
      "100%|██████████| 1287/1287 [00:24<00:00, 52.38it/s]\n"
     ]
    },
    {
     "name": "stdout",
     "output_type": "stream",
     "text": [
      "Epoch: 6 | Train Loss: 0.2534 | Train Acc: 0.8967 | Val Loss: 0.2398 | Val Acc: 0.9082\n"
     ]
    },
    {
     "name": "stderr",
     "output_type": "stream",
     "text": [
      "100%|██████████| 1287/1287 [00:24<00:00, 52.17it/s]\n"
     ]
    },
    {
     "name": "stdout",
     "output_type": "stream",
     "text": [
      "Epoch: 7 | Train Loss: 0.2481 | Train Acc: 0.8977 | Val Loss: 0.2332 | Val Acc: 0.9081\n"
     ]
    },
    {
     "name": "stderr",
     "output_type": "stream",
     "text": [
      "100%|██████████| 1287/1287 [00:24<00:00, 51.97it/s]\n"
     ]
    },
    {
     "name": "stdout",
     "output_type": "stream",
     "text": [
      "Epoch: 8 | Train Loss: 0.2405 | Train Acc: 0.9008 | Val Loss: 0.2240 | Val Acc: 0.9118\n"
     ]
    },
    {
     "name": "stderr",
     "output_type": "stream",
     "text": [
      "100%|██████████| 1287/1287 [00:24<00:00, 51.77it/s]\n"
     ]
    },
    {
     "name": "stdout",
     "output_type": "stream",
     "text": [
      "Epoch: 9 | Train Loss: 0.2327 | Train Acc: 0.9037 | Val Loss: 0.2304 | Val Acc: 0.9038\n"
     ]
    },
    {
     "name": "stderr",
     "output_type": "stream",
     "text": [
      "100%|██████████| 1287/1287 [00:24<00:00, 51.56it/s]\n"
     ]
    },
    {
     "name": "stdout",
     "output_type": "stream",
     "text": [
      "Epoch: 10 | Train Loss: 0.2293 | Train Acc: 0.9045 | Val Loss: 0.2137 | Val Acc: 0.9131\n"
     ]
    },
    {
     "name": "stderr",
     "output_type": "stream",
     "text": [
      "100%|██████████| 1287/1287 [00:24<00:00, 52.05it/s]\n"
     ]
    },
    {
     "name": "stdout",
     "output_type": "stream",
     "text": [
      "Epoch: 11 | Train Loss: 0.2239 | Train Acc: 0.9066 | Val Loss: 0.2122 | Val Acc: 0.9153\n"
     ]
    },
    {
     "name": "stderr",
     "output_type": "stream",
     "text": [
      "100%|██████████| 1287/1287 [00:24<00:00, 52.09it/s]\n"
     ]
    },
    {
     "name": "stdout",
     "output_type": "stream",
     "text": [
      "Epoch: 12 | Train Loss: 0.2192 | Train Acc: 0.9087 | Val Loss: 0.2121 | Val Acc: 0.9142\n"
     ]
    },
    {
     "name": "stderr",
     "output_type": "stream",
     "text": [
      "100%|██████████| 1287/1287 [00:24<00:00, 51.81it/s]\n"
     ]
    },
    {
     "name": "stdout",
     "output_type": "stream",
     "text": [
      "Epoch: 13 | Train Loss: 0.2171 | Train Acc: 0.9092 | Val Loss: 0.2230 | Val Acc: 0.9095\n"
     ]
    },
    {
     "name": "stderr",
     "output_type": "stream",
     "text": [
      "100%|██████████| 1287/1287 [00:24<00:00, 52.11it/s]\n"
     ]
    },
    {
     "name": "stdout",
     "output_type": "stream",
     "text": [
      "Epoch: 14 | Train Loss: 0.2158 | Train Acc: 0.9099 | Val Loss: 0.2079 | Val Acc: 0.9134\n"
     ]
    },
    {
     "name": "stderr",
     "output_type": "stream",
     "text": [
      "100%|██████████| 1287/1287 [00:24<00:00, 52.09it/s]\n"
     ]
    },
    {
     "name": "stdout",
     "output_type": "stream",
     "text": [
      "Epoch: 15 | Train Loss: 0.2148 | Train Acc: 0.9100 | Val Loss: 0.2055 | Val Acc: 0.9135\n"
     ]
    },
    {
     "name": "stderr",
     "output_type": "stream",
     "text": [
      "100%|██████████| 1287/1287 [00:24<00:00, 52.19it/s]\n"
     ]
    },
    {
     "name": "stdout",
     "output_type": "stream",
     "text": [
      "Epoch: 16 | Train Loss: 0.2112 | Train Acc: 0.9112 | Val Loss: 0.2128 | Val Acc: 0.9111\n"
     ]
    },
    {
     "name": "stderr",
     "output_type": "stream",
     "text": [
      "100%|██████████| 1287/1287 [00:24<00:00, 51.72it/s]\n"
     ]
    },
    {
     "name": "stdout",
     "output_type": "stream",
     "text": [
      "Epoch: 17 | Train Loss: 0.2089 | Train Acc: 0.9116 | Val Loss: 0.2421 | Val Acc: 0.8932\n"
     ]
    },
    {
     "name": "stderr",
     "output_type": "stream",
     "text": [
      "100%|██████████| 1287/1287 [00:24<00:00, 51.99it/s]\n"
     ]
    },
    {
     "name": "stdout",
     "output_type": "stream",
     "text": [
      "Epoch: 18 | Train Loss: 0.2051 | Train Acc: 0.9126 | Val Loss: 0.1925 | Val Acc: 0.9167\n"
     ]
    },
    {
     "name": "stderr",
     "output_type": "stream",
     "text": [
      "100%|██████████| 1287/1287 [00:24<00:00, 52.30it/s]\n"
     ]
    },
    {
     "name": "stdout",
     "output_type": "stream",
     "text": [
      "Epoch: 19 | Train Loss: 0.2005 | Train Acc: 0.9142 | Val Loss: 0.2424 | Val Acc: 0.8916\n"
     ]
    },
    {
     "name": "stderr",
     "output_type": "stream",
     "text": [
      "100%|██████████| 1287/1287 [00:24<00:00, 51.95it/s]\n"
     ]
    },
    {
     "name": "stdout",
     "output_type": "stream",
     "text": [
      "Epoch: 20 | Train Loss: 0.1979 | Train Acc: 0.9155 | Val Loss: 0.1901 | Val Acc: 0.9175\n"
     ]
    },
    {
     "name": "stderr",
     "output_type": "stream",
     "text": [
      "100%|██████████| 1287/1287 [00:24<00:00, 51.84it/s]\n"
     ]
    },
    {
     "name": "stdout",
     "output_type": "stream",
     "text": [
      "Epoch: 21 | Train Loss: 0.1952 | Train Acc: 0.9166 | Val Loss: 0.2022 | Val Acc: 0.9131\n"
     ]
    },
    {
     "name": "stderr",
     "output_type": "stream",
     "text": [
      "100%|██████████| 1287/1287 [00:24<00:00, 51.75it/s]\n"
     ]
    },
    {
     "name": "stdout",
     "output_type": "stream",
     "text": [
      "Epoch: 22 | Train Loss: 0.1925 | Train Acc: 0.9179 | Val Loss: 0.2058 | Val Acc: 0.9125\n"
     ]
    },
    {
     "name": "stderr",
     "output_type": "stream",
     "text": [
      "100%|██████████| 1287/1287 [00:24<00:00, 52.07it/s]\n"
     ]
    },
    {
     "name": "stdout",
     "output_type": "stream",
     "text": [
      "Epoch: 23 | Train Loss: 0.1887 | Train Acc: 0.9198 | Val Loss: 0.1828 | Val Acc: 0.9211\n"
     ]
    },
    {
     "name": "stderr",
     "output_type": "stream",
     "text": [
      "100%|██████████| 1287/1287 [00:24<00:00, 51.77it/s]\n"
     ]
    },
    {
     "name": "stdout",
     "output_type": "stream",
     "text": [
      "Epoch: 24 | Train Loss: 0.1859 | Train Acc: 0.9209 | Val Loss: 0.1735 | Val Acc: 0.9285\n"
     ]
    },
    {
     "name": "stderr",
     "output_type": "stream",
     "text": [
      "100%|██████████| 1287/1287 [00:24<00:00, 52.18it/s]\n"
     ]
    },
    {
     "name": "stdout",
     "output_type": "stream",
     "text": [
      "Epoch: 25 | Train Loss: 0.1791 | Train Acc: 0.9239 | Val Loss: 0.1680 | Val Acc: 0.9287\n"
     ]
    }
   ],
   "source": [
    "#TRAIN MODEL\n",
    "\n",
    "for e in range(1, num_epochs+1):\n",
    "    train_loss, train_acc = train(model, train_loader)\n",
    "    val_loss, val_acc = eval(model, val_loader)\n",
    "    \n",
    "    train_losses.append(train_loss)\n",
    "    val_losses.append(val_loss)\n",
    "    train_accuracies.append(train_acc)\n",
    "    val_accuracies.append(val_acc)\n",
    "\n",
    "    print(f\"Epoch: {e} | Train Loss: {train_loss:.4f} | Train Acc: {train_acc:.4f} | Val Loss: {val_loss:.4f} | Val Acc: {val_acc:.4f}\")"
   ]
  },
  {
   "cell_type": "code",
   "execution_count": 9,
   "id": "d96e3d4a-ce34-4ebf-aa1e-7dd8a3bad81f",
   "metadata": {},
   "outputs": [
    {
     "data": {
      "image/png": "[encoded data removed]",
      "text/plain": [
       "<Figure size 1200x500 with 2 Axes>"
      ]
     },
     "metadata": {},
     "output_type": "display_data"
    }
   ],
   "source": [
    "#PLOT LOSS and ACCURACY\n",
    "\n",
    "plt.figure(figsize=(12,5))\n",
    "\n",
    "plt.subplot(1, 2, 1)\n",
    "plt.plot(train_losses, label='Train Loss')\n",
    "plt.plot(val_losses, label='Val Loss')\n",
    "plt.title('Cloud Mask Loss')\n",
    "plt.legend()\n",
    "\n",
    "plt.subplot(1, 2, 2)\n",
    "plt.plot(train_accuracies, label='Train Acc')\n",
    "plt.plot(val_accuracies, label='Val Acc')\n",
    "plt.title('Cloud Mask Accuracy')\n",
    "plt.legend()\n",
    "\n",
    "plt.savefig(\"./graphs/mlp_cloud_mask.png\")  \n",
    "\n",
    "plt.show()"
   ]
  },
  {
   "cell_type": "code",
   "execution_count": 10,
   "id": "28d11584-8d9d-4bd6-9c50-29aafbacbc07",
   "metadata": {},
   "outputs": [
    {
     "name": "stderr",
     "output_type": "stream",
     "text": [
      "100%|██████████| 161/161 [00:02<00:00, 70.43it/s]\n"
     ]
    },
    {
     "name": "stdout",
     "output_type": "stream",
     "text": [
      "REPORT:\n",
      "               precision    recall  f1-score   support\n",
      "\n",
      "           0      0.853     0.839     0.846     76239\n",
      "           1      0.952     0.957     0.954    253080\n",
      "\n",
      "    accuracy                          0.929    329319\n",
      "   macro avg      0.903     0.898     0.900    329319\n",
      "weighted avg      0.929     0.929     0.929    329319\n",
      "\n",
      "CONFUSION MATRIX:\n",
      " [[ 63953  12286]\n",
      " [ 10985 242095]]\n",
      "\n",
      "IOU: [0.73320416 0.91230602]\n",
      "Unweighted: 0.8227550933084586\n",
      "Weighted: 0.8708430441747291\n"
     ]
    }
   ],
   "source": [
    "#MODEL EVALUATION\n",
    "\n",
    "all_preds = []\n",
    "all_labels = []\n",
    "\n",
    "model.eval()\n",
    "with torch.no_grad():\n",
    "    for inputs, labels in tqdm(test_loader):\n",
    "        inputs = inputs.to(device).float()\n",
    "        labels = labels.to(device)\n",
    "        outputs = model(inputs)\n",
    "        preds = torch.argmax(outputs, dim=1)\n",
    "        all_preds.extend(preds.cpu().numpy())\n",
    "        all_labels.extend(labels.cpu().numpy())\n",
    "        \n",
    "report = classification_report(all_labels, all_preds, digits=3, output_dict=True)\n",
    "f1_scores = np.array([report[str(i)]['f1-score'] for i in range(num_classes)])\n",
    "supports = np.array([report[str(i)]['support'] for i in range(num_classes)])\n",
    "iou = f1_scores / (2 - f1_scores)\n",
    "\n",
    "print(\"REPORT:\\n\", classification_report(all_labels, all_preds, digits=3))\n",
    "print(\"CONFUSION MATRIX:\\n\", confusion_matrix(all_labels, all_preds))\n",
    "print(\"\\nIOU:\", iou)\n",
    "print(\"Unweighted:\", np.mean(iou))\n",
    "print(\"Weighted:\", np.average(iou, weights=supports))"
   ]
  },
  {
   "cell_type": "code",
   "execution_count": null,
   "id": "6ac3889b-b233-4063-85b9-e0e8b2cddace",
   "metadata": {},
   "outputs": [],
   "source": []
  }
 ],
 "metadata": {
  "kernelspec": {
   "display_name": "Python 3 (ipykernel)",
   "language": "python",
   "name": "python3"
  },
  "language_info": {
   "codemirror_mode": {
    "name": "ipython",
    "version": 3
   },
   "file_extension": ".py",
   "mimetype": "text/x-python",
   "name": "python",
   "nbconvert_exporter": "python",
   "pygments_lexer": "ipython3",
   "version": "3.12.11"
  }
 },
 "nbformat": 4,
 "nbformat_minor": 5
}
