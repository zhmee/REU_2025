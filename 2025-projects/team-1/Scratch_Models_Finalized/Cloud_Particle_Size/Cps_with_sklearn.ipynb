{
 "cells": [
  {
   "cell_type": "code",
   "execution_count": 1,
   "id": "03d13171-e603-43d3-a8d1-9bb2b647ede3",
   "metadata": {},
   "outputs": [],
   "source": [
    "#IMPORTS\n",
    "\n",
    "#File IO\n",
    "import os\n",
    "import glob\n",
    "\n",
    "#Data manipulation\n",
    "import numpy as np\n",
    "import pandas as pd\n",
    "import matplotlib.pyplot as plt\n",
    "\n",
    "#Scikit learn\n",
    "from sklearn.preprocessing import StandardScaler\n",
    "from sklearn.model_selection import train_test_split\n",
    "from sklearn.linear_model import LinearRegression, SGDRegressor, BayesianRidge\n",
    "from sklearn.ensemble import RandomForestRegressor, HistGradientBoostingRegressor\n",
    "\n",
    "from sklearn.metrics import mean_squared_error, r2_score\n",
    "\n",
    "#Misc\n",
    "from tqdm import tqdm\n"
   ]
  },
  {
   "cell_type": "code",
   "execution_count": 2,
   "id": "2daace04-a75a-44e0-9d33-1c2aac163d6b",
   "metadata": {},
   "outputs": [],
   "source": [
    "#HYPERPARMETERS\n",
    "\n",
    "test_proportion = .2\n",
    "max_images = 200"
   ]
  },
  {
   "cell_type": "code",
   "execution_count": 3,
   "id": "a50bf127-be02-4d3f-8262-588a0137690c",
   "metadata": {},
   "outputs": [],
   "source": [
    "#GET TARGET DATA\n",
    "\n",
    "def get_cps(file):\n",
    "    data = np.load(file)\n",
    "    bands = data['rad'].reshape(128 * 128, 16)\n",
    "    cps = np.log1p(data['l2_cps']).flatten().reshape(-1, 1)\n",
    "    return bands, cps"
   ]
  },
  {
   "cell_type": "code",
   "execution_count": 4,
   "id": "d1243d3d-060c-4050-92c7-4c62d426768b",
   "metadata": {},
   "outputs": [],
   "source": [
    "#CREATE DATASET\n",
    "\n",
    "scaler = StandardScaler()\n",
    "file_list = glob.glob('../ABI_Data_Scaled/*.npz')\n",
    "\n",
    "X = []\n",
    "y = []\n",
    "\n",
    "for i, file in enumerate(file_list):\n",
    "    features, target = get_cps(file)\n",
    "    X.append(features)\n",
    "    y.append(target)\n",
    "    if i == max_images: break\n",
    "\n",
    "X = scaler.fit_transform(np.concatenate(X, axis=0))\n",
    "y = np.concatenate(y, axis=0).flatten()\n",
    "\n",
    "X_train, X_val, y_train, y_val = train_test_split(X, y, test_size=test_proportion, random_state=1)"
   ]
  },
  {
   "cell_type": "code",
   "execution_count": 5,
   "id": "223993a6-e77c-43d2-b92e-b3a813882aee",
   "metadata": {},
   "outputs": [],
   "source": [
    "#DIFFERENT MODELS\n",
    "\n",
    "lin_model = LinearRegression()\n",
    "forest_model = RandomForestRegressor(n_estimators=20, max_depth=7)\n",
    "sgd_model = SGDRegressor(max_iter=1000, tol=1e-3, random_state=1)\n",
    "ridge_model = BayesianRidge()\n",
    "grad_boost_model = HistGradientBoostingRegressor()\n"
   ]
  },
  {
   "cell_type": "code",
   "execution_count": 6,
   "id": "7dac8f7e-6792-4e77-aee6-86e2f2d6cdfe",
   "metadata": {},
   "outputs": [
    {
     "name": "stdout",
     "output_type": "stream",
     "text": [
      "R²: 0.2988\n",
      "MSE: 1.6157\n"
     ]
    }
   ],
   "source": [
    "#LINEAR REGRESSION\n",
    "lin_model.fit(X_train, y_train);\n",
    "\n",
    "y_pred = lin_model.predict(X_val)\n",
    "r2 = r2_score(y_val, y_pred)\n",
    "mse = mean_squared_error(y_val, y_pred)\n",
    "\n",
    "print(f\"R²: {r2:.4f}\")\n",
    "print(f\"MSE: {mse:.4f}\")"
   ]
  },
  {
   "cell_type": "code",
   "execution_count": 7,
   "id": "ff604329-33b8-44d1-b521-4ecc1f07c171",
   "metadata": {},
   "outputs": [
    {
     "name": "stdout",
     "output_type": "stream",
     "text": [
      "R²: 0.4210\n",
      "MSE: 1.3343\n"
     ]
    }
   ],
   "source": [
    "#SGD\n",
    "sgd_model.fit(X_train, y_train);\n",
    "\n",
    "y_pred = sgd_model.predict(X_val)\n",
    "r2 = r2_score(y_val, y_pred)\n",
    "mse = mean_squared_error(y_val, y_pred)\n",
    "\n",
    "print(f\"R²: {r2:.4f}\")\n",
    "print(f\"MSE: {mse:.4f}\")"
   ]
  },
  {
   "cell_type": "code",
   "execution_count": 8,
   "id": "923f0d20-faa5-47d2-9eaf-69beecd816ee",
   "metadata": {},
   "outputs": [
    {
     "name": "stderr",
     "output_type": "stream",
     "text": [
      "/umbc/rs/cybertrn/reu2025/team1/research/Model1/envs/jupyter_env/lib/python3.12/site-packages/numpy/_core/_methods.py:170: RuntimeWarning: overflow encountered in reduce\n",
      "  arrmean = umr_sum(arr, axis, dtype, keepdims=True, where=where)\n"
     ]
    },
    {
     "name": "stdout",
     "output_type": "stream",
     "text": [
      "R²: 0.4235\n",
      "MSE: 1.3285\n"
     ]
    },
    {
     "name": "stderr",
     "output_type": "stream",
     "text": [
      "/umbc/rs/cybertrn/reu2025/team1/research/Model1/envs/jupyter_env/lib/python3.12/site-packages/sklearn/linear_model/_bayes.py:418: RuntimeWarning: divide by zero encountered in divide\n",
      "  [Vh.T, Vh / (eigen_vals_ + lambda_ / alpha_)[:, np.newaxis], XT_y]\n"
     ]
    }
   ],
   "source": [
    "#RIDGE\n",
    "ridge_model.fit(X_train, y_train);\n",
    "\n",
    "y_pred = ridge_model.predict(X_val)\n",
    "r2 = r2_score(y_val, y_pred)\n",
    "mse = mean_squared_error(y_val, y_pred)\n",
    "\n",
    "print(f\"R²: {r2:.4f}\")\n",
    "print(f\"MSE: {mse:.4f}\")"
   ]
  },
  {
   "cell_type": "code",
   "execution_count": 9,
   "id": "2c1b38e2-5180-4b83-b167-8034df54cd8f",
   "metadata": {},
   "outputs": [
    {
     "name": "stdout",
     "output_type": "stream",
     "text": [
      "R²: 0.6087\n",
      "MSE: 0.9017\n"
     ]
    }
   ],
   "source": [
    "#RANDOM FOREST\n",
    "forest_model.fit(X_train, y_train);\n",
    "\n",
    "y_pred = forest_model.predict(X_val)\n",
    "r2 = r2_score(y_val, y_pred)\n",
    "mse = mean_squared_error(y_val, y_pred)\n",
    "\n",
    "print(f\"R²: {r2:.4f}\")\n",
    "print(f\"MSE: {mse:.4f}\")"
   ]
  },
  {
   "cell_type": "code",
   "execution_count": 10,
   "id": "1ecc4c39-ddad-4439-b3d8-edfcf5572858",
   "metadata": {},
   "outputs": [
    {
     "name": "stdout",
     "output_type": "stream",
     "text": [
      "R²: 0.7392\n",
      "MSE: 0.6009\n"
     ]
    }
   ],
   "source": [
    "#HIST GRAD BOOST\n",
    "grad_boost_model.fit(X_train, y_train);\n",
    "\n",
    "y_pred = grad_boost_model.predict(X_val)\n",
    "r2 = r2_score(y_val, y_pred)\n",
    "mse = mean_squared_error(y_val, y_pred)\n",
    "\n",
    "print(f\"R²: {r2:.4f}\")\n",
    "print(f\"MSE: {mse:.4f}\")"
   ]
  },
  {
   "cell_type": "code",
   "execution_count": null,
   "id": "d5e078e0-e7f2-4f7a-bc24-3697482ab9ab",
   "metadata": {},
   "outputs": [],
   "source": []
  }
 ],
 "metadata": {
  "kernelspec": {
   "display_name": "Python 3 (ipykernel)",
   "language": "python",
   "name": "python3"
  },
  "language_info": {
   "codemirror_mode": {
    "name": "ipython",
    "version": 3
   },
   "file_extension": ".py",
   "mimetype": "text/x-python",
   "name": "python",
   "nbconvert_exporter": "python",
   "pygments_lexer": "ipython3",
   "version": "3.12.11"
  }
 },
 "nbformat": 4,
 "nbformat_minor": 5
}
