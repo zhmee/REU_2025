{
 "cells": [
  {
   "cell_type": "code",
   "execution_count": 1,
   "id": "64630725-a4ec-45f7-a3cc-a9e874647ebe",
   "metadata": {},
   "outputs": [],
   "source": [
    "#IMPORTS\n",
    "\n",
    "#File IO\n",
    "import os\n",
    "import glob\n",
    "\n",
    "#Data manipulation\n",
    "import numpy as np\n",
    "import pandas as pd\n",
    "import matplotlib.pyplot as plt\n",
    "\n",
    "#Pytorch\n",
    "import torch\n",
    "import torch.nn as nn\n",
    "import torch.optim as optim\n",
    "from torch.utils.data import TensorDataset, DataLoader, random_split\n",
    "import torch.nn.functional as F\n",
    "from torch.amp import GradScaler, autocast\n",
    "from segmentation_models_pytorch import Unet\n",
    "\n",
    "#Scikit learn\n",
    "from sklearn.metrics import confusion_matrix, classification_report\n",
    "from sklearn.metrics import mean_squared_error, r2_score\n",
    "\n",
    "#Misc\n",
    "from tqdm import tqdm\n"
   ]
  },
  {
   "cell_type": "code",
   "execution_count": 2,
   "id": "0395c608-61b2-4410-a023-e8b7b4eff797",
   "metadata": {},
   "outputs": [],
   "source": [
    "#HYPERPARMETERS\n",
    "\n",
    "train_proportion = .8\n",
    "val_proportion = .1\n",
    "\n",
    "batch_size = 128\n",
    "learning_rate = .00002\n",
    "num_epochs = 100\n",
    "loss_weights = (1.0, 1.0, 1.0, 1.0)"
   ]
  },
  {
   "cell_type": "code",
   "execution_count": 3,
   "id": "160b26c5-f145-47d8-8734-5d5949fd48c6",
   "metadata": {},
   "outputs": [],
   "source": [
    "dataset = torch.load(\"dataset_scaled.pt\", weights_only=False)"
   ]
  },
  {
   "cell_type": "code",
   "execution_count": 4,
   "id": "b8ab9303-bf7d-495a-ac4a-09ee15803441",
   "metadata": {},
   "outputs": [],
   "source": [
    "#CREATE DATALOADERS\n",
    "\n",
    "train_size = int(train_proportion * len(dataset))\n",
    "val_size = int(val_proportion * len(dataset))\n",
    "test_size = len(dataset) - train_size - val_size\n",
    "\n",
    "generator = torch.Generator().manual_seed(1)\n",
    "train_dataset, val_dataset, test_dataset = random_split(dataset, [train_size, val_size, test_size], generator=generator)\n",
    "\n",
    "train_loader = DataLoader(train_dataset, batch_size=batch_size, shuffle=True, generator=generator)\n",
    "val_loader = DataLoader(val_dataset, batch_size=batch_size, shuffle=False)\n",
    "test_loader = DataLoader(test_dataset, batch_size=batch_size, shuffle=False)"
   ]
  },
  {
   "cell_type": "code",
   "execution_count": 5,
   "id": "b41cf152-f4a7-470c-abb0-b09c8c1805e9",
   "metadata": {},
   "outputs": [],
   "source": [
    "#CREATE MODEL\n",
    "\n",
    "class MultiTaskV3_1(nn.Module):\n",
    "    def __init__(self):\n",
    "        super().__init__()\n",
    "\n",
    "        self.cloud_mask_net = Unet(\n",
    "            encoder_name='resnet34',\n",
    "            in_channels=64,\n",
    "            classes=1,\n",
    "        )\n",
    "\n",
    "        self.cloud_phase_net = Unet(\n",
    "            encoder_name='resnet34',\n",
    "            in_channels=64,\n",
    "            classes=15,\n",
    "        )\n",
    "        self.cod_net = Unet(\n",
    "            encoder_name='resnet34',\n",
    "            in_channels=64,\n",
    "            classes=15,\n",
    "        )\n",
    "        self.cps_net = Unet(\n",
    "            encoder_name='resnet34',\n",
    "            in_channels=64,\n",
    "            classes=15,\n",
    "        )\n",
    "\n",
    "        self.norm0 = nn.BatchNorm2d(num_features=64)        \n",
    "        self.conv0 = nn.Conv2d(in_channels=16, out_channels=64, kernel_size=3, padding=1)\n",
    "        self.conv1 = nn.Conv2d(in_channels=16, out_channels=5, kernel_size=3, padding=1)\n",
    "        self.conv2 = nn.Conv2d(in_channels=16, out_channels=1, kernel_size=3, padding=1)\n",
    "        self.conv3 = nn.Conv2d(in_channels=16, out_channels=1, kernel_size=3, padding=1)\n",
    "\n",
    "\n",
    "    def forward(self, x):\n",
    "        x = F.relu(self.norm0(self.conv0(x)))\n",
    "        cloud_mask_pred = self.cloud_mask_net(x)\n",
    "        cloud_phase_pred = self.cloud_phase_net(x)\n",
    "        cod_pred = self.cod_net(x)\n",
    "        cps_pred = self.cps_net(x)\n",
    "\n",
    "        cloud_phase_pred = torch.cat([cloud_mask_pred, cloud_phase_pred], dim=1)\n",
    "        cod_pred = torch.cat([cloud_mask_pred, cod_pred], dim=1)\n",
    "        cps_pred = torch.cat([cloud_mask_pred, cps_pred], dim=1)\n",
    "\n",
    "        cloud_phase_pred = self.conv1(cloud_phase_pred)\n",
    "        cod_pred = F.relu(self.conv2(cod_pred))\n",
    "        cps_pred = F.relu(self.conv3(cps_pred))\n",
    "\n",
    "        return cloud_mask_pred, cloud_phase_pred, cod_pred, cps_pred"
   ]
  },
  {
   "cell_type": "code",
   "execution_count": 6,
   "id": "a17aa825-c73b-41d3-b58e-2e0c398572e3",
   "metadata": {},
   "outputs": [],
   "source": [
    "#FINAL SETUP\n",
    "\n",
    "dev_str = \"cuda\" if torch.cuda.is_available() else \"cpu\"\n",
    "device = torch.device(dev_str)\n",
    "model = MultiTaskV3_1().to(device)\n",
    "optimizer = optim.Adam(model.parameters(), lr=learning_rate)\n",
    "scheduler = optim.lr_scheduler.ReduceLROnPlateau(optimizer, mode='min', factor=0.5, patience=3)\n",
    "scaler = GradScaler(device = device)\n",
    "\n",
    "def unpack_labels(labels):\n",
    "    return (\n",
    "        labels[:, 0:1, :, :],             # cloud_mask → [B, H, W]\n",
    "        labels[:, 1, :, :].long(),        # cloud_phase → [B, H, W]\n",
    "        labels[:, 2:3, :, :],             # cod → [B, 1, H, W]\n",
    "        labels[:, 3:4, :, :]              # cps → [B, 1, H, W]\n",
    "    )\n",
    "\n",
    "\n",
    "train_mask_losses, train_phase_losses, train_cod_losses, train_cps_losses, train_all_losses = [], [], [], [], []\n",
    "val_mask_losses, val_phase_losses, val_cod_losses, val_cps_losses, val_all_losses = [], [], [], [], []\n",
    "\n",
    "train_mask_acc, train_phase_acc, train_cod_r2, train_cps_r2 = [], [], [], []\n",
    "val_mask_acc, val_phase_acc, val_cod_r2, val_cps_r2 = [], [], [], []"
   ]
  },
  {
   "cell_type": "code",
   "execution_count": 7,
   "id": "681ab853-08f1-4a6c-b142-87d8a4706e11",
   "metadata": {},
   "outputs": [],
   "source": [
    "#TRAIN and EVALUATE FUNCTIONS\n",
    "\n",
    "def train(model, train_loader, loss_weights=(1,1,1,1)):\n",
    "    model.train()\n",
    "\n",
    "    total_instances = 0 # Count number of instances in the epoch\n",
    "    total_loss = total_loss_mask = total_loss_phase = total_loss_cod = total_loss_cps = 0 # Total loss and sublosses\n",
    "    mask_correct = phase_correct = 0 # Number of correct guesses for cloud_mask and cloud_phase\n",
    "    cod_preds, cod_labels = [], [] # Cod labels and predictions for calculating r2 \n",
    "    cps_preds, cps_labels = [], [] # Cps labels and predictions for calculating r2\n",
    "\n",
    "    for inputs, labels in tqdm(train_loader):\n",
    "        inputs = inputs.to(device)\n",
    "        labels = labels.to(device)\n",
    "        cloud_mask_target, cloud_phase_target, cod_target, cps_target = unpack_labels(labels) # Get individual targets\n",
    "\n",
    "        optimizer.zero_grad()\n",
    "        B, _, H, W = labels.shape\n",
    "        total_instances += (B * H * W) # Count instances in batch\n",
    "        \n",
    "        with autocast(device_type=dev_str):\n",
    "            preds = model(inputs) # Model predictions\n",
    "\n",
    "            # Loss in batch\n",
    "            loss_mask = nn.BCEWithLogitsLoss()(preds[0], cloud_mask_target)\n",
    "            loss_phase = nn.CrossEntropyLoss()(preds[1], cloud_phase_target)\n",
    "            loss_cod = nn.MSELoss()(preds[2], cod_target)\n",
    "            loss_cps = nn.MSELoss()(preds[3], cps_target)\n",
    "            total_batch_loss = (\n",
    "                loss_weights[0] * loss_mask +\n",
    "                loss_weights[1] * loss_phase +\n",
    "                loss_weights[2] * loss_cod +\n",
    "                loss_weights[3] * loss_cps\n",
    "            )\n",
    "\n",
    "        # Get correct guesses for mask and phase\n",
    "        mask_preds = (torch.sigmoid(preds[0]) > 0.5).long()\n",
    "        mask_correct += (mask_preds == cloud_mask_target).sum().item()\n",
    "        phase_preds = torch.argmax(preds[1], dim=1)\n",
    "        phase_correct += (phase_preds == cloud_phase_target).sum().item()\n",
    "\n",
    "        # Get predicted and actual cod and cps\n",
    "        cod_preds.append(preds[2].cpu().detach().numpy())\n",
    "        cod_labels.append(cod_target.cpu().numpy())\n",
    "        cps_preds.append(preds[3].cpu().detach().numpy())\n",
    "        cps_labels.append(cps_target.cpu().numpy())\n",
    "            \n",
    "\n",
    "        # Update model\n",
    "        scaler.scale(total_batch_loss).backward()\n",
    "        scaler.step(optimizer)\n",
    "        scaler.update()\n",
    "\n",
    "        # Loss in epoch\n",
    "        total_loss += total_batch_loss.item()\n",
    "        total_loss_mask += loss_mask.item()\n",
    "        total_loss_phase += loss_phase.item()\n",
    "        total_loss_cod += loss_cod.item()\n",
    "        total_loss_cps += loss_cps.item()\n",
    "\n",
    "    # ------------------------------------ BATCH LOOP END -------------------------------------------------------------\n",
    "\n",
    "    #Accuracy for mask and phase\n",
    "    mask_accuracy = mask_correct/total_instances\n",
    "    phase_accuracy = phase_correct/total_instances\n",
    "\n",
    "    #Cod R2\n",
    "    cod_preds = np.concatenate(cod_preds).ravel()\n",
    "    cod_labels = np.concatenate(cod_labels).ravel()\n",
    "    cod_r2 = r2_score(cod_labels, cod_preds)\n",
    "\n",
    "    #Cps R2\n",
    "    cps_preds = np.concatenate(cps_preds).ravel()\n",
    "    cps_labels = np.concatenate(cps_labels).ravel()\n",
    "    cps_r2 = r2_score(cps_labels, cps_preds)\n",
    "\n",
    "    return {\n",
    "        'loss_total': total_loss / len(train_loader),\n",
    "        'loss_mask': total_loss_mask / len(train_loader),\n",
    "        'loss_phase': total_loss_phase / len(train_loader),\n",
    "        'loss_cod': total_loss_cod / len(train_loader),\n",
    "        'loss_cps': total_loss_cps / len(train_loader),\n",
    "        'acc_mask': mask_accuracy,\n",
    "        'acc_phase': phase_accuracy,\n",
    "        'r2_cod': cod_r2,\n",
    "        'r2_cps': cps_r2\n",
    "    }\n",
    "\n",
    "\n",
    "\n",
    "def eval(model, val_loader, loss_weights=(1,1,1,1)):\n",
    "    model.eval()\n",
    "\n",
    "    total_instances = 0 # Count number of instances in the epoch\n",
    "    total_loss = total_loss_mask = total_loss_phase = total_loss_cod = total_loss_cps = 0 # Total loss and sublosses\n",
    "    mask_correct = phase_correct = 0 # Number of correct guesses for cloud_mask and cloud_phase\n",
    "    cod_preds, cod_labels = [], [] # Cod labels and predictions for calculating r2 \n",
    "    cps_preds, cps_labels = [], [] # Cps labels and predictions for calculating r2\n",
    "\n",
    "    for inputs, labels in (val_loader):\n",
    "        inputs = inputs.to(device)\n",
    "        labels = labels.to(device)\n",
    "        cloud_mask_target, cloud_phase_target, cod_target, cps_target = unpack_labels(labels) # Get individual targets\n",
    "\n",
    "        B, _, H, W = labels.shape\n",
    "        total_instances += (B * H * W) # Count instances in batch\n",
    "        \n",
    "        \n",
    "        with torch.no_grad(), autocast(device_type=dev_str):\n",
    "            preds = model(inputs) # Model predictions\n",
    "\n",
    "            # Loss in batch\n",
    "            loss_mask = nn.BCEWithLogitsLoss()(preds[0], cloud_mask_target)\n",
    "            loss_phase = nn.CrossEntropyLoss()(preds[1], cloud_phase_target)\n",
    "            loss_cod = nn.MSELoss()(preds[2], cod_target)\n",
    "            loss_cps = nn.MSELoss()(preds[3], cps_target)\n",
    "            total_batch_loss = (\n",
    "                loss_weights[0] * loss_mask +\n",
    "                loss_weights[1] * loss_phase +\n",
    "                loss_weights[2] * loss_cod +\n",
    "                loss_weights[3] * loss_cps\n",
    "            )\n",
    "\n",
    "        # Get correct guesses for mask and phase\n",
    "        mask_preds = (torch.sigmoid(preds[0]) > 0.5).long()\n",
    "        mask_correct += (mask_preds == cloud_mask_target).sum().item()\n",
    "        phase_preds = torch.argmax(preds[1], dim=1)\n",
    "        phase_correct += (phase_preds == cloud_phase_target).sum().item()\n",
    "\n",
    "        # Get predicted and actual cod and cps\n",
    "        cod_preds.append(preds[2].cpu().detach().numpy())\n",
    "        cod_labels.append(cod_target.cpu().numpy())\n",
    "        cps_preds.append(preds[3].cpu().detach().numpy())\n",
    "        cps_labels.append(cps_target.cpu().numpy())\n",
    "            \n",
    "        # Loss in epoch\n",
    "        total_loss += total_batch_loss.item()\n",
    "        total_loss_mask += loss_mask.item()\n",
    "        total_loss_phase += loss_phase.item()\n",
    "        total_loss_cod += loss_cod.item()\n",
    "        total_loss_cps += loss_cps.item()\n",
    "\n",
    "    # ------------------------------------ BATCH LOOP END -------------------------------------------------------------\n",
    "\n",
    "    #Accuracy for mask and phase\n",
    "    mask_accuracy = mask_correct/total_instances\n",
    "    phase_accuracy = phase_correct/total_instances\n",
    "\n",
    "    #Cod R2\n",
    "    cod_preds = np.concatenate(cod_preds).ravel()\n",
    "    cod_labels = np.concatenate(cod_labels).ravel()\n",
    "    cod_r2 = r2_score(cod_labels, cod_preds)\n",
    "\n",
    "    #Cps R2\n",
    "    cps_preds = np.concatenate(cps_preds).ravel()\n",
    "    cps_labels = np.concatenate(cps_labels).ravel()\n",
    "    cps_r2 = r2_score(cps_labels, cps_preds)\n",
    "\n",
    "    return {\n",
    "        'loss_total': total_loss / len(val_loader),\n",
    "        'loss_mask': total_loss_mask / len(val_loader),\n",
    "        'loss_phase': total_loss_phase / len(val_loader),\n",
    "        'loss_cod': total_loss_cod / len(val_loader),\n",
    "        'loss_cps': total_loss_cps / len(val_loader),\n",
    "        'acc_mask': mask_accuracy,\n",
    "        'acc_phase': phase_accuracy,\n",
    "        'r2_cod': cod_r2,\n",
    "        'r2_cps': cps_r2\n",
    "    }"
   ]
  },
  {
   "cell_type": "code",
   "execution_count": 8,
   "id": "c8eb5e5c-b5e1-44c8-b971-bb5c0d21f5a1",
   "metadata": {},
   "outputs": [
    {
     "name": "stderr",
     "output_type": "stream",
     "text": [
      "100%|██████████| 94/94 [00:30<00:00,  3.08it/s]\n"
     ]
    },
    {
     "name": "stdout",
     "output_type": "stream",
     "text": [
      "Epoch: 1 | Train Loss: 11.6652 | Val Loss: 9.7343 | Val Mask: 0.6031 | Val Phase: 0.6061 | Val Cod: -0.2917 | Val Cps: -1.7170\n"
     ]
    },
    {
     "name": "stderr",
     "output_type": "stream",
     "text": [
      "100%|██████████| 94/94 [00:27<00:00,  3.40it/s]\n"
     ]
    },
    {
     "name": "stdout",
     "output_type": "stream",
     "text": [
      "Epoch: 2 | Train Loss: 8.7482 | Val Loss: 7.4432 | Val Mask: 0.6208 | Val Phase: 0.7431 | Val Cod: 0.1126 | Val Cps: -1.0607\n"
     ]
    },
    {
     "name": "stderr",
     "output_type": "stream",
     "text": [
      "100%|██████████| 94/94 [00:27<00:00,  3.44it/s]\n"
     ]
    },
    {
     "name": "stdout",
     "output_type": "stream",
     "text": [
      "Epoch: 3 | Train Loss: 6.7332 | Val Loss: 5.7571 | Val Mask: 0.6640 | Val Phase: 0.7824 | Val Cod: 0.4905 | Val Cps: -0.6318\n"
     ]
    },
    {
     "name": "stderr",
     "output_type": "stream",
     "text": [
      "100%|██████████| 94/94 [00:26<00:00,  3.48it/s]\n"
     ]
    },
    {
     "name": "stdout",
     "output_type": "stream",
     "text": [
      "Epoch: 4 | Train Loss: 5.1158 | Val Loss: 4.3494 | Val Mask: 0.7692 | Val Phase: 0.8005 | Val Cod: 0.6098 | Val Cps: -0.1787\n"
     ]
    },
    {
     "name": "stderr",
     "output_type": "stream",
     "text": [
      "100%|██████████| 94/94 [00:26<00:00,  3.48it/s]\n"
     ]
    },
    {
     "name": "stdout",
     "output_type": "stream",
     "text": [
      "Epoch: 5 | Train Loss: 3.8693 | Val Loss: 3.6228 | Val Mask: 0.8758 | Val Phase: 0.8088 | Val Cod: 0.6420 | Val Cps: 0.0625\n"
     ]
    },
    {
     "name": "stderr",
     "output_type": "stream",
     "text": [
      "100%|██████████| 94/94 [00:27<00:00,  3.48it/s]\n"
     ]
    },
    {
     "name": "stdout",
     "output_type": "stream",
     "text": [
      "Epoch: 6 | Train Loss: 2.8811 | Val Loss: 2.5467 | Val Mask: 0.9090 | Val Phase: 0.8245 | Val Cod: 0.6655 | Val Cps: 0.4677\n"
     ]
    },
    {
     "name": "stderr",
     "output_type": "stream",
     "text": [
      "100%|██████████| 94/94 [00:27<00:00,  3.48it/s]\n"
     ]
    },
    {
     "name": "stdout",
     "output_type": "stream",
     "text": [
      "Epoch: 7 | Train Loss: 2.2925 | Val Loss: 2.1443 | Val Mask: 0.9312 | Val Phase: 0.8272 | Val Cod: 0.6759 | Val Cps: 0.5942\n"
     ]
    },
    {
     "name": "stderr",
     "output_type": "stream",
     "text": [
      "100%|██████████| 94/94 [00:28<00:00,  3.30it/s]\n"
     ]
    },
    {
     "name": "stdout",
     "output_type": "stream",
     "text": [
      "Epoch: 8 | Train Loss: 2.0179 | Val Loss: 2.0115 | Val Mask: 0.9303 | Val Phase: 0.8291 | Val Cod: 0.6767 | Val Cps: 0.6374\n"
     ]
    },
    {
     "name": "stderr",
     "output_type": "stream",
     "text": [
      "100%|██████████| 94/94 [00:27<00:00,  3.37it/s]\n"
     ]
    },
    {
     "name": "stdout",
     "output_type": "stream",
     "text": [
      "Epoch: 9 | Train Loss: 1.8837 | Val Loss: 1.9056 | Val Mask: 0.9406 | Val Phase: 0.8339 | Val Cod: 0.6853 | Val Cps: 0.6534\n"
     ]
    },
    {
     "name": "stderr",
     "output_type": "stream",
     "text": [
      "100%|██████████| 94/94 [00:27<00:00,  3.38it/s]\n"
     ]
    },
    {
     "name": "stdout",
     "output_type": "stream",
     "text": [
      "Epoch: 10 | Train Loss: 1.7779 | Val Loss: 1.8172 | Val Mask: 0.9417 | Val Phase: 0.8435 | Val Cod: 0.6921 | Val Cps: 0.6663\n"
     ]
    },
    {
     "name": "stderr",
     "output_type": "stream",
     "text": [
      "100%|██████████| 94/94 [00:28<00:00,  3.36it/s]\n"
     ]
    },
    {
     "name": "stdout",
     "output_type": "stream",
     "text": [
      "Epoch: 11 | Train Loss: 1.7070 | Val Loss: 1.7648 | Val Mask: 0.9468 | Val Phase: 0.8430 | Val Cod: 0.7002 | Val Cps: 0.6740\n"
     ]
    },
    {
     "name": "stderr",
     "output_type": "stream",
     "text": [
      "100%|██████████| 94/94 [00:27<00:00,  3.40it/s]\n"
     ]
    },
    {
     "name": "stdout",
     "output_type": "stream",
     "text": [
      "Epoch: 12 | Train Loss: 1.6505 | Val Loss: 1.7406 | Val Mask: 0.9474 | Val Phase: 0.8455 | Val Cod: 0.6996 | Val Cps: 0.6752\n"
     ]
    },
    {
     "name": "stderr",
     "output_type": "stream",
     "text": [
      "100%|██████████| 94/94 [00:26<00:00,  3.51it/s]\n"
     ]
    },
    {
     "name": "stdout",
     "output_type": "stream",
     "text": [
      "Epoch: 13 | Train Loss: 1.6031 | Val Loss: 1.6781 | Val Mask: 0.9494 | Val Phase: 0.8494 | Val Cod: 0.7064 | Val Cps: 0.6868\n"
     ]
    },
    {
     "name": "stderr",
     "output_type": "stream",
     "text": [
      "100%|██████████| 94/94 [00:26<00:00,  3.52it/s]\n"
     ]
    },
    {
     "name": "stdout",
     "output_type": "stream",
     "text": [
      "Epoch: 14 | Train Loss: 1.5495 | Val Loss: 1.6553 | Val Mask: 0.9484 | Val Phase: 0.8521 | Val Cod: 0.7051 | Val Cps: 0.6906\n"
     ]
    },
    {
     "name": "stderr",
     "output_type": "stream",
     "text": [
      "100%|██████████| 94/94 [00:26<00:00,  3.51it/s]\n"
     ]
    },
    {
     "name": "stdout",
     "output_type": "stream",
     "text": [
      "Epoch: 15 | Train Loss: 1.5144 | Val Loss: 1.6131 | Val Mask: 0.9515 | Val Phase: 0.8544 | Val Cod: 0.7150 | Val Cps: 0.6940\n"
     ]
    },
    {
     "name": "stderr",
     "output_type": "stream",
     "text": [
      "100%|██████████| 94/94 [00:27<00:00,  3.47it/s]\n"
     ]
    },
    {
     "name": "stdout",
     "output_type": "stream",
     "text": [
      "Epoch: 16 | Train Loss: 1.4647 | Val Loss: 1.5836 | Val Mask: 0.9535 | Val Phase: 0.8569 | Val Cod: 0.7197 | Val Cps: 0.6970\n"
     ]
    },
    {
     "name": "stderr",
     "output_type": "stream",
     "text": [
      "100%|██████████| 94/94 [00:27<00:00,  3.42it/s]\n"
     ]
    },
    {
     "name": "stdout",
     "output_type": "stream",
     "text": [
      "Epoch: 17 | Train Loss: 1.4457 | Val Loss: 1.5842 | Val Mask: 0.9541 | Val Phase: 0.8553 | Val Cod: 0.7115 | Val Cps: 0.6983\n"
     ]
    },
    {
     "name": "stderr",
     "output_type": "stream",
     "text": [
      "100%|██████████| 94/94 [00:27<00:00,  3.47it/s]\n"
     ]
    },
    {
     "name": "stdout",
     "output_type": "stream",
     "text": [
      "Epoch: 18 | Train Loss: 1.4218 | Val Loss: 1.5645 | Val Mask: 0.9539 | Val Phase: 0.8577 | Val Cod: 0.7226 | Val Cps: 0.6965\n"
     ]
    },
    {
     "name": "stderr",
     "output_type": "stream",
     "text": [
      "100%|██████████| 94/94 [00:26<00:00,  3.50it/s]\n"
     ]
    },
    {
     "name": "stdout",
     "output_type": "stream",
     "text": [
      "Epoch: 19 | Train Loss: 1.3853 | Val Loss: 1.5428 | Val Mask: 0.9548 | Val Phase: 0.8609 | Val Cod: 0.7247 | Val Cps: 0.6986\n"
     ]
    },
    {
     "name": "stderr",
     "output_type": "stream",
     "text": [
      "100%|██████████| 94/94 [00:27<00:00,  3.48it/s]\n"
     ]
    },
    {
     "name": "stdout",
     "output_type": "stream",
     "text": [
      "Epoch: 20 | Train Loss: 1.3609 | Val Loss: 1.5194 | Val Mask: 0.9551 | Val Phase: 0.8611 | Val Cod: 0.7285 | Val Cps: 0.7041\n"
     ]
    },
    {
     "name": "stderr",
     "output_type": "stream",
     "text": [
      "100%|██████████| 94/94 [00:27<00:00,  3.47it/s]\n"
     ]
    },
    {
     "name": "stdout",
     "output_type": "stream",
     "text": [
      "Epoch: 21 | Train Loss: 1.3415 | Val Loss: 1.5117 | Val Mask: 0.9567 | Val Phase: 0.8593 | Val Cod: 0.7279 | Val Cps: 0.7064\n"
     ]
    },
    {
     "name": "stderr",
     "output_type": "stream",
     "text": [
      "100%|██████████| 94/94 [00:27<00:00,  3.47it/s]\n"
     ]
    },
    {
     "name": "stdout",
     "output_type": "stream",
     "text": [
      "Epoch: 22 | Train Loss: 1.3221 | Val Loss: 1.4620 | Val Mask: 0.9594 | Val Phase: 0.8648 | Val Cod: 0.7354 | Val Cps: 0.7141\n"
     ]
    },
    {
     "name": "stderr",
     "output_type": "stream",
     "text": [
      "100%|██████████| 94/94 [00:27<00:00,  3.46it/s]\n"
     ]
    },
    {
     "name": "stdout",
     "output_type": "stream",
     "text": [
      "Epoch: 23 | Train Loss: 1.2932 | Val Loss: 1.4521 | Val Mask: 0.9596 | Val Phase: 0.8645 | Val Cod: 0.7346 | Val Cps: 0.7166\n"
     ]
    },
    {
     "name": "stderr",
     "output_type": "stream",
     "text": [
      "100%|██████████| 94/94 [00:27<00:00,  3.45it/s]\n"
     ]
    },
    {
     "name": "stdout",
     "output_type": "stream",
     "text": [
      "Epoch: 24 | Train Loss: 1.2824 | Val Loss: 1.4556 | Val Mask: 0.9587 | Val Phase: 0.8636 | Val Cod: 0.7343 | Val Cps: 0.7167\n"
     ]
    },
    {
     "name": "stderr",
     "output_type": "stream",
     "text": [
      "100%|██████████| 94/94 [00:27<00:00,  3.46it/s]\n"
     ]
    },
    {
     "name": "stdout",
     "output_type": "stream",
     "text": [
      "Epoch: 25 | Train Loss: 1.2607 | Val Loss: 1.4324 | Val Mask: 0.9595 | Val Phase: 0.8663 | Val Cod: 0.7375 | Val Cps: 0.7208\n"
     ]
    },
    {
     "name": "stderr",
     "output_type": "stream",
     "text": [
      "100%|██████████| 94/94 [00:28<00:00,  3.28it/s]\n"
     ]
    },
    {
     "name": "stdout",
     "output_type": "stream",
     "text": [
      "Epoch: 26 | Train Loss: 1.2407 | Val Loss: 1.4257 | Val Mask: 0.9612 | Val Phase: 0.8678 | Val Cod: 0.7401 | Val Cps: 0.7187\n"
     ]
    },
    {
     "name": "stderr",
     "output_type": "stream",
     "text": [
      "100%|██████████| 94/94 [00:27<00:00,  3.38it/s]\n"
     ]
    },
    {
     "name": "stdout",
     "output_type": "stream",
     "text": [
      "Epoch: 27 | Train Loss: 1.2227 | Val Loss: 1.4193 | Val Mask: 0.9613 | Val Phase: 0.8665 | Val Cod: 0.7409 | Val Cps: 0.7209\n"
     ]
    },
    {
     "name": "stderr",
     "output_type": "stream",
     "text": [
      "100%|██████████| 94/94 [00:27<00:00,  3.45it/s]\n"
     ]
    },
    {
     "name": "stdout",
     "output_type": "stream",
     "text": [
      "Epoch: 28 | Train Loss: 1.2133 | Val Loss: 1.4126 | Val Mask: 0.9615 | Val Phase: 0.8659 | Val Cod: 0.7417 | Val Cps: 0.7236\n"
     ]
    },
    {
     "name": "stderr",
     "output_type": "stream",
     "text": [
      "100%|██████████| 94/94 [00:27<00:00,  3.47it/s]\n"
     ]
    },
    {
     "name": "stdout",
     "output_type": "stream",
     "text": [
      "Epoch: 29 | Train Loss: 1.1933 | Val Loss: 1.3829 | Val Mask: 0.9622 | Val Phase: 0.8682 | Val Cod: 0.7425 | Val Cps: 0.7300\n"
     ]
    },
    {
     "name": "stderr",
     "output_type": "stream",
     "text": [
      "100%|██████████| 94/94 [00:27<00:00,  3.45it/s]\n"
     ]
    },
    {
     "name": "stdout",
     "output_type": "stream",
     "text": [
      "Epoch: 30 | Train Loss: 1.1952 | Val Loss: 1.3744 | Val Mask: 0.9629 | Val Phase: 0.8699 | Val Cod: 0.7461 | Val Cps: 0.7301\n"
     ]
    },
    {
     "name": "stderr",
     "output_type": "stream",
     "text": [
      "100%|██████████| 94/94 [00:27<00:00,  3.46it/s]\n"
     ]
    },
    {
     "name": "stdout",
     "output_type": "stream",
     "text": [
      "Epoch: 31 | Train Loss: 1.1621 | Val Loss: 1.3865 | Val Mask: 0.9610 | Val Phase: 0.8705 | Val Cod: 0.7389 | Val Cps: 0.7265\n"
     ]
    },
    {
     "name": "stderr",
     "output_type": "stream",
     "text": [
      "100%|██████████| 94/94 [00:26<00:00,  3.48it/s]\n"
     ]
    },
    {
     "name": "stdout",
     "output_type": "stream",
     "text": [
      "Epoch: 32 | Train Loss: 1.1529 | Val Loss: 1.3717 | Val Mask: 0.9630 | Val Phase: 0.8697 | Val Cod: 0.7367 | Val Cps: 0.7334\n"
     ]
    },
    {
     "name": "stderr",
     "output_type": "stream",
     "text": [
      "100%|██████████| 94/94 [00:26<00:00,  3.48it/s]\n"
     ]
    },
    {
     "name": "stdout",
     "output_type": "stream",
     "text": [
      "Epoch: 33 | Train Loss: 1.1346 | Val Loss: 1.3590 | Val Mask: 0.9630 | Val Phase: 0.8684 | Val Cod: 0.7439 | Val Cps: 0.7351\n"
     ]
    },
    {
     "name": "stderr",
     "output_type": "stream",
     "text": [
      "100%|██████████| 94/94 [00:27<00:00,  3.47it/s]\n"
     ]
    },
    {
     "name": "stdout",
     "output_type": "stream",
     "text": [
      "Epoch: 34 | Train Loss: 1.1285 | Val Loss: 1.3600 | Val Mask: 0.9635 | Val Phase: 0.8701 | Val Cod: 0.7473 | Val Cps: 0.7305\n"
     ]
    },
    {
     "name": "stderr",
     "output_type": "stream",
     "text": [
      "100%|██████████| 94/94 [00:27<00:00,  3.47it/s]\n"
     ]
    },
    {
     "name": "stdout",
     "output_type": "stream",
     "text": [
      "Epoch: 35 | Train Loss: 1.1238 | Val Loss: 1.3438 | Val Mask: 0.9633 | Val Phase: 0.8682 | Val Cod: 0.7473 | Val Cps: 0.7400\n"
     ]
    },
    {
     "name": "stderr",
     "output_type": "stream",
     "text": [
      "100%|██████████| 94/94 [00:27<00:00,  3.48it/s]\n"
     ]
    },
    {
     "name": "stdout",
     "output_type": "stream",
     "text": [
      "Epoch: 36 | Train Loss: 1.1163 | Val Loss: 1.3285 | Val Mask: 0.9644 | Val Phase: 0.8736 | Val Cod: 0.7501 | Val Cps: 0.7392\n"
     ]
    },
    {
     "name": "stderr",
     "output_type": "stream",
     "text": [
      "100%|██████████| 94/94 [00:27<00:00,  3.43it/s]\n"
     ]
    },
    {
     "name": "stdout",
     "output_type": "stream",
     "text": [
      "Epoch: 37 | Train Loss: 1.0928 | Val Loss: 1.3352 | Val Mask: 0.9637 | Val Phase: 0.8719 | Val Cod: 0.7533 | Val Cps: 0.7351\n"
     ]
    },
    {
     "name": "stderr",
     "output_type": "stream",
     "text": [
      "100%|██████████| 94/94 [00:26<00:00,  3.49it/s]\n"
     ]
    },
    {
     "name": "stdout",
     "output_type": "stream",
     "text": [
      "Epoch: 38 | Train Loss: 1.0788 | Val Loss: 1.3152 | Val Mask: 0.9650 | Val Phase: 0.8733 | Val Cod: 0.7506 | Val Cps: 0.7417\n"
     ]
    },
    {
     "name": "stderr",
     "output_type": "stream",
     "text": [
      "100%|██████████| 94/94 [00:27<00:00,  3.47it/s]\n"
     ]
    },
    {
     "name": "stdout",
     "output_type": "stream",
     "text": [
      "Epoch: 39 | Train Loss: 1.0737 | Val Loss: 1.3088 | Val Mask: 0.9651 | Val Phase: 0.8740 | Val Cod: 0.7520 | Val Cps: 0.7438\n"
     ]
    },
    {
     "name": "stderr",
     "output_type": "stream",
     "text": [
      "100%|██████████| 94/94 [00:27<00:00,  3.47it/s]\n"
     ]
    },
    {
     "name": "stdout",
     "output_type": "stream",
     "text": [
      "Epoch: 40 | Train Loss: 1.0665 | Val Loss: 1.3290 | Val Mask: 0.9652 | Val Phase: 0.8695 | Val Cod: 0.7498 | Val Cps: 0.7388\n"
     ]
    },
    {
     "name": "stderr",
     "output_type": "stream",
     "text": [
      "100%|██████████| 94/94 [00:27<00:00,  3.38it/s]\n"
     ]
    },
    {
     "name": "stdout",
     "output_type": "stream",
     "text": [
      "Epoch: 41 | Train Loss: 1.0649 | Val Loss: 1.2990 | Val Mask: 0.9654 | Val Phase: 0.8736 | Val Cod: 0.7537 | Val Cps: 0.7452\n"
     ]
    },
    {
     "name": "stderr",
     "output_type": "stream",
     "text": [
      "100%|██████████| 94/94 [00:27<00:00,  3.37it/s]\n"
     ]
    },
    {
     "name": "stdout",
     "output_type": "stream",
     "text": [
      "Epoch: 42 | Train Loss: 1.0598 | Val Loss: 1.3502 | Val Mask: 0.9561 | Val Phase: 0.8722 | Val Cod: 0.7393 | Val Cps: 0.7456\n"
     ]
    },
    {
     "name": "stderr",
     "output_type": "stream",
     "text": [
      "100%|██████████| 94/94 [00:27<00:00,  3.47it/s]\n"
     ]
    },
    {
     "name": "stdout",
     "output_type": "stream",
     "text": [
      "Epoch: 43 | Train Loss: 1.0614 | Val Loss: 1.2975 | Val Mask: 0.9635 | Val Phase: 0.8757 | Val Cod: 0.7513 | Val Cps: 0.7464\n"
     ]
    },
    {
     "name": "stderr",
     "output_type": "stream",
     "text": [
      "100%|██████████| 94/94 [00:26<00:00,  3.50it/s]\n"
     ]
    },
    {
     "name": "stdout",
     "output_type": "stream",
     "text": [
      "Epoch: 44 | Train Loss: 1.0497 | Val Loss: 1.3028 | Val Mask: 0.9625 | Val Phase: 0.8767 | Val Cod: 0.7460 | Val Cps: 0.7476\n"
     ]
    },
    {
     "name": "stderr",
     "output_type": "stream",
     "text": [
      "100%|██████████| 94/94 [00:27<00:00,  3.48it/s]\n"
     ]
    },
    {
     "name": "stdout",
     "output_type": "stream",
     "text": [
      "Epoch: 45 | Train Loss: 1.0343 | Val Loss: 1.2788 | Val Mask: 0.9656 | Val Phase: 0.8775 | Val Cod: 0.7561 | Val Cps: 0.7473\n"
     ]
    },
    {
     "name": "stderr",
     "output_type": "stream",
     "text": [
      "100%|██████████| 94/94 [00:27<00:00,  3.46it/s]\n"
     ]
    },
    {
     "name": "stdout",
     "output_type": "stream",
     "text": [
      "Epoch: 46 | Train Loss: 1.0191 | Val Loss: 1.2742 | Val Mask: 0.9662 | Val Phase: 0.8771 | Val Cod: 0.7577 | Val Cps: 0.7497\n"
     ]
    },
    {
     "name": "stderr",
     "output_type": "stream",
     "text": [
      "100%|██████████| 94/94 [00:27<00:00,  3.42it/s]\n"
     ]
    },
    {
     "name": "stdout",
     "output_type": "stream",
     "text": [
      "Epoch: 47 | Train Loss: 1.0181 | Val Loss: 1.2710 | Val Mask: 0.9663 | Val Phase: 0.8770 | Val Cod: 0.7565 | Val Cps: 0.7529\n"
     ]
    },
    {
     "name": "stderr",
     "output_type": "stream",
     "text": [
      "100%|██████████| 94/94 [00:27<00:00,  3.38it/s]\n"
     ]
    },
    {
     "name": "stdout",
     "output_type": "stream",
     "text": [
      "Epoch: 48 | Train Loss: 1.0056 | Val Loss: 1.2587 | Val Mask: 0.9667 | Val Phase: 0.8789 | Val Cod: 0.7597 | Val Cps: 0.7539\n"
     ]
    },
    {
     "name": "stderr",
     "output_type": "stream",
     "text": [
      "100%|██████████| 94/94 [00:27<00:00,  3.40it/s]\n"
     ]
    },
    {
     "name": "stdout",
     "output_type": "stream",
     "text": [
      "Epoch: 49 | Train Loss: 1.0002 | Val Loss: 1.2620 | Val Mask: 0.9662 | Val Phase: 0.8772 | Val Cod: 0.7575 | Val Cps: 0.7539\n"
     ]
    },
    {
     "name": "stderr",
     "output_type": "stream",
     "text": [
      "100%|██████████| 94/94 [00:27<00:00,  3.46it/s]\n"
     ]
    },
    {
     "name": "stdout",
     "output_type": "stream",
     "text": [
      "Epoch: 50 | Train Loss: 0.9964 | Val Loss: 1.3050 | Val Mask: 0.9646 | Val Phase: 0.8745 | Val Cod: 0.7551 | Val Cps: 0.7414\n"
     ]
    },
    {
     "name": "stderr",
     "output_type": "stream",
     "text": [
      "100%|██████████| 94/94 [00:26<00:00,  3.48it/s]\n"
     ]
    },
    {
     "name": "stdout",
     "output_type": "stream",
     "text": [
      "Epoch: 51 | Train Loss: 0.9845 | Val Loss: 1.2514 | Val Mask: 0.9661 | Val Phase: 0.8787 | Val Cod: 0.7577 | Val Cps: 0.7569\n"
     ]
    },
    {
     "name": "stderr",
     "output_type": "stream",
     "text": [
      "100%|██████████| 94/94 [00:27<00:00,  3.47it/s]\n"
     ]
    },
    {
     "name": "stdout",
     "output_type": "stream",
     "text": [
      "Epoch: 52 | Train Loss: 1.0093 | Val Loss: 1.2920 | Val Mask: 0.9643 | Val Phase: 0.8732 | Val Cod: 0.7547 | Val Cps: 0.7533\n"
     ]
    },
    {
     "name": "stderr",
     "output_type": "stream",
     "text": [
      "100%|██████████| 94/94 [00:26<00:00,  3.51it/s]\n"
     ]
    },
    {
     "name": "stdout",
     "output_type": "stream",
     "text": [
      "Epoch: 53 | Train Loss: 0.9915 | Val Loss: 1.2726 | Val Mask: 0.9669 | Val Phase: 0.8751 | Val Cod: 0.7546 | Val Cps: 0.7522\n"
     ]
    },
    {
     "name": "stderr",
     "output_type": "stream",
     "text": [
      "100%|██████████| 94/94 [00:26<00:00,  3.50it/s]\n"
     ]
    },
    {
     "name": "stdout",
     "output_type": "stream",
     "text": [
      "Epoch: 54 | Train Loss: 0.9730 | Val Loss: 1.2452 | Val Mask: 0.9661 | Val Phase: 0.8775 | Val Cod: 0.7602 | Val Cps: 0.7593\n"
     ]
    },
    {
     "name": "stderr",
     "output_type": "stream",
     "text": [
      "100%|██████████| 94/94 [00:26<00:00,  3.49it/s]\n"
     ]
    },
    {
     "name": "stdout",
     "output_type": "stream",
     "text": [
      "Epoch: 55 | Train Loss: 0.9705 | Val Loss: 1.2579 | Val Mask: 0.9653 | Val Phase: 0.8765 | Val Cod: 0.7552 | Val Cps: 0.7567\n"
     ]
    },
    {
     "name": "stderr",
     "output_type": "stream",
     "text": [
      "100%|██████████| 94/94 [00:26<00:00,  3.49it/s]\n"
     ]
    },
    {
     "name": "stdout",
     "output_type": "stream",
     "text": [
      "Epoch: 56 | Train Loss: 0.9636 | Val Loss: 1.2376 | Val Mask: 0.9669 | Val Phase: 0.8802 | Val Cod: 0.7592 | Val Cps: 0.7614\n"
     ]
    },
    {
     "name": "stderr",
     "output_type": "stream",
     "text": [
      "100%|██████████| 94/94 [00:26<00:00,  3.50it/s]\n"
     ]
    },
    {
     "name": "stdout",
     "output_type": "stream",
     "text": [
      "Epoch: 57 | Train Loss: 0.9565 | Val Loss: 1.2264 | Val Mask: 0.9669 | Val Phase: 0.8797 | Val Cod: 0.7614 | Val Cps: 0.7638\n"
     ]
    },
    {
     "name": "stderr",
     "output_type": "stream",
     "text": [
      "100%|██████████| 94/94 [00:26<00:00,  3.51it/s]\n"
     ]
    },
    {
     "name": "stdout",
     "output_type": "stream",
     "text": [
      "Epoch: 58 | Train Loss: 0.9485 | Val Loss: 1.2226 | Val Mask: 0.9674 | Val Phase: 0.8811 | Val Cod: 0.7614 | Val Cps: 0.7634\n"
     ]
    },
    {
     "name": "stderr",
     "output_type": "stream",
     "text": [
      "100%|██████████| 94/94 [00:26<00:00,  3.51it/s]\n"
     ]
    },
    {
     "name": "stdout",
     "output_type": "stream",
     "text": [
      "Epoch: 59 | Train Loss: 0.9449 | Val Loss: 1.2362 | Val Mask: 0.9678 | Val Phase: 0.8770 | Val Cod: 0.7607 | Val Cps: 0.7613\n"
     ]
    },
    {
     "name": "stderr",
     "output_type": "stream",
     "text": [
      "100%|██████████| 94/94 [00:26<00:00,  3.49it/s]\n"
     ]
    },
    {
     "name": "stdout",
     "output_type": "stream",
     "text": [
      "Epoch: 60 | Train Loss: 0.9384 | Val Loss: 1.2294 | Val Mask: 0.9671 | Val Phase: 0.8808 | Val Cod: 0.7616 | Val Cps: 0.7635\n"
     ]
    },
    {
     "name": "stderr",
     "output_type": "stream",
     "text": [
      "100%|██████████| 94/94 [00:27<00:00,  3.47it/s]\n"
     ]
    },
    {
     "name": "stdout",
     "output_type": "stream",
     "text": [
      "Epoch: 61 | Train Loss: 0.9397 | Val Loss: 1.2437 | Val Mask: 0.9660 | Val Phase: 0.8787 | Val Cod: 0.7561 | Val Cps: 0.7586\n"
     ]
    },
    {
     "name": "stderr",
     "output_type": "stream",
     "text": [
      "100%|██████████| 94/94 [00:27<00:00,  3.48it/s]\n"
     ]
    },
    {
     "name": "stdout",
     "output_type": "stream",
     "text": [
      "Epoch: 62 | Train Loss: 0.9582 | Val Loss: 1.2379 | Val Mask: 0.9680 | Val Phase: 0.8810 | Val Cod: 0.7621 | Val Cps: 0.7609\n"
     ]
    },
    {
     "name": "stderr",
     "output_type": "stream",
     "text": [
      "100%|██████████| 94/94 [00:27<00:00,  3.46it/s]\n"
     ]
    },
    {
     "name": "stdout",
     "output_type": "stream",
     "text": [
      "Epoch: 63 | Train Loss: 0.9415 | Val Loss: 1.2169 | Val Mask: 0.9677 | Val Phase: 0.8799 | Val Cod: 0.7637 | Val Cps: 0.7650\n"
     ]
    },
    {
     "name": "stderr",
     "output_type": "stream",
     "text": [
      "100%|██████████| 94/94 [00:27<00:00,  3.45it/s]\n"
     ]
    },
    {
     "name": "stdout",
     "output_type": "stream",
     "text": [
      "Epoch: 64 | Train Loss: 0.9271 | Val Loss: 1.2141 | Val Mask: 0.9681 | Val Phase: 0.8804 | Val Cod: 0.7645 | Val Cps: 0.7659\n"
     ]
    },
    {
     "name": "stderr",
     "output_type": "stream",
     "text": [
      "100%|██████████| 94/94 [00:27<00:00,  3.46it/s]\n"
     ]
    },
    {
     "name": "stdout",
     "output_type": "stream",
     "text": [
      "Epoch: 65 | Train Loss: 0.9295 | Val Loss: 1.2128 | Val Mask: 0.9680 | Val Phase: 0.8798 | Val Cod: 0.7638 | Val Cps: 0.7654\n"
     ]
    },
    {
     "name": "stderr",
     "output_type": "stream",
     "text": [
      "100%|██████████| 94/94 [00:26<00:00,  3.49it/s]\n"
     ]
    },
    {
     "name": "stdout",
     "output_type": "stream",
     "text": [
      "Epoch: 66 | Train Loss: 0.9184 | Val Loss: 1.2439 | Val Mask: 0.9677 | Val Phase: 0.8808 | Val Cod: 0.7596 | Val Cps: 0.7583\n"
     ]
    },
    {
     "name": "stderr",
     "output_type": "stream",
     "text": [
      "100%|██████████| 94/94 [00:26<00:00,  3.50it/s]\n"
     ]
    },
    {
     "name": "stdout",
     "output_type": "stream",
     "text": [
      "Epoch: 67 | Train Loss: 0.9097 | Val Loss: 1.2227 | Val Mask: 0.9667 | Val Phase: 0.8817 | Val Cod: 0.7613 | Val Cps: 0.7655\n"
     ]
    },
    {
     "name": "stderr",
     "output_type": "stream",
     "text": [
      "100%|██████████| 94/94 [00:26<00:00,  3.51it/s]\n"
     ]
    },
    {
     "name": "stdout",
     "output_type": "stream",
     "text": [
      "Epoch: 68 | Train Loss: 0.9073 | Val Loss: 1.1999 | Val Mask: 0.9682 | Val Phase: 0.8837 | Val Cod: 0.7668 | Val Cps: 0.7683\n"
     ]
    },
    {
     "name": "stderr",
     "output_type": "stream",
     "text": [
      "100%|██████████| 94/94 [00:26<00:00,  3.50it/s]\n"
     ]
    },
    {
     "name": "stdout",
     "output_type": "stream",
     "text": [
      "Epoch: 69 | Train Loss: 0.9046 | Val Loss: 1.2411 | Val Mask: 0.9681 | Val Phase: 0.8737 | Val Cod: 0.7634 | Val Cps: 0.7618\n"
     ]
    },
    {
     "name": "stderr",
     "output_type": "stream",
     "text": [
      "100%|██████████| 94/94 [00:27<00:00,  3.48it/s]\n"
     ]
    },
    {
     "name": "stdout",
     "output_type": "stream",
     "text": [
      "Epoch: 70 | Train Loss: 0.8994 | Val Loss: 1.1988 | Val Mask: 0.9687 | Val Phase: 0.8832 | Val Cod: 0.7666 | Val Cps: 0.7681\n"
     ]
    },
    {
     "name": "stderr",
     "output_type": "stream",
     "text": [
      "100%|██████████| 94/94 [00:26<00:00,  3.48it/s]\n"
     ]
    },
    {
     "name": "stdout",
     "output_type": "stream",
     "text": [
      "Epoch: 71 | Train Loss: 0.8965 | Val Loss: 1.2178 | Val Mask: 0.9674 | Val Phase: 0.8820 | Val Cod: 0.7618 | Val Cps: 0.7682\n"
     ]
    },
    {
     "name": "stderr",
     "output_type": "stream",
     "text": [
      "100%|██████████| 94/94 [00:26<00:00,  3.49it/s]\n"
     ]
    },
    {
     "name": "stdout",
     "output_type": "stream",
     "text": [
      "Epoch: 72 | Train Loss: 0.8930 | Val Loss: 1.1951 | Val Mask: 0.9689 | Val Phase: 0.8822 | Val Cod: 0.7663 | Val Cps: 0.7704\n"
     ]
    },
    {
     "name": "stderr",
     "output_type": "stream",
     "text": [
      "100%|██████████| 94/94 [00:26<00:00,  3.48it/s]\n"
     ]
    },
    {
     "name": "stdout",
     "output_type": "stream",
     "text": [
      "Epoch: 73 | Train Loss: 0.8915 | Val Loss: 1.2003 | Val Mask: 0.9683 | Val Phase: 0.8834 | Val Cod: 0.7660 | Val Cps: 0.7692\n"
     ]
    },
    {
     "name": "stderr",
     "output_type": "stream",
     "text": [
      "100%|██████████| 94/94 [00:27<00:00,  3.46it/s]\n"
     ]
    },
    {
     "name": "stdout",
     "output_type": "stream",
     "text": [
      "Epoch: 74 | Train Loss: 0.8903 | Val Loss: 1.1928 | Val Mask: 0.9688 | Val Phase: 0.8836 | Val Cod: 0.7669 | Val Cps: 0.7719\n"
     ]
    },
    {
     "name": "stderr",
     "output_type": "stream",
     "text": [
      "100%|██████████| 94/94 [00:27<00:00,  3.47it/s]\n"
     ]
    },
    {
     "name": "stdout",
     "output_type": "stream",
     "text": [
      "Epoch: 75 | Train Loss: 0.8818 | Val Loss: 1.2272 | Val Mask: 0.9682 | Val Phase: 0.8805 | Val Cod: 0.7620 | Val Cps: 0.7685\n"
     ]
    },
    {
     "name": "stderr",
     "output_type": "stream",
     "text": [
      "100%|██████████| 94/94 [00:26<00:00,  3.49it/s]\n"
     ]
    },
    {
     "name": "stdout",
     "output_type": "stream",
     "text": [
      "Epoch: 76 | Train Loss: 0.8737 | Val Loss: 1.1878 | Val Mask: 0.9688 | Val Phase: 0.8840 | Val Cod: 0.7681 | Val Cps: 0.7725\n"
     ]
    },
    {
     "name": "stderr",
     "output_type": "stream",
     "text": [
      "100%|██████████| 94/94 [00:27<00:00,  3.45it/s]\n"
     ]
    },
    {
     "name": "stdout",
     "output_type": "stream",
     "text": [
      "Epoch: 77 | Train Loss: 0.8732 | Val Loss: 1.2076 | Val Mask: 0.9682 | Val Phase: 0.8820 | Val Cod: 0.7619 | Val Cps: 0.7705\n"
     ]
    },
    {
     "name": "stderr",
     "output_type": "stream",
     "text": [
      "100%|██████████| 94/94 [00:26<00:00,  3.49it/s]\n"
     ]
    },
    {
     "name": "stdout",
     "output_type": "stream",
     "text": [
      "Epoch: 78 | Train Loss: 0.8765 | Val Loss: 1.2370 | Val Mask: 0.9679 | Val Phase: 0.8789 | Val Cod: 0.7631 | Val Cps: 0.7663\n"
     ]
    },
    {
     "name": "stderr",
     "output_type": "stream",
     "text": [
      "100%|██████████| 94/94 [00:26<00:00,  3.49it/s]\n"
     ]
    },
    {
     "name": "stdout",
     "output_type": "stream",
     "text": [
      "Epoch: 79 | Train Loss: 0.8731 | Val Loss: 1.1959 | Val Mask: 0.9676 | Val Phase: 0.8841 | Val Cod: 0.7649 | Val Cps: 0.7706\n"
     ]
    },
    {
     "name": "stderr",
     "output_type": "stream",
     "text": [
      "100%|██████████| 94/94 [00:26<00:00,  3.50it/s]\n"
     ]
    },
    {
     "name": "stdout",
     "output_type": "stream",
     "text": [
      "Epoch: 80 | Train Loss: 0.8638 | Val Loss: 1.1861 | Val Mask: 0.9694 | Val Phase: 0.8839 | Val Cod: 0.7685 | Val Cps: 0.7728\n"
     ]
    },
    {
     "name": "stderr",
     "output_type": "stream",
     "text": [
      "100%|██████████| 94/94 [00:26<00:00,  3.51it/s]\n"
     ]
    },
    {
     "name": "stdout",
     "output_type": "stream",
     "text": [
      "Epoch: 81 | Train Loss: 0.8595 | Val Loss: 1.1865 | Val Mask: 0.9689 | Val Phase: 0.8845 | Val Cod: 0.7668 | Val Cps: 0.7722\n"
     ]
    },
    {
     "name": "stderr",
     "output_type": "stream",
     "text": [
      "100%|██████████| 94/94 [00:26<00:00,  3.50it/s]\n"
     ]
    },
    {
     "name": "stdout",
     "output_type": "stream",
     "text": [
      "Epoch: 82 | Train Loss: 0.8585 | Val Loss: 1.1883 | Val Mask: 0.9685 | Val Phase: 0.8838 | Val Cod: 0.7666 | Val Cps: 0.7739\n"
     ]
    },
    {
     "name": "stderr",
     "output_type": "stream",
     "text": [
      "100%|██████████| 94/94 [00:26<00:00,  3.49it/s]\n"
     ]
    },
    {
     "name": "stdout",
     "output_type": "stream",
     "text": [
      "Epoch: 83 | Train Loss: 0.8546 | Val Loss: 1.1801 | Val Mask: 0.9693 | Val Phase: 0.8857 | Val Cod: 0.7688 | Val Cps: 0.7738\n"
     ]
    },
    {
     "name": "stderr",
     "output_type": "stream",
     "text": [
      "100%|██████████| 94/94 [00:26<00:00,  3.48it/s]\n"
     ]
    },
    {
     "name": "stdout",
     "output_type": "stream",
     "text": [
      "Epoch: 84 | Train Loss: 0.8531 | Val Loss: 1.1934 | Val Mask: 0.9689 | Val Phase: 0.8834 | Val Cod: 0.7662 | Val Cps: 0.7716\n"
     ]
    },
    {
     "name": "stderr",
     "output_type": "stream",
     "text": [
      "100%|██████████| 94/94 [00:27<00:00,  3.48it/s]\n"
     ]
    },
    {
     "name": "stdout",
     "output_type": "stream",
     "text": [
      "Epoch: 85 | Train Loss: 0.8553 | Val Loss: 1.2017 | Val Mask: 0.9690 | Val Phase: 0.8819 | Val Cod: 0.7621 | Val Cps: 0.7721\n"
     ]
    },
    {
     "name": "stderr",
     "output_type": "stream",
     "text": [
      "100%|██████████| 94/94 [00:27<00:00,  3.47it/s]\n"
     ]
    },
    {
     "name": "stdout",
     "output_type": "stream",
     "text": [
      "Epoch: 86 | Train Loss: 0.8494 | Val Loss: 1.1821 | Val Mask: 0.9694 | Val Phase: 0.8849 | Val Cod: 0.7685 | Val Cps: 0.7736\n"
     ]
    },
    {
     "name": "stderr",
     "output_type": "stream",
     "text": [
      "100%|██████████| 94/94 [00:26<00:00,  3.48it/s]\n"
     ]
    },
    {
     "name": "stdout",
     "output_type": "stream",
     "text": [
      "Epoch: 87 | Train Loss: 0.8479 | Val Loss: 1.1812 | Val Mask: 0.9687 | Val Phase: 0.8845 | Val Cod: 0.7697 | Val Cps: 0.7762\n"
     ]
    },
    {
     "name": "stderr",
     "output_type": "stream",
     "text": [
      "100%|██████████| 94/94 [00:26<00:00,  3.49it/s]\n"
     ]
    },
    {
     "name": "stdout",
     "output_type": "stream",
     "text": [
      "Epoch: 88 | Train Loss: 0.8440 | Val Loss: 1.1895 | Val Mask: 0.9695 | Val Phase: 0.8849 | Val Cod: 0.7683 | Val Cps: 0.7735\n"
     ]
    },
    {
     "name": "stderr",
     "output_type": "stream",
     "text": [
      "100%|██████████| 94/94 [00:27<00:00,  3.47it/s]\n"
     ]
    },
    {
     "name": "stdout",
     "output_type": "stream",
     "text": [
      "Epoch: 89 | Train Loss: 0.8424 | Val Loss: 1.2095 | Val Mask: 0.9692 | Val Phase: 0.8769 | Val Cod: 0.7656 | Val Cps: 0.7714\n"
     ]
    },
    {
     "name": "stderr",
     "output_type": "stream",
     "text": [
      "100%|██████████| 94/94 [00:27<00:00,  3.47it/s]\n"
     ]
    },
    {
     "name": "stdout",
     "output_type": "stream",
     "text": [
      "Epoch: 90 | Train Loss: 0.8364 | Val Loss: 1.2110 | Val Mask: 0.9698 | Val Phase: 0.8773 | Val Cod: 0.7643 | Val Cps: 0.7698\n"
     ]
    },
    {
     "name": "stderr",
     "output_type": "stream",
     "text": [
      "100%|██████████| 94/94 [00:27<00:00,  3.48it/s]\n"
     ]
    },
    {
     "name": "stdout",
     "output_type": "stream",
     "text": [
      "Epoch: 91 | Train Loss: 0.8326 | Val Loss: 1.1731 | Val Mask: 0.9698 | Val Phase: 0.8863 | Val Cod: 0.7692 | Val Cps: 0.7770\n"
     ]
    },
    {
     "name": "stderr",
     "output_type": "stream",
     "text": [
      "100%|██████████| 94/94 [00:27<00:00,  3.48it/s]\n"
     ]
    },
    {
     "name": "stdout",
     "output_type": "stream",
     "text": [
      "Epoch: 92 | Train Loss: 0.8285 | Val Loss: 1.1906 | Val Mask: 0.9695 | Val Phase: 0.8834 | Val Cod: 0.7700 | Val Cps: 0.7768\n"
     ]
    },
    {
     "name": "stderr",
     "output_type": "stream",
     "text": [
      "100%|██████████| 94/94 [00:27<00:00,  3.39it/s]\n"
     ]
    },
    {
     "name": "stdout",
     "output_type": "stream",
     "text": [
      "Epoch: 93 | Train Loss: 0.8326 | Val Loss: 1.1964 | Val Mask: 0.9694 | Val Phase: 0.8853 | Val Cod: 0.7666 | Val Cps: 0.7714\n"
     ]
    },
    {
     "name": "stderr",
     "output_type": "stream",
     "text": [
      "100%|██████████| 94/94 [00:28<00:00,  3.34it/s]\n"
     ]
    },
    {
     "name": "stdout",
     "output_type": "stream",
     "text": [
      "Epoch: 94 | Train Loss: 0.8272 | Val Loss: 1.1764 | Val Mask: 0.9697 | Val Phase: 0.8862 | Val Cod: 0.7678 | Val Cps: 0.7779\n"
     ]
    },
    {
     "name": "stderr",
     "output_type": "stream",
     "text": [
      "100%|██████████| 94/94 [00:27<00:00,  3.38it/s]\n"
     ]
    },
    {
     "name": "stdout",
     "output_type": "stream",
     "text": [
      "Epoch: 95 | Train Loss: 0.8302 | Val Loss: 1.1727 | Val Mask: 0.9695 | Val Phase: 0.8855 | Val Cod: 0.7688 | Val Cps: 0.7769\n"
     ]
    },
    {
     "name": "stderr",
     "output_type": "stream",
     "text": [
      "100%|██████████| 94/94 [00:27<00:00,  3.46it/s]\n"
     ]
    },
    {
     "name": "stdout",
     "output_type": "stream",
     "text": [
      "Epoch: 96 | Train Loss: 0.8249 | Val Loss: 1.1799 | Val Mask: 0.9694 | Val Phase: 0.8855 | Val Cod: 0.7682 | Val Cps: 0.7773\n"
     ]
    },
    {
     "name": "stderr",
     "output_type": "stream",
     "text": [
      "100%|██████████| 94/94 [00:26<00:00,  3.51it/s]\n"
     ]
    },
    {
     "name": "stdout",
     "output_type": "stream",
     "text": [
      "Epoch: 97 | Train Loss: 0.8204 | Val Loss: 1.1757 | Val Mask: 0.9701 | Val Phase: 0.8853 | Val Cod: 0.7711 | Val Cps: 0.7775\n"
     ]
    },
    {
     "name": "stderr",
     "output_type": "stream",
     "text": [
      "100%|██████████| 94/94 [00:26<00:00,  3.49it/s]\n"
     ]
    },
    {
     "name": "stdout",
     "output_type": "stream",
     "text": [
      "Epoch: 98 | Train Loss: 0.8156 | Val Loss: 1.1557 | Val Mask: 0.9701 | Val Phase: 0.8862 | Val Cod: 0.7724 | Val Cps: 0.7796\n"
     ]
    },
    {
     "name": "stderr",
     "output_type": "stream",
     "text": [
      "100%|██████████| 94/94 [00:27<00:00,  3.48it/s]\n"
     ]
    },
    {
     "name": "stdout",
     "output_type": "stream",
     "text": [
      "Epoch: 99 | Train Loss: 0.8154 | Val Loss: 1.1625 | Val Mask: 0.9697 | Val Phase: 0.8865 | Val Cod: 0.7708 | Val Cps: 0.7801\n"
     ]
    },
    {
     "name": "stderr",
     "output_type": "stream",
     "text": [
      "100%|██████████| 94/94 [00:27<00:00,  3.47it/s]\n"
     ]
    },
    {
     "name": "stdout",
     "output_type": "stream",
     "text": [
      "Epoch: 100 | Train Loss: 0.8148 | Val Loss: 1.1745 | Val Mask: 0.9700 | Val Phase: 0.8855 | Val Cod: 0.7711 | Val Cps: 0.7776\n"
     ]
    }
   ],
   "source": [
    "#TRAIN MODEL\n",
    "\n",
    "for e in range(1, num_epochs+1):\n",
    "    train_results = train(model, train_loader, loss_weights = loss_weights)\n",
    "    val_results = eval(model, val_loader, loss_weights = loss_weights)\n",
    "    \n",
    "    train_mask_losses.append(train_results['loss_mask'])\n",
    "    train_phase_losses.append(train_results['loss_phase'])\n",
    "    train_cod_losses.append(train_results['loss_cod'])\n",
    "    train_cps_losses.append(train_results['loss_cps'])\n",
    "    train_all_losses.append(train_results['loss_total'])\n",
    "\n",
    "    train_mask_acc.append(train_results['acc_mask'])\n",
    "    train_phase_acc.append(train_results['acc_phase'])\n",
    "    train_cod_r2.append(train_results['r2_cod'])\n",
    "    train_cps_r2.append(train_results['r2_cps'])\n",
    "\n",
    "    val_mask_losses.append(val_results['loss_mask'])\n",
    "    val_phase_losses.append(val_results['loss_phase'])\n",
    "    val_cod_losses.append(val_results['loss_cod'])\n",
    "    val_cps_losses.append(val_results['loss_cps'])\n",
    "    val_all_losses.append(val_results['loss_total'])\n",
    "\n",
    "    val_mask_acc.append(val_results['acc_mask'])\n",
    "    val_phase_acc.append(val_results['acc_phase'])\n",
    "    val_cod_r2.append(val_results['r2_cod'])\n",
    "    val_cps_r2.append(val_results['r2_cps'])\n",
    "\n",
    "    print(f\"Epoch: {e} | Train Loss: {train_results['loss_total']:.4f} | Val Loss: {val_results['loss_total']:.4f} | Val Mask: {val_results['acc_mask']:.4f} | Val Phase: {val_results['acc_phase']:.4f} | Val Cod: {val_results['r2_cod']:.4f} | Val Cps: {val_results['r2_cps']:.4f}\")\n",
    "    "
   ]
  },
  {
   "cell_type": "code",
   "execution_count": 9,
   "id": "04c9b63f-6056-44f4-9be1-1aad91b96477",
   "metadata": {},
   "outputs": [
    {
     "data": {
      "image/png": "[encoded data removed]",
      "text/plain": [
       "<Figure size 2000x800 with 5 Axes>"
      ]
     },
     "metadata": {},
     "output_type": "display_data"
    }
   ],
   "source": [
    "#PLOT LOSS\n",
    "\n",
    "plt.figure(figsize=(20,8))\n",
    "\n",
    "plt.subplot(2, 3, 1)\n",
    "plt.plot(train_mask_losses, label='Train Loss')\n",
    "plt.plot(val_mask_losses, label='Val Loss')\n",
    "plt.title('Cloud Mask Loss')\n",
    "plt.legend()\n",
    "\n",
    "plt.subplot(2, 3, 2)\n",
    "plt.plot(train_phase_losses, label='Train Loss')\n",
    "plt.plot(val_phase_losses, label='Val Loss')\n",
    "plt.title('Cloud Phase Loss')\n",
    "plt.legend()\n",
    "\n",
    "plt.subplot(2, 3, 3)\n",
    "plt.plot(train_cod_losses, label='Train Loss')\n",
    "plt.plot(val_cod_losses, label='Val Loss')\n",
    "plt.title('Cod Loss')\n",
    "plt.legend()\n",
    "\n",
    "plt.subplot(2, 3, 4)\n",
    "plt.plot(train_cps_losses, label='Train Loss')\n",
    "plt.plot(val_cps_losses, label='Val Loss')\n",
    "plt.title('Cps Loss')\n",
    "plt.legend()\n",
    "\n",
    "plt.subplot(2, 3, 5)\n",
    "plt.plot(train_all_losses, label='Train Loss')\n",
    "plt.plot(val_all_losses, label='Val Loss')\n",
    "plt.title('All Loss')\n",
    "plt.legend()\n",
    "\n",
    "plt.savefig(\"./graphs/MultiTaskV3.1_loss.png\")  \n",
    "\n",
    "plt.show()"
   ]
  },
  {
   "cell_type": "code",
   "execution_count": 10,
   "id": "36e46110-6b35-4d63-89cc-5717ef84e7ae",
   "metadata": {},
   "outputs": [
    {
     "data": {
      "image/png": "[encoded data removed]",
      "text/plain": [
       "<Figure size 1600x800 with 4 Axes>"
      ]
     },
     "metadata": {},
     "output_type": "display_data"
    }
   ],
   "source": [
    "#PLOT ACCURACY\n",
    "\n",
    "plt.figure(figsize=(16,8))\n",
    "\n",
    "plt.subplot(2, 2, 1)\n",
    "plt.plot(train_mask_acc, label='Train Acc')\n",
    "plt.plot(val_mask_acc, label='Val Acc')\n",
    "plt.title('Cloud Mask Acc')\n",
    "plt.legend()\n",
    "\n",
    "plt.subplot(2, 2, 2)\n",
    "plt.plot(train_phase_acc, label='Train Acc')\n",
    "plt.plot(val_phase_acc, label='Val Acc')\n",
    "plt.title('Cloud Phase Acc')\n",
    "plt.legend()\n",
    "\n",
    "plt.subplot(2, 2, 3)\n",
    "plt.plot(train_cod_r2, label='Train R2')\n",
    "plt.plot(val_cod_r2, label='Val R2')\n",
    "plt.title('Cod R2')\n",
    "plt.legend()\n",
    "\n",
    "plt.subplot(2, 2, 4)\n",
    "plt.plot(train_cps_r2, label='Train R2')\n",
    "plt.plot(val_cps_r2, label='Val R2')\n",
    "plt.title('Cps R2')\n",
    "plt.legend()\n",
    "\n",
    "plt.savefig(\"./graphs/MultiTaskV3.1_acc.png\")  \n",
    "\n",
    "plt.show()\n"
   ]
  },
  {
   "cell_type": "code",
   "execution_count": 11,
   "id": "7d01ec0a-c88e-4822-b121-21e305efa5ec",
   "metadata": {},
   "outputs": [
    {
     "name": "stderr",
     "output_type": "stream",
     "text": [
      "100%|██████████| 12/12 [00:02<00:00,  5.63it/s]\n"
     ]
    },
    {
     "name": "stdout",
     "output_type": "stream",
     "text": [
      "CLOUD MASK REPORT:\n",
      "               precision    recall  f1-score   support\n",
      "\n",
      "           0      0.934     0.929     0.931   5803166\n",
      "           1      0.978     0.980     0.979  18740066\n",
      "\n",
      "    accuracy                          0.968  24543232\n",
      "   macro avg      0.956     0.954     0.955  24543232\n",
      "weighted avg      0.968     0.968     0.968  24543232\n",
      "\n",
      "CONFUSION MATRIX:\n",
      " [[ 5389688   413478]\n",
      " [  380642 18359424]]\n",
      "\n",
      "IOU: [0.87158075 0.95853927]\n",
      "Unweighted IoU: 0.9150600066436403\n",
      "Weighted IoU: 0.9379782117765104\n"
     ]
    }
   ],
   "source": [
    "# MODEL EVALUATION — CLOUD MASK\n",
    "\n",
    "all_preds = []\n",
    "all_labels = []\n",
    "\n",
    "model.eval()\n",
    "with torch.no_grad():\n",
    "    for images, labels in tqdm(test_loader):\n",
    "        images = images.to(device)\n",
    "        labels = labels.to(device)\n",
    "\n",
    "        cloud_mask_target, _, _, _ = unpack_labels(labels)\n",
    "        cloud_mask_pred, _, _, _ = model(images)\n",
    "\n",
    "        probs = torch.sigmoid(cloud_mask_pred)\n",
    "        preds = (probs > 0.5).long()\n",
    "\n",
    "        all_preds.append(preds.cpu().numpy())\n",
    "        all_labels.append(cloud_mask_target.cpu().numpy())\n",
    "\n",
    "# Flatten predictions and labels\n",
    "all_preds = np.concatenate([p.flatten() for p in all_preds])\n",
    "all_labels = np.concatenate([l.flatten() for l in all_labels])\n",
    "\n",
    "# Classification report and IoU\n",
    "report = classification_report(\n",
    "    all_labels, all_preds,\n",
    "    labels=[0, 1],\n",
    "    digits=3,\n",
    "    output_dict=True,\n",
    "    zero_division=0\n",
    ")\n",
    "f1_scores = np.array([report[str(i)]['f1-score'] for i in range(2)])\n",
    "supports = np.array([report[str(i)]['support'] for i in range(2)])\n",
    "iou = f1_scores / (2 - f1_scores)\n",
    "\n",
    "\n",
    "# Output\n",
    "print(\"CLOUD MASK REPORT:\\n\", classification_report(all_labels, all_preds, labels=[0, 1], digits=3))\n",
    "print(\"CONFUSION MATRIX:\\n\", confusion_matrix(all_labels, all_preds, labels=[0, 1]))\n",
    "print(\"\\nIOU:\", iou)\n",
    "print(\"Unweighted IoU:\", np.mean(iou))\n",
    "print(\"Weighted IoU:\", np.average(iou, weights=supports))"
   ]
  },
  {
   "cell_type": "code",
   "execution_count": 12,
   "id": "e4a14322-3e69-4a28-b34c-21ebb0372a5b",
   "metadata": {},
   "outputs": [
    {
     "name": "stderr",
     "output_type": "stream",
     "text": [
      "100%|██████████| 12/12 [00:01<00:00,  6.43it/s]\n"
     ]
    },
    {
     "name": "stdout",
     "output_type": "stream",
     "text": [
      "CLOUD PHASE REPORT:\n",
      "               precision    recall  f1-score   support\n",
      "\n",
      "           0      0.889     0.917     0.902   4373397\n",
      "           1      0.900     0.923     0.911  10864796\n",
      "           2      0.775     0.859     0.815   2400565\n",
      "           3      0.568     0.444     0.499    890044\n",
      "           4      0.928     0.853     0.889   6014430\n",
      "\n",
      "    accuracy                          0.881  24543232\n",
      "   macro avg      0.812     0.799     0.803  24543232\n",
      "weighted avg      0.880     0.881     0.880  24543232\n",
      "\n",
      "CONFUSION MATRIX:\n",
      " [[ 4008472   316149    20053     3960    24763]\n",
      " [  435069 10030679   179944    13397   205707]\n",
      " [    4482   221042  2061742    79020    34279]\n",
      " [     773    64153   296961   395330   132827]\n",
      " [   61238   518300   100176   203905  5130811]]\n",
      "\n",
      "IOU: [0.82225758 0.83697519 0.68777486 0.3321191  0.80018812]\n",
      "Unweighted IoU: 0.6958629698432879\n",
      "Weighted IoU: 0.7924362960315154\n"
     ]
    }
   ],
   "source": [
    "# MODEL EVALUATION — CLOUD PHASE\n",
    "\n",
    "num_classes = 5\n",
    "\n",
    "all_preds = []\n",
    "all_labels = []\n",
    "\n",
    "model.eval()\n",
    "with torch.no_grad():\n",
    "    for images, labels in tqdm(test_loader):\n",
    "        images = images.to(device)\n",
    "        labels = labels.to(device)\n",
    "\n",
    "        _, cloud_phase_target, _, _ = unpack_labels(labels)\n",
    "        _, cloud_phase_pred, _, _ = model(images)\n",
    "        preds = torch.argmax(cloud_phase_pred, dim=1)\n",
    "\n",
    "        all_preds.append(preds.cpu().numpy())\n",
    "        all_labels.append(cloud_phase_target.cpu().numpy())\n",
    "        \n",
    "# Flatten predictions and labels\n",
    "all_preds = np.concatenate([p.flatten() for p in all_preds])\n",
    "all_labels = np.concatenate([l.flatten() for l in all_labels])\n",
    "\n",
    "# Classification report and IoU\n",
    "report = classification_report(all_labels, all_preds, digits=3, output_dict=True)\n",
    "f1_scores = np.array([report[str(i)]['f1-score'] for i in range(num_classes)])\n",
    "supports = np.array([report[str(i)]['support'] for i in range(num_classes)])\n",
    "iou = f1_scores / (2 - f1_scores)\n",
    "\n",
    "# Output\n",
    "print(\"CLOUD PHASE REPORT:\\n\", classification_report(all_labels, all_preds, digits=3))\n",
    "print(\"CONFUSION MATRIX:\\n\", confusion_matrix(all_labels, all_preds))\n",
    "print(\"\\nIOU:\", iou)\n",
    "print(\"Unweighted IoU:\", np.mean(iou))\n",
    "print(\"Weighted IoU:\", np.average(iou, weights=supports))\n"
   ]
  },
  {
   "cell_type": "code",
   "execution_count": 13,
   "id": "6bdea56d-5534-4e12-9666-1becdfa2ba74",
   "metadata": {},
   "outputs": [
    {
     "name": "stderr",
     "output_type": "stream",
     "text": [
      "100%|██████████| 12/12 [00:02<00:00,  5.95it/s]\n"
     ]
    },
    {
     "name": "stdout",
     "output_type": "stream",
     "text": [
      "r2: 0.7694043517112732\n",
      "MSE: 0.2654716968536377\n"
     ]
    }
   ],
   "source": [
    "# MODEL EVALUATION — CLOUD OPTICAL DISTANCE\n",
    "\n",
    "all_preds = []\n",
    "all_labels = []\n",
    "\n",
    "model.eval()\n",
    "with torch.no_grad():\n",
    "    for images, labels in tqdm(test_loader):\n",
    "        images = images.to(device).float()\n",
    "        labels = labels.to(device)\n",
    "\n",
    "        _, _, cod_target, _ = unpack_labels(labels)\n",
    "        _, _, cod_pred, _ = model(images)\n",
    "        \n",
    "        all_preds.append(cod_pred.cpu().numpy().reshape(-1))\n",
    "        all_labels.append(cod_target.cpu().numpy().reshape(-1))\n",
    "\n",
    "all_preds = np.concatenate(all_preds)\n",
    "all_labels = np.concatenate(all_labels)\n",
    "\n",
    "print(\"r2:\", r2_score(all_labels, all_preds))\n",
    "print(\"MSE:\", mean_squared_error(all_labels, all_preds))"
   ]
  },
  {
   "cell_type": "code",
   "execution_count": 14,
   "id": "1e4a4a78-6c7a-410c-b734-b58984a85f26",
   "metadata": {},
   "outputs": [
    {
     "name": "stderr",
     "output_type": "stream",
     "text": [
      "100%|██████████| 12/12 [00:01<00:00,  6.81it/s]\n"
     ]
    },
    {
     "name": "stdout",
     "output_type": "stream",
     "text": [
      "r2: 0.7813034057617188\n",
      "MSE: 0.5253880620002747\n"
     ]
    }
   ],
   "source": [
    "# MODEL EVALUATION — CLOUD PARTICLE SIZE\n",
    "\n",
    "all_preds = []\n",
    "all_labels = []\n",
    "\n",
    "model.eval()\n",
    "with torch.no_grad():\n",
    "    for images, labels in tqdm(test_loader):\n",
    "        images = images.to(device).float()\n",
    "        labels = labels.to(device)\n",
    "\n",
    "        _, _, _, cps_target = unpack_labels(labels)\n",
    "        _, _, _, cps_pred = model(images)\n",
    "        \n",
    "        all_preds.append(cps_pred.cpu().numpy().reshape(-1))\n",
    "        all_labels.append(cps_target.cpu().numpy().reshape(-1))\n",
    "\n",
    "all_preds = np.concatenate(all_preds)\n",
    "all_labels = np.concatenate(all_labels)\n",
    "\n",
    "print(\"r2:\", r2_score(all_labels, all_preds))\n",
    "print(\"MSE:\", mean_squared_error(all_labels, all_preds))"
   ]
  },
  {
   "cell_type": "code",
   "execution_count": null,
   "id": "6845b251-8b71-407b-9e94-f52549f51b6a",
   "metadata": {},
   "outputs": [],
   "source": [
    "# my_image = images[0].cpu().numpy()\n",
    "# my_image = np.transpose(my_image, (1, 2, 0))\n",
    "# phase_pred = preds[0].cpu().numpy()\n",
    "# phase_target = cloud_phase_target[0].cpu().numpy()\n",
    "\n",
    "\n",
    "\n",
    "# from netCDF4 import Dataset\n",
    "# import numpy as np\n",
    "\n",
    "\n",
    "# with Dataset('./maps/image1.nc', 'w', format='NETCDF4') as ds:\n",
    "#     ds.createDimension('x', my_image.shape[0])\n",
    "#     ds.createDimension('y', my_image.shape[1])\n",
    "#     ds.createDimension('band', my_image.shape[2])\n",
    "\n",
    "#     var = ds.createVariable('radiance', 'f4', ('x', 'y', 'band'))\n",
    "#     var[:] = my_image\n",
    "\n",
    "#     var.units = 'unknown'  # optional metadata\n",
    "\n",
    "# with Dataset('./maps/image2.nc', 'w', format='NETCDF4') as ds:\n",
    "#     ds.createDimension('x', phase_pred.shape[0])\n",
    "#     ds.createDimension('y', phase_pred.shape[1])\n",
    "\n",
    "#     var = ds.createVariable('prediction', 'f4', ('x', 'y'))\n",
    "#     var[:] = phase_pred\n",
    "\n",
    "#     var.units = 'unknown'  # optional metadata\n",
    "\n",
    "\n",
    "# with Dataset('./maps/image3.nc', 'w', format='NETCDF4') as ds:\n",
    "#     ds.createDimension('x', phase_target.shape[0])\n",
    "#     ds.createDimension('y', phase_target.shape[1])\n",
    "\n",
    "#     var = ds.createVariable('target', 'f4', ('x', 'y'))\n",
    "#     var[:] = phase_target\n",
    "\n",
    "#     var.units = 'unknown'  # optional metadata\n",
    "\n"
   ]
  }
 ],
 "metadata": {
  "kernelspec": {
   "display_name": "Python 3 (ipykernel)",
   "language": "python",
   "name": "python3"
  },
  "language_info": {
   "codemirror_mode": {
    "name": "ipython",
    "version": 3
   },
   "file_extension": ".py",
   "mimetype": "text/x-python",
   "name": "python",
   "nbconvert_exporter": "python",
   "pygments_lexer": "ipython3",
   "version": "3.12.11"
  }
 },
 "nbformat": 4,
 "nbformat_minor": 5
}
