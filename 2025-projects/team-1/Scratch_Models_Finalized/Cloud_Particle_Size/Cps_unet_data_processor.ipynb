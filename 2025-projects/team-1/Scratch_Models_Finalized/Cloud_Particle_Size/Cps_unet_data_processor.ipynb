{
 "cells": [
  {
   "cell_type": "code",
   "execution_count": 1,
   "id": "2f360b53-414e-4677-a156-347f494e6335",
   "metadata": {},
   "outputs": [],
   "source": [
    "#IMPORTS\n",
    "\n",
    "#File IO\n",
    "import os\n",
    "import glob\n",
    "\n",
    "#Data manipulation\n",
    "import numpy as np\n",
    "\n",
    "#Pytorch\n",
    "import torch\n",
    "from torch.utils.data import TensorDataset, DataLoader, random_split\n",
    "\n",
    "#Misc\n",
    "from tqdm import tqdm\n"
   ]
  },
  {
   "cell_type": "code",
   "execution_count": 2,
   "id": "e1623c92-96f3-43de-a238-2df687ffb0f1",
   "metadata": {},
   "outputs": [],
   "source": [
    "#GET TARGET DATA\n",
    "\n",
    "def get_cps(file):\n",
    "    data = np.load(file)\n",
    "    bands = data['rad']\n",
    "    cps = np.log1p(data['l2_cps']),  # log(1 + cps)\n",
    "    return bands, cps"
   ]
  },
  {
   "cell_type": "code",
   "execution_count": 3,
   "id": "6ffaf736-a3bc-49a3-b403-4914f1d11bec",
   "metadata": {},
   "outputs": [
    {
     "name": "stderr",
     "output_type": "stream",
     "text": [
      "14973it [09:12, 27.10it/s]\n"
     ]
    }
   ],
   "source": [
    "#CREATE DATASET\n",
    "\n",
    "max_images = 15000\n",
    "file_list = glob.glob('../ABI_Data_Scaled/*.npz')\n",
    "\n",
    "X = []\n",
    "y = []\n",
    "\n",
    "for i, file in tqdm(enumerate(file_list)):\n",
    "    features, target = get_cps(file)\n",
    "    X.append(features)\n",
    "    y.append(target)\n",
    "    if i == max_images-1: break\n",
    "\n",
    "X = np.stack(X)  # shape: (Samples, 128, 128, 16)\n",
    "X = torch.from_numpy(X).float()\n",
    "X = X.permute(0, 3, 1, 2)  # shape: (Samples, 16, 128, 128)\n",
    "\n",
    "y = np.stack(y)\n",
    "y = torch.from_numpy(y).unsqueeze(1).float()\n",
    "\n",
    "\n",
    "dataset = TensorDataset(X, y)\n",
    "torch.save(dataset, \"cps_unet_dataset.pt\")"
   ]
  },
  {
   "cell_type": "code",
   "execution_count": null,
   "id": "a6cc066b-5e45-4f91-86cf-b3e4536d88e4",
   "metadata": {},
   "outputs": [],
   "source": []
  }
 ],
 "metadata": {
  "kernelspec": {
   "display_name": "Python 3 (ipykernel)",
   "language": "python",
   "name": "python3"
  },
  "language_info": {
   "codemirror_mode": {
    "name": "ipython",
    "version": 3
   },
   "file_extension": ".py",
   "mimetype": "text/x-python",
   "name": "python",
   "nbconvert_exporter": "python",
   "pygments_lexer": "ipython3",
   "version": "3.12.11"
  }
 },
 "nbformat": 4,
 "nbformat_minor": 5
}
