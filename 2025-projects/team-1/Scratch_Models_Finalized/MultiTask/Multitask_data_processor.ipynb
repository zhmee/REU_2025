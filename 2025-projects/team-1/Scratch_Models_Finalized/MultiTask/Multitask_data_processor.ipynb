{
 "cells": [
  {
   "cell_type": "code",
   "execution_count": 2,
   "id": "e54f56c2-9e56-4c43-8ac7-1632968c4148",
   "metadata": {},
   "outputs": [],
   "source": [
    "#IMPORTS\n",
    "\n",
    "#File IO\n",
    "import os\n",
    "import glob\n",
    "\n",
    "#Data manipulation\n",
    "import numpy as np\n",
    "\n",
    "#Pytorch\n",
    "import torch\n",
    "from torch.utils.data import TensorDataset, DataLoader, random_split\n",
    "\n",
    "#Misc\n",
    "from tqdm import tqdm\n"
   ]
  },
  {
   "cell_type": "code",
   "execution_count": 2,
   "id": "1f637138-7a72-4e4b-b66d-c4129a08e960",
   "metadata": {},
   "outputs": [],
   "source": [
    "#GET TARGET DATA\n",
    "\n",
    "def get_features(file):\n",
    "    with np.load(file) as data:\n",
    "        bands = data['rad']\n",
    "        features = np.stack([\n",
    "            data['l2_cloud_mask'],\n",
    "            data['l2_cloud_phase'],\n",
    "            data['l2_cod'] * 0.001,\n",
    "            data['l2_cps'] * 0.001\n",
    "        ])\n",
    "    return bands, features"
   ]
  },
  {
   "cell_type": "code",
   "execution_count": 1,
   "id": "0af37ff9-2fb5-4cc9-9659-cc8230b087e9",
   "metadata": {},
   "outputs": [
    {
     "ename": "NameError",
     "evalue": "name 'glob' is not defined",
     "output_type": "error",
     "traceback": [
      "\u001b[31m---------------------------------------------------------------------------\u001b[39m",
      "\u001b[31mNameError\u001b[39m                                 Traceback (most recent call last)",
      "\u001b[36mCell\u001b[39m\u001b[36m \u001b[39m\u001b[32mIn[1]\u001b[39m\u001b[32m, line 5\u001b[39m\n\u001b[32m      1\u001b[39m max_images = \u001b[32m15000\u001b[39m\n\u001b[32m      3\u001b[39m \u001b[38;5;66;03m#CREATE DATASET\u001b[39;00m\n\u001b[32m----> \u001b[39m\u001b[32m5\u001b[39m file_list = \u001b[43mglob\u001b[49m.glob(\u001b[33m'\u001b[39m\u001b[33m../ABI_Data_Scaled/*.npz\u001b[39m\u001b[33m'\u001b[39m)\n\u001b[32m      7\u001b[39m X = []\n\u001b[32m      8\u001b[39m y = []\n",
      "\u001b[31mNameError\u001b[39m: name 'glob' is not defined"
     ]
    }
   ],
   "source": [
    "max_images = 15000\n",
    "\n",
    "#CREATE DATASET\n",
    "\n",
    "file_list = glob.glob('../ABI_Data/*.npz')\n",
    "\n",
    "X = []\n",
    "y = []\n",
    "\n",
    "for i, file in tqdm(enumerate(file_list)):\n",
    "    features, target = get_features(file)\n",
    "    X.append(features)\n",
    "    y.append(target)\n",
    "    if i == max_images-1: break\n",
    "\n",
    "X = np.stack(X)  # shape: (Samples, 128, 128, 16)\n",
    "X = torch.from_numpy(X).float()\n",
    "X = X.permute(0, 3, 1, 2)  # shape: (Samples, 16, 128, 128)\n",
    "\n",
    "\n",
    "y = np.stack(y)\n",
    "y = torch.from_numpy(y).float() # shape: (Samples, 4, 128, 128)\n",
    "\n",
    "dataset = TensorDataset(X, y)\n",
    "torch.save(dataset, \"dataset.pt\")"
   ]
  },
  {
   "cell_type": "code",
   "execution_count": null,
   "id": "239e21cb-f136-4e1e-acf4-186bbe91dfb4",
   "metadata": {},
   "outputs": [],
   "source": []
  }
 ],
 "metadata": {
  "kernelspec": {
   "display_name": "Python 3 (ipykernel)",
   "language": "python",
   "name": "python3"
  },
  "language_info": {
   "codemirror_mode": {
    "name": "ipython",
    "version": 3
   },
   "file_extension": ".py",
   "mimetype": "text/x-python",
   "name": "python",
   "nbconvert_exporter": "python",
   "pygments_lexer": "ipython3",
   "version": "3.12.11"
  }
 },
 "nbformat": 4,
 "nbformat_minor": 5
}
